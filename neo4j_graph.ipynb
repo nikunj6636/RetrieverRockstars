{
 "cells": [
  {
   "cell_type": "code",
   "execution_count": 1,
   "metadata": {},
   "outputs": [],
   "source": [
    "'''\n",
    "Force start Nvidia GPU: \n",
    "CUDA_VISIBLE_DEVICES=0 ollama run gemma2:2b\n",
    "'''\n",
    "\n",
    "import os\n",
    "from langchain_experimental.graph_transformers import LLMGraphTransformer\n",
    "from langchain_community.llms import Ollama\n",
    "from langchain_core.documents import Document\n",
    "from langchain.graphs import Neo4jGraph\n",
    "\n",
    "llm = Ollama(model=\"gemma2:2b\")\n",
    "\n",
    "text = \"\"\"\n",
    "Marie Curie, born in 1867, was a Polish and naturalised-French physicist and chemist who conducted pioneering research on radioactivity.\n",
    "She was the first woman to win a Nobel Prize, the first person to win a Nobel Prize twice, and the only person to win a Nobel Prize in two scientific fields.\n",
    "Her husband, Pierre Curie, was a co-winner of her first Nobel Prize, making them the first-ever married couple to win the Nobel Prize and launching the Curie family legacy of five Nobel Prizes.\n",
    "She was, in 1906, the first woman to become a professor at the University of Paris. \n",
    "\"\"\""
   ]
  },
  {
   "cell_type": "code",
   "execution_count": 42,
   "metadata": {},
   "outputs": [],
   "source": [
    "documents = [Document(page_content=text)]\n",
    "llm_transformer = LLMGraphTransformer(llm=llm)\n",
    "graph_documents = llm_transformer.convert_to_graph_documents(documents)"
   ]
  },
  {
   "cell_type": "code",
   "execution_count": 43,
   "metadata": {},
   "outputs": [
    {
     "name": "stdout",
     "output_type": "stream",
     "text": [
      "Nodes:[Node(id='Marie Curie', type='Relationship'), Node(id='University of Paris', type='Institution'), Node(id='Pierre Curie', type='Person'), Node(id='Nobel Prize', type='Prize'), Node(id='Radioactivity', type='Field of study'), Node(id='Person to win a Nobel Prize twice', type='Achievement'), Node(id='Marie Curie', type='Person'), Node(id='Woman to win a Nobel Prize', type='Achievement')]\n",
      "Relationships:[Relationship(source=Node(id='Marie Curie', type='Person'), target=Node(id='Woman to win a Nobel Prize', type='Achievement'), type='WAS_THE_FIRST'), Relationship(source=Node(id='Marie Curie', type='Person'), target=Node(id='Radioactivity', type='Field of study'), type='CONDUCTED_RESEARCH'), Relationship(source=Node(id='Marie Curie', type='Person'), target=Node(id='Person to win a Nobel Prize twice', type='Achievement'), type='WAS_THE_FIRST'), Relationship(source=Node(id='Pierre Curie', type='Person'), target=Node(id='Nobel Prize', type='Prize'), type='CO-WINNER'), Relationship(source=Node(id='Pierre Curie', type='Person'), target=Node(id='Marie Curie', type='Relationship'), type='WIFE_OF'), Relationship(source=Node(id='Pierre Curie', type='Person'), target=Node(id='Nobel Prize', type='Prize'), type='CO-WINNER'), Relationship(source=Node(id='Marie Curie', type='Person'), target=Node(id='University of Paris', type='Institution'), type='FIRST_WOMAN_PROFESSOR')]\n"
     ]
    }
   ],
   "source": [
    "print(f\"Nodes:{graph_documents[0].nodes}\")\n",
    "print(f\"Relationships:{graph_documents[0].relationships}\")"
   ]
  },
  {
   "cell_type": "markdown",
   "metadata": {},
   "source": [
    "To configure apoc: add lines in these files\n",
    "```\n",
    "sudo vim /etc/neo4j/apoc.conf\n",
    "sudo vim /etc/neo4j/neo4j.conf\n",
    "```\n",
    "\n",
    "sudo systemctl status neo4j\n",
    "restart\n",
    "stop\n",
    "start\n",
    "\n",
    "\n",
    "To dump the database\n",
    "```\n",
    "sudo neo4j-admin database dump neo4j --to-path=.\n",
    "```\n",
    "\n",
    "To load the database (https://neo4j.com/labs/apoc/4.1/export/)\n",
    "```\n",
    "sudo neo4j-admin database load neo4j --from-path=. --overwrite-destination=true\n",
    "```\n",
    "\n",
    "To use cypher terminal:\n",
    "```\n",
    "cypher-shell -u neo4j -p 05673049\n",
    "```\n",
    "\n",
    "How to switch bw databases: \\\n",
    "https://community.neo4j.com/t/create-multiple-databases-in-community-version/5025/4"
   ]
  },
  {
   "cell_type": "code",
   "execution_count": 2,
   "metadata": {},
   "outputs": [],
   "source": [
    "os.environ[\"NEO4J_URI\"] = \"bolt://localhost:7687\"\n",
    "os.environ[\"NEO4J_USERNAME\"] = \"neo4j\"\n",
    "os.environ[\"NEO4J_PASSWORD\"] = \"05673049\"\n",
    "graph = Neo4jGraph()"
   ]
  },
  {
   "cell_type": "code",
   "execution_count": 61,
   "metadata": {},
   "outputs": [],
   "source": [
    "graph.add_graph_documents(\n",
    "    graph_documents,\n",
    "    baseEntityLabel=True,\n",
    "    include_source=True\n",
    ")"
   ]
  },
  {
   "cell_type": "markdown",
   "metadata": {},
   "source": [
    "### Visualize the stored graph nodes"
   ]
  },
  {
   "cell_type": "code",
   "execution_count": 3,
   "metadata": {},
   "outputs": [
    {
     "data": {
      "application/vnd.jupyter.widget-view+json": {
       "model_id": "3848be5ef08f48988173d7c0e34dceae",
       "version_major": 2,
       "version_minor": 0
      },
      "text/plain": [
       "GraphWidget(layout=Layout(height='500px', width='100%'))"
      ]
     },
     "metadata": {},
     "output_type": "display_data"
    }
   ],
   "source": [
    "from neo4j import GraphDatabase\n",
    "from yfiles_jupyter_graphs import GraphWidget\n",
    "\n",
    "default_cypher = \"MATCH (s)-[r:!MENTIONS]->(t) RETURN s,r,t LIMIT 50\"\n",
    "def showGraph(cypher: str = default_cypher):\n",
    "    driver = GraphDatabase.driver(\n",
    "        uri = os.environ[\"NEO4J_URI\"],\n",
    "        auth = (os.environ[\"NEO4J_USERNAME\"], os.environ[\"NEO4J_PASSWORD\"])\n",
    "    )\n",
    "    session = driver.session()\n",
    "    widget = GraphWidget(graph = session.run(cypher).graph())\n",
    "    widget.node_label_mapping = 'id'\n",
    "    return widget\n",
    "\n",
    "showGraph()"
   ]
  },
  {
   "cell_type": "markdown",
   "metadata": {},
   "source": [
    "### Querying the Graph Database"
   ]
  },
  {
   "cell_type": "code",
   "execution_count": 4,
   "metadata": {},
   "outputs": [],
   "source": [
    "from langchain_core.prompts.prompt import PromptTemplate\n",
    "from langchain.chains import GraphCypherQAChain\n",
    "\n",
    "CYPHER_GENERATION_TEMPLATE = \"\"\"Task: Generate Cypher statement to query a graph database.\n",
    "...\n",
    "\"\"\"\n",
    "CYPHER_GENERATION_PROMPT = PromptTemplate(\n",
    "    input_variables=[\"schema\", \"question\"], template=CYPHER_GENERATION_TEMPLATE\n",
    ")\n",
    "\n",
    "CYPHER_QA_TEMPLATE = \"\"\"You are an assistant that helps to form nice and human understandable answers.\n",
    "...\n",
    "\"\"\"\n",
    "CYPHER_QA_PROMPT = PromptTemplate(\n",
    "    input_variables=[\"context\", \"question\"], template=CYPHER_QA_TEMPLATE\n",
    ")\n",
    "\n",
    "graph_chain = GraphCypherQAChain.from_llm(\n",
    "    llm=llm,\n",
    "    graph=graph, \n",
    "    cypher_prompt=CYPHER_GENERATION_PROMPT, \n",
    "    qa_prompt=CYPHER_QA_PROMPT,\n",
    "    verbose=True\n",
    ")\n"
   ]
  },
  {
   "cell_type": "code",
   "execution_count": null,
   "metadata": {},
   "outputs": [],
   "source": [
    "question = \"\"\"Who is Marie Curie?\"\"\"\n",
    "graph_chain.run(question)"
   ]
  }
 ],
 "metadata": {
  "kernelspec": {
   "display_name": "venv",
   "language": "python",
   "name": "python3"
  },
  "language_info": {
   "codemirror_mode": {
    "name": "ipython",
    "version": 3
   },
   "file_extension": ".py",
   "mimetype": "text/x-python",
   "name": "python",
   "nbconvert_exporter": "python",
   "pygments_lexer": "ipython3",
   "version": "3.10.12"
  }
 },
 "nbformat": 4,
 "nbformat_minor": 2
}
