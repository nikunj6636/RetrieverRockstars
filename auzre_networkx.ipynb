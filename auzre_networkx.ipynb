{
 "cells": [
  {
   "cell_type": "markdown",
   "metadata": {},
   "source": [
    "## Declare Azure LLM"
   ]
  },
  {
   "cell_type": "code",
   "execution_count": 1,
   "metadata": {},
   "outputs": [],
   "source": [
    "from langchain_openai import AzureChatOpenAI\n",
    "from dotenv import load_dotenv\n",
    "load_dotenv()\n",
    "\n",
    "llm = AzureChatOpenAI(\n",
    "    azure_deployment=\"gpt-35-turbo\",  \n",
    "    api_version=\"2024-08-01-preview\", \n",
    "    temperature=0.7,\n",
    "    max_tokens=None,\n",
    "    timeout=None,\n",
    "    max_retries=2,\n",
    ")"
   ]
  },
  {
   "cell_type": "code",
   "execution_count": 3,
   "metadata": {},
   "outputs": [
    {
     "name": "stdout",
     "output_type": "stream",
     "text": [
      "575\n"
     ]
    }
   ],
   "source": [
    "from langchain_experimental.graph_transformers import LLMGraphTransformer\n",
    "from langchain_core.documents import Document\n",
    "\n",
    "text = \"\"\"\n",
    "Marie Curie, born in 1867, was a Polish and naturalised-French physicist and chemist who conducted pioneering research on radioactivity.\n",
    "She was the first woman to win a Nobel Prize, the first person to win a Nobel Prize twice, and the only person to win a Nobel Prize in two scientific fields.\n",
    "Her husband, Pierre Curie, was a co-winner of her first Nobel Prize, making them the first-ever married couple to win the Nobel Prize and launching the Curie family legacy of five Nobel Prizes.\n",
    "She was, in 1906, the first woman to become a professor at the University of Paris. \n",
    "\"\"\"\n",
    "print(len(text))"
   ]
  },
  {
   "cell_type": "code",
   "execution_count": null,
   "metadata": {},
   "outputs": [],
   "source": [
    "# documents = [Document(page_content=text)]\n",
    "# llm_transformer = LLMGraphTransformer(llm=llm)\n",
    "# graph_documents = llm_transformer.convert_to_graph_documents(documents)"
   ]
  },
  {
   "cell_type": "code",
   "execution_count": null,
   "metadata": {},
   "outputs": [
    {
     "name": "stdout",
     "output_type": "stream",
     "text": [
      "Nodes:[Node(id='Marie Curie', type='Person'), Node(id='1867', type='Year'), Node(id='Polish', type='Nationality'), Node(id='French', type='Nationality'), Node(id='Physicist', type='Occupation'), Node(id='Chemist', type='Occupation'), Node(id='Radioactivity', type='Field of study'), Node(id='Nobel Prize', type='Award'), Node(id='First Woman', type='Achievement'), Node(id='First Person', type='Achievement'), Node(id='Two Scientific Fields', type='Achievement'), Node(id='Pierre Curie', type='Person'), Node(id='Married Couple', type='Relationship'), Node(id='University Of Paris', type='University')]\n",
      "Relationships:[Relationship(source=Node(id='Marie Curie', type='Person'), target=Node(id='1867', type='Year'), type='BORN_IN'), Relationship(source=Node(id='Marie Curie', type='Person'), target=Node(id='Polish', type='Nationality'), type='HAS_NATIONALITY'), Relationship(source=Node(id='Marie Curie', type='Person'), target=Node(id='French', type='Nationality'), type='HAS_NATIONALITY'), Relationship(source=Node(id='Marie Curie', type='Person'), target=Node(id='Physicist', type='Occupation'), type='HAS_OCCUPATION'), Relationship(source=Node(id='Marie Curie', type='Person'), target=Node(id='Chemist', type='Occupation'), type='HAS_OCCUPATION'), Relationship(source=Node(id='Marie Curie', type='Person'), target=Node(id='Radioactivity', type='Field of study'), type='CONDUCTED_RESEARCH_ON'), Relationship(source=Node(id='Marie Curie', type='Person'), target=Node(id='Nobel Prize', type='Award'), type='WON'), Relationship(source=Node(id='Marie Curie', type='Person'), target=Node(id='First Woman', type='Achievement'), type='WAS'), Relationship(source=Node(id='Marie Curie', type='Person'), target=Node(id='First Person', type='Achievement'), type='WAS'), Relationship(source=Node(id='Marie Curie', type='Person'), target=Node(id='Two Scientific Fields', type='Achievement'), type='WAS'), Relationship(source=Node(id='Pierre Curie', type='Person'), target=Node(id='Marie Curie', type='Person'), type='CO-WINNER_OF'), Relationship(source=Node(id='Pierre Curie', type='Person'), target=Node(id='Nobel Prize', type='Award'), type='CO-WINNER_OF'), Relationship(source=Node(id='Pierre Curie', type='Person'), target=Node(id='Married Couple', type='Relationship'), type='WAS'), Relationship(source=Node(id='Marie Curie', type='Person'), target=Node(id='Married Couple', type='Relationship'), type='WAS'), Relationship(source=Node(id='University Of Paris', type='University'), target=Node(id='Marie Curie', type='Person'), type='BECAME_PROFESSOR_AT')]\n"
     ]
    }
   ],
   "source": [
    "# print(f\"Nodes:{graph_documents[0].nodes}\")\n",
    "# print(f\"Relationships:{graph_documents[0].relationships}\")"
   ]
  },
  {
   "cell_type": "code",
   "execution_count": null,
   "metadata": {},
   "outputs": [],
   "source": [
    "# from langchain_community.graphs.networkx_graph import NetworkxEntityGraph\n",
    "\n",
    "# graph = NetworkxEntityGraph()\n",
    "\n",
    "# # Add nodes to the graph\n",
    "# for node in graph_documents[0].nodes:\n",
    "#     graph.add_node(node.id)\n",
    "\n",
    "# # Add edges to the graphnx.write_gpickle(G,'myGraph.gpickle')\n",
    "# for edge in graph_documents[0].relationships:\n",
    "#     graph._graph.add_edge(\n",
    "#             edge.source.id,\n",
    "#             edge.target.id,\n",
    "#             relation=edge.type,\n",
    "#         )"
   ]
  },
  {
   "cell_type": "code",
   "execution_count": 5,
   "metadata": {},
   "outputs": [],
   "source": [
    "import pickle\n",
    "\n",
    "# save graph object to file\n",
    "# pickle.dump(graph, open('marie_azure.pickle', 'wb'))"
   ]
  },
  {
   "cell_type": "code",
   "execution_count": 11,
   "metadata": {},
   "outputs": [],
   "source": [
    "# load graph object from file\n",
    "graph = pickle.load(open('marie_azure.pickle', 'rb'))"
   ]
  },
  {
   "cell_type": "code",
   "execution_count": 12,
   "metadata": {},
   "outputs": [],
   "source": [
    "from langchain.chains import GraphQAChain\n",
    "\n",
    "chain = GraphQAChain.from_llm(\n",
    "    llm=llm, \n",
    "    graph=graph, \n",
    "    verbose=True\n",
    ")"
   ]
  },
  {
   "cell_type": "code",
   "execution_count": 13,
   "metadata": {},
   "outputs": [
    {
     "name": "stdout",
     "output_type": "stream",
     "text": [
      "\n",
      "\n",
      "\u001b[1m> Entering new GraphQAChain chain...\u001b[0m\n",
      "Entities Extracted:\n",
      "\u001b[32;1m\u001b[1;3mMarie Curie, Nobel Prize\u001b[0m\n",
      "Full Context:\n",
      "\u001b[32;1m\u001b[1;3mMarie Curie BORN_IN 1867\n",
      "Marie Curie HAS_NATIONALITY Polish\n",
      "Marie Curie HAS_NATIONALITY French\n",
      "Marie Curie WORKED_AS Physicist\n",
      "Marie Curie WORKED_AS Chemist\n",
      "Marie Curie CONDUCTED_RESEARCH_ON Radioactivity\n",
      "Marie Curie WON Nobel Prize\n",
      "Marie Curie WON Nobel Prize In Two Scientific Fields\n",
      "Marie Curie WAS_PART_OF Married Couple\n",
      "Marie Curie BECAME_PROFESSOR_AT University Of Paris\u001b[0m\n",
      "\n",
      "\u001b[1m> Finished chain.\u001b[0m\n"
     ]
    },
    {
     "data": {
      "text/plain": [
       "'Marie Curie won the Nobel Prize in Physics and Chemistry.'"
      ]
     },
     "execution_count": 13,
     "metadata": {},
     "output_type": "execute_result"
    }
   ],
   "source": [
    "question = \"\"\"\n",
    "In which two field did Marie curie won Nobel Prize?\n",
    "\"\"\"\n",
    "chain.run(question)"
   ]
  },
  {
   "cell_type": "code",
   "execution_count": 16,
   "metadata": {},
   "outputs": [
    {
     "name": "stdout",
     "output_type": "stream",
     "text": [
      "\n",
      "\n",
      "\u001b[1m> Entering new GraphQAChain chain...\u001b[0m\n",
      "Entities Extracted:\n",
      "\u001b[32;1m\u001b[1;3mNONE\u001b[0m\n",
      "Full Context:\n",
      "\u001b[32;1m\u001b[1;3m\u001b[0m\n",
      "\n",
      "\u001b[1m> Finished chain.\u001b[0m\n"
     ]
    },
    {
     "data": {
      "text/plain": [
       "'Marie Curie was the first woman to become a professor.'"
      ]
     },
     "execution_count": 16,
     "metadata": {},
     "output_type": "execute_result"
    }
   ],
   "source": [
    "question = \"\"\"\n",
    "Who was the first woman to become professor?\n",
    "\"\"\"\n",
    "chain.run(question)"
   ]
  }
 ],
 "metadata": {
  "kernelspec": {
   "display_name": "venv",
   "language": "python",
   "name": "python3"
  },
  "language_info": {
   "codemirror_mode": {
    "name": "ipython",
    "version": 3
   },
   "file_extension": ".py",
   "mimetype": "text/x-python",
   "name": "python",
   "nbconvert_exporter": "python",
   "pygments_lexer": "ipython3",
   "version": "3.10.12"
  }
 },
 "nbformat": 4,
 "nbformat_minor": 2
}
