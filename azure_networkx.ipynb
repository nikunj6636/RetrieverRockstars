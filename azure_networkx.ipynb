{
 "cells": [
  {
   "cell_type": "code",
   "execution_count": 10,
   "metadata": {
    "_cell_guid": "b1076dfc-b9ad-4769-8c92-a6c4dae69d19",
    "_uuid": "8f2839f25d086af736a60e9eeb907d3b93b6e0e5",
    "execution": {
     "iopub.execute_input": "2023-12-02T06:21:14.121005Z",
     "iopub.status.busy": "2023-12-02T06:21:14.120297Z",
     "iopub.status.idle": "2023-12-02T06:22:43.798989Z",
     "shell.execute_reply": "2023-12-02T06:22:43.797735Z",
     "shell.execute_reply.started": "2023-12-02T06:21:14.120968Z"
    },
    "trusted": true
   },
   "outputs": [
    {
     "name": "stdout",
     "output_type": "stream",
     "text": [
      "Collecting pygraphviz\n",
      "  Using cached pygraphviz-1.14.tar.gz (106 kB)\n",
      "  Installing build dependencies ... \u001b[?25ldone\n",
      "\u001b[?25h  Getting requirements to build wheel ... \u001b[?25ldone\n",
      "\u001b[?25h  Preparing metadata (pyproject.toml) ... \u001b[?25ldone\n",
      "\u001b[?25hBuilding wheels for collected packages: pygraphviz\n",
      "  Building wheel for pygraphviz (pyproject.toml) ... \u001b[?25ldone\n",
      "\u001b[?25h  Created wheel for pygraphviz: filename=pygraphviz-1.14-cp310-cp310-linux_x86_64.whl size=168636 sha256=93e92ecac535d1cb8987ca62b5a5f1ad777713360ef46f81133ae7a2956f0215\n",
      "  Stored in directory: /home/nikunj/.cache/pip/wheels/61/ab/cd/e24a22c32830b8b4948c8887d8714d399f0f806f206a034698\n",
      "Successfully built pygraphviz\n",
      "Installing collected packages: pygraphviz\n",
      "Successfully installed pygraphviz-1.14\n",
      "Note: you may need to restart the kernel to use updated packages.\n"
     ]
    }
   ],
   "source": [
    "%pip install pygraphviz \n",
    "# neo4j langchain-experimental --q\n",
    "# # install the required libaries\n",
    "# ! pip install google-generativeai --quiet\n",
    "# ! pip install pypdf --quiet # required for LangChain pdf reader\n",
    "# #! pip install tiktoken --quiet # required for splitting document by number of tokens\n",
    "# ! pip install sentence_transformers --quiet # for creating embeddings"
   ]
  },
  {
   "cell_type": "markdown",
   "metadata": {},
   "source": [
    "### Loading text file (Parsed PDF into .txt file)"
   ]
  },
  {
   "cell_type": "code",
   "execution_count": null,
   "metadata": {
    "execution": {
     "iopub.execute_input": "2023-12-02T06:23:03.865561Z",
     "iopub.status.busy": "2023-12-02T06:23:03.865158Z",
     "iopub.status.idle": "2023-12-02T06:24:27.523059Z",
     "shell.execute_reply": "2023-12-02T06:24:27.522274Z",
     "shell.execute_reply.started": "2023-12-02T06:23:03.865531Z"
    },
    "trusted": true
   },
   "outputs": [],
   "source": [
    "from langchain_community.document_loaders import TextLoader\n",
    "\n",
    "Data_Book = './sample.txt'\n",
    "\n",
    "pdf_loader = TextLoader(file_path=Data_Book)\n",
    "Data_Book = pdf_loader.load_and_split()"
   ]
  },
  {
   "cell_type": "code",
   "execution_count": null,
   "metadata": {
    "execution": {
     "iopub.execute_input": "2023-12-02T06:24:27.525205Z",
     "iopub.status.busy": "2023-12-02T06:24:27.524846Z",
     "iopub.status.idle": "2023-12-02T06:24:27.532415Z",
     "shell.execute_reply": "2023-12-02T06:24:27.531471Z",
     "shell.execute_reply.started": "2023-12-02T06:24:27.525172Z"
    },
    "trusted": true
   },
   "outputs": [
    {
     "data": {
      "text/plain": [
       "1"
      ]
     },
     "execution_count": 2,
     "metadata": {},
     "output_type": "execute_result"
    }
   ],
   "source": [
    "len(Data_Book)"
   ]
  },
  {
   "cell_type": "code",
   "execution_count": null,
   "metadata": {
    "execution": {
     "iopub.execute_input": "2023-12-02T06:25:01.545417Z",
     "iopub.status.busy": "2023-12-02T06:25:01.545040Z",
     "iopub.status.idle": "2023-12-02T06:25:01.551750Z",
     "shell.execute_reply": "2023-12-02T06:25:01.550841Z",
     "shell.execute_reply.started": "2023-12-02T06:25:01.545389Z"
    },
    "trusted": true
   },
   "outputs": [
    {
     "data": {
      "text/plain": [
       "[Document(metadata={'source': './sample.txt'}, page_content='Marie Curie, born in 1867, was a Polish and naturalised-French physicist and chemist who conducted pioneering research on radioactivity.\\nShe was the first woman to win a Nobel Prize, the first person to win a Nobel Prize twice, and the only person to win a Nobel Prize in two scientific fields.\\nHer husband, Pierre Curie, was a co-winner of her first Nobel Prize, making them the first-ever married couple to win the Nobel Prize and launching the Curie family legacy of five Nobel Prizes.\\nShe was, in 1906, the first woman to become a professor at the University of Paris.')]"
      ]
     },
     "execution_count": 3,
     "metadata": {},
     "output_type": "execute_result"
    }
   ],
   "source": [
    "Data_Book[:5]"
   ]
  },
  {
   "cell_type": "code",
   "execution_count": null,
   "metadata": {
    "execution": {
     "iopub.execute_input": "2023-12-02T06:25:06.525364Z",
     "iopub.status.busy": "2023-12-02T06:25:06.524482Z",
     "iopub.status.idle": "2023-12-02T06:25:06.531059Z",
     "shell.execute_reply": "2023-12-02T06:25:06.530068Z",
     "shell.execute_reply.started": "2023-12-02T06:25:06.525326Z"
    },
    "trusted": true
   },
   "outputs": [
    {
     "data": {
      "text/plain": [
       "'Marie Curie, born in 1867, was a Polish and naturalised-French physicist and chemist who conducted pioneering research on radioactivity.\\nShe was the first woman to win a Nobel Prize, the first person to win a Nobel Prize twice, and the only person to win a Nobel Prize in two scientific fields.\\nHer husband, Pierre Curie, was a co-winner of her first Nobel Prize, making them the first-ever married couple to win the Nobel Prize and launching the Curie family legacy of five Nobel Prizes.\\nShe was, in 1906, the first woman to become a professor at the University of Paris.'"
      ]
     },
     "execution_count": 4,
     "metadata": {},
     "output_type": "execute_result"
    }
   ],
   "source": [
    "Data_Book[0].page_content"
   ]
  },
  {
   "cell_type": "markdown",
   "metadata": {},
   "source": [
    "### LLM using Azure OpenAI"
   ]
  },
  {
   "cell_type": "code",
   "execution_count": 5,
   "metadata": {
    "execution": {
     "iopub.execute_input": "2023-12-02T06:26:24.830367Z",
     "iopub.status.busy": "2023-12-02T06:26:24.829656Z",
     "iopub.status.idle": "2023-12-02T06:26:24.835021Z",
     "shell.execute_reply": "2023-12-02T06:26:24.833958Z",
     "shell.execute_reply.started": "2023-12-02T06:26:24.830333Z"
    },
    "trusted": true
   },
   "outputs": [],
   "source": [
    "from langchain_openai import AzureChatOpenAI\n",
    "from dotenv import load_dotenv\n",
    "load_dotenv()\n",
    "\n",
    "llm = AzureChatOpenAI(\n",
    "    azure_deployment=\"gpt-35-turbo\",  \n",
    "    api_version=\"2024-08-01-preview\", \n",
    "    temperature=0.7,\n",
    "    max_tokens=None,\n",
    "    timeout=None,\n",
    "    max_retries=2,\n",
    ")"
   ]
  },
  {
   "cell_type": "markdown",
   "metadata": {},
   "source": [
    "### Graph and GraphIndex Creation"
   ]
  },
  {
   "cell_type": "code",
   "execution_count": null,
   "metadata": {
    "execution": {
     "iopub.execute_input": "2023-12-02T06:26:28.436238Z",
     "iopub.status.busy": "2023-12-02T06:26:28.435727Z",
     "iopub.status.idle": "2023-12-02T06:26:35.454129Z",
     "shell.execute_reply": "2023-12-02T06:26:35.453311Z",
     "shell.execute_reply.started": "2023-12-02T06:26:28.436202Z"
    },
    "trusted": true
   },
   "outputs": [],
   "source": [
    "from langchain.indexes import GraphIndexCreator\n",
    "\n",
    "index_creator = GraphIndexCreator(llm=llm)\n",
    "\n",
    "graph = index_creator.from_text(Data_Book[0].page_content)"
   ]
  },
  {
   "cell_type": "markdown",
   "metadata": {},
   "source": [
    "### Triples - relationship in graphs"
   ]
  },
  {
   "cell_type": "code",
   "execution_count": 7,
   "metadata": {
    "execution": {
     "iopub.execute_input": "2023-12-02T06:26:39.050207Z",
     "iopub.status.busy": "2023-12-02T06:26:39.049495Z",
     "iopub.status.idle": "2023-12-02T06:26:39.057219Z",
     "shell.execute_reply": "2023-12-02T06:26:39.056338Z",
     "shell.execute_reply.started": "2023-12-02T06:26:39.050172Z"
    },
    "trusted": true
   },
   "outputs": [
    {
     "data": {
      "text/plain": [
       "[('Marie Curie', '1867', 'born in'),\n",
       " ('Marie Curie',\n",
       "  'Polish and naturalised-French physicist and chemist',\n",
       "  'was a'),\n",
       " ('Marie Curie', 'pioneering research on radioactivity', 'conducted'),\n",
       " ('Marie Curie', 'a Nobel Prize', 'was the first woman to win'),\n",
       " ('Marie Curie', 'a Nobel Prize twice', 'was the first person to win'),\n",
       " ('Marie Curie',\n",
       "  'a Nobel Prize in two scientific fields',\n",
       "  'was the only person to win'),\n",
       " ('Pierre Curie', 'her first Nobel Prize', 'was a co-winner of')]"
      ]
     },
     "execution_count": 7,
     "metadata": {},
     "output_type": "execute_result"
    }
   ],
   "source": [
    "graph.get_triples()"
   ]
  },
  {
   "cell_type": "markdown",
   "metadata": {},
   "source": [
    "### Visualizing a sample graph"
   ]
  },
  {
   "cell_type": "code",
   "execution_count": 11,
   "metadata": {
    "execution": {
     "iopub.execute_input": "2023-12-02T06:30:12.678341Z",
     "iopub.status.busy": "2023-12-02T06:30:12.677936Z",
     "iopub.status.idle": "2023-12-02T06:30:12.893632Z",
     "shell.execute_reply": "2023-12-02T06:30:12.892721Z",
     "shell.execute_reply.started": "2023-12-02T06:30:12.678312Z"
    },
    "trusted": true
   },
   "outputs": [
    {
     "data": {
      "image/svg+xml": [
       "<svg xmlns=\"http://www.w3.org/2000/svg\" xmlns:xlink=\"http://www.w3.org/1999/xlink\" width=\"1967pt\" height=\"116pt\" viewBox=\"0.00 0.00 1967.45 116.00\">\n",
       "<g id=\"graph0\" class=\"graph\" transform=\"scale(1 1) rotate(0) translate(4 112)\">\n",
       "<polygon fill=\"white\" stroke=\"transparent\" points=\"-4,4 -4,-112 1963.45,-112 1963.45,4 -4,4\"/>\n",
       "<!-- Marie Curie -->\n",
       "<g id=\"node1\" class=\"node\">\n",
       "<title>Marie Curie</title>\n",
       "<ellipse fill=\"none\" stroke=\"black\" cx=\"927.5\" cy=\"-90\" rx=\"66.5\" ry=\"18\"/>\n",
       "<text text-anchor=\"middle\" x=\"927.5\" y=\"-86.3\" font-family=\"Times,serif\" font-size=\"14.00\">Marie Curie</text>\n",
       "</g>\n",
       "<!-- 1867 -->\n",
       "<g id=\"node2\" class=\"node\">\n",
       "<title>1867</title>\n",
       "<ellipse fill=\"none\" stroke=\"black\" cx=\"34.5\" cy=\"-18\" rx=\"34.5\" ry=\"18\"/>\n",
       "<text text-anchor=\"middle\" x=\"34.5\" y=\"-14.3\" font-family=\"Times,serif\" font-size=\"14.00\">1867</text>\n",
       "</g>\n",
       "<!-- Marie Curie&#45;&gt;1867 -->\n",
       "<g id=\"edge1\" class=\"edge\">\n",
       "<title>Marie Curie-&gt;1867</title>\n",
       "<path fill=\"none\" stroke=\"black\" d=\"M861.57,-87.49C689.08,-83.11 227.54,-68.63 78.5,-36 75.65,-35.38 72.74,-34.6 69.84,-33.72\"/>\n",
       "<polygon fill=\"black\" stroke=\"black\" points=\"70.75,-30.33 60.15,-30.42 68.49,-36.95 70.75,-30.33\"/>\n",
       "</g>\n",
       "<!-- Polish and naturalised&#45;French physicist and chemist -->\n",
       "<g id=\"node3\" class=\"node\">\n",
       "<title>Polish and naturalised-French physicist and chemist</title>\n",
       "<ellipse fill=\"none\" stroke=\"black\" cx=\"340.5\" cy=\"-18\" rx=\"253.5\" ry=\"18\"/>\n",
       "<text text-anchor=\"middle\" x=\"340.5\" y=\"-14.3\" font-family=\"Times,serif\" font-size=\"14.00\">Polish and naturalised-French physicist and chemist</text>\n",
       "</g>\n",
       "<!-- Marie Curie&#45;&gt;Polish and naturalised&#45;French physicist and chemist -->\n",
       "<g id=\"edge2\" class=\"edge\">\n",
       "<title>Marie Curie-&gt;Polish and naturalised-French physicist and chemist</title>\n",
       "<path fill=\"none\" stroke=\"black\" d=\"M867.98,-81.9C776.18,-70.95 597.7,-49.67 473.94,-34.91\"/>\n",
       "<polygon fill=\"black\" stroke=\"black\" points=\"474.35,-31.44 464,-33.73 473.52,-38.39 474.35,-31.44\"/>\n",
       "</g>\n",
       "<!-- pioneering research on radioactivity -->\n",
       "<g id=\"node4\" class=\"node\">\n",
       "<title>pioneering research on radioactivity</title>\n",
       "<ellipse fill=\"none\" stroke=\"black\" cx=\"791.5\" cy=\"-18\" rx=\"179.5\" ry=\"18\"/>\n",
       "<text text-anchor=\"middle\" x=\"791.5\" y=\"-14.3\" font-family=\"Times,serif\" font-size=\"14.00\">pioneering research on radioactivity</text>\n",
       "</g>\n",
       "<!-- Marie Curie&#45;&gt;pioneering research on radioactivity -->\n",
       "<g id=\"edge3\" class=\"edge\">\n",
       "<title>Marie Curie-&gt;pioneering research on radioactivity</title>\n",
       "<path fill=\"none\" stroke=\"black\" d=\"M897.99,-73.81C879.07,-64.07 854.22,-51.29 833.29,-40.51\"/>\n",
       "<polygon fill=\"black\" stroke=\"black\" points=\"834.79,-37.34 824.29,-35.88 831.58,-43.57 834.79,-37.34\"/>\n",
       "</g>\n",
       "<!-- a Nobel Prize -->\n",
       "<g id=\"node5\" class=\"node\">\n",
       "<title>a Nobel Prize</title>\n",
       "<ellipse fill=\"none\" stroke=\"black\" cx=\"1062.45\" cy=\"-18\" rx=\"73.5\" ry=\"18\"/>\n",
       "<text text-anchor=\"middle\" x=\"1062.45\" y=\"-14.3\" font-family=\"Times,serif\" font-size=\"14.00\">a Nobel Prize</text>\n",
       "</g>\n",
       "<!-- Marie Curie&#45;&gt;a Nobel Prize -->\n",
       "<g id=\"edge4\" class=\"edge\">\n",
       "<title>Marie Curie-&gt;a Nobel Prize</title>\n",
       "<path fill=\"none\" stroke=\"black\" d=\"M956.79,-73.81C976.24,-63.72 1002.05,-50.36 1023.25,-39.36\"/>\n",
       "<polygon fill=\"black\" stroke=\"black\" points=\"1025.08,-42.35 1032.35,-34.64 1021.86,-36.14 1025.08,-42.35\"/>\n",
       "</g>\n",
       "<!-- a Nobel Prize twice -->\n",
       "<g id=\"node6\" class=\"node\">\n",
       "<title>a Nobel Prize twice</title>\n",
       "<ellipse fill=\"none\" stroke=\"black\" cx=\"1254.45\" cy=\"-18\" rx=\"100.98\" ry=\"18\"/>\n",
       "<text text-anchor=\"middle\" x=\"1254.45\" y=\"-14.3\" font-family=\"Times,serif\" font-size=\"14.00\">a Nobel Prize twice</text>\n",
       "</g>\n",
       "<!-- Marie Curie&#45;&gt;a Nobel Prize twice -->\n",
       "<g id=\"edge5\" class=\"edge\">\n",
       "<title>Marie Curie-&gt;a Nobel Prize twice</title>\n",
       "<path fill=\"none\" stroke=\"black\" d=\"M977.87,-78.22C1032.65,-66.5 1120.55,-47.68 1182.55,-34.41\"/>\n",
       "<polygon fill=\"black\" stroke=\"black\" points=\"1183.61,-37.76 1192.65,-32.25 1182.14,-30.92 1183.61,-37.76\"/>\n",
       "</g>\n",
       "<!-- a Nobel Prize in two scientific fields -->\n",
       "<g id=\"node7\" class=\"node\">\n",
       "<title>a Nobel Prize in two scientific fields</title>\n",
       "<ellipse fill=\"none\" stroke=\"black\" cx=\"1551.45\" cy=\"-18\" rx=\"178.17\" ry=\"18\"/>\n",
       "<text text-anchor=\"middle\" x=\"1551.45\" y=\"-14.3\" font-family=\"Times,serif\" font-size=\"14.00\">a Nobel Prize in two scientific fields</text>\n",
       "</g>\n",
       "<!-- Marie Curie&#45;&gt;a Nobel Prize in two scientific fields -->\n",
       "<g id=\"edge6\" class=\"edge\">\n",
       "<title>Marie Curie-&gt;a Nobel Prize in two scientific fields</title>\n",
       "<path fill=\"none\" stroke=\"black\" d=\"M987.61,-82.26C1088.45,-70.94 1293.75,-47.92 1426.75,-32.99\"/>\n",
       "<polygon fill=\"black\" stroke=\"black\" points=\"1427.5,-36.43 1437.05,-31.84 1426.73,-29.47 1427.5,-36.43\"/>\n",
       "</g>\n",
       "<!-- Pierre Curie -->\n",
       "<g id=\"node8\" class=\"node\">\n",
       "<title>Pierre Curie</title>\n",
       "<ellipse fill=\"none\" stroke=\"black\" cx=\"1853.45\" cy=\"-90\" rx=\"67.69\" ry=\"18\"/>\n",
       "<text text-anchor=\"middle\" x=\"1853.45\" y=\"-86.3\" font-family=\"Times,serif\" font-size=\"14.00\">Pierre Curie</text>\n",
       "</g>\n",
       "<!-- her first Nobel Prize -->\n",
       "<g id=\"node9\" class=\"node\">\n",
       "<title>her first Nobel Prize</title>\n",
       "<ellipse fill=\"none\" stroke=\"black\" cx=\"1853.45\" cy=\"-18\" rx=\"106\" ry=\"18\"/>\n",
       "<text text-anchor=\"middle\" x=\"1853.45\" y=\"-14.3\" font-family=\"Times,serif\" font-size=\"14.00\">her first Nobel Prize</text>\n",
       "</g>\n",
       "<!-- Pierre Curie&#45;&gt;her first Nobel Prize -->\n",
       "<g id=\"edge7\" class=\"edge\">\n",
       "<title>Pierre Curie-&gt;her first Nobel Prize</title>\n",
       "<path fill=\"none\" stroke=\"black\" d=\"M1853.45,-71.7C1853.45,-63.98 1853.45,-54.71 1853.45,-46.11\"/>\n",
       "<polygon fill=\"black\" stroke=\"black\" points=\"1856.95,-46.1 1853.45,-36.1 1849.95,-46.1 1856.95,-46.1\"/>\n",
       "</g>\n",
       "</g>\n",
       "</svg>"
      ],
      "text/plain": [
       "<IPython.core.display.SVG object>"
      ]
     },
     "execution_count": 11,
     "metadata": {},
     "output_type": "execute_result"
    }
   ],
   "source": [
    "from IPython.display import SVG\n",
    "graph.draw_graphviz(path=\"book.svg\")\n",
    "SVG('book.svg')"
   ]
  },
  {
   "cell_type": "markdown",
   "metadata": {},
   "source": [
    "### Creating graph for set of Page Contents"
   ]
  },
  {
   "cell_type": "code",
   "execution_count": null,
   "metadata": {
    "execution": {
     "iopub.execute_input": "2023-12-02T06:30:49.853036Z",
     "iopub.status.busy": "2023-12-02T06:30:49.852669Z",
     "iopub.status.idle": "2023-12-02T06:31:58.059935Z",
     "shell.execute_reply": "2023-12-02T06:31:58.059121Z",
     "shell.execute_reply.started": "2023-12-02T06:30:49.853010Z"
    },
    "trusted": true
   },
   "outputs": [],
   "source": [
    "graphs = [\n",
    "    index_creator.from_text(doc.page_content) \n",
    "    for doc in Data_Book\n",
    "]"
   ]
  },
  {
   "cell_type": "markdown",
   "metadata": {},
   "source": [
    "### compose(G, H) in networkx\n",
    "Compose graph G with H by combining nodes and edges into a single graph.\n",
    "\n",
    "Returns\n",
    "A new graph with the same type as G"
   ]
  },
  {
   "cell_type": "code",
   "execution_count": 13,
   "metadata": {
    "execution": {
     "iopub.execute_input": "2023-12-02T06:31:58.061736Z",
     "iopub.status.busy": "2023-12-02T06:31:58.061446Z",
     "iopub.status.idle": "2023-12-02T06:31:58.078480Z",
     "shell.execute_reply": "2023-12-02T06:31:58.077550Z",
     "shell.execute_reply.started": "2023-12-02T06:31:58.061711Z"
    },
    "trusted": true
   },
   "outputs": [],
   "source": [
    "import networkx as nx\n",
    "\n",
    "graph_nx = graphs[0]._graph\n",
    "for g in graphs[1:]:\n",
    "    graph_nx = nx.compose(graph_nx, g._graph)"
   ]
  },
  {
   "cell_type": "code",
   "execution_count": 14,
   "metadata": {
    "execution": {
     "iopub.execute_input": "2023-12-02T06:31:58.080430Z",
     "iopub.status.busy": "2023-12-02T06:31:58.079679Z",
     "iopub.status.idle": "2023-12-02T06:31:58.098724Z",
     "shell.execute_reply": "2023-12-02T06:31:58.097760Z",
     "shell.execute_reply.started": "2023-12-02T06:31:58.080398Z"
    },
    "trusted": true
   },
   "outputs": [
    {
     "data": {
      "text/plain": [
       "<langchain_community.graphs.networkx_graph.NetworkxEntityGraph at 0x7f2a030c0be0>"
      ]
     },
     "execution_count": 14,
     "metadata": {},
     "output_type": "execute_result"
    }
   ],
   "source": [
    "from langchain.graphs.networkx_graph import NetworkxEntityGraph\n",
    "\n",
    "graph = NetworkxEntityGraph(graph_nx)\n",
    "graph"
   ]
  },
  {
   "cell_type": "markdown",
   "metadata": {},
   "source": [
    "## Drawing and Saving the Graph"
   ]
  },
  {
   "cell_type": "code",
   "execution_count": null,
   "metadata": {
    "execution": {
     "iopub.execute_input": "2023-12-02T06:31:58.101275Z",
     "iopub.status.busy": "2023-12-02T06:31:58.100941Z",
     "iopub.status.idle": "2023-12-02T06:32:00.657974Z",
     "shell.execute_reply": "2023-12-02T06:32:00.657159Z",
     "shell.execute_reply.started": "2023-12-02T06:31:58.101243Z"
    },
    "trusted": true
   },
   "outputs": [],
   "source": [
    "# graph.draw_graphviz(path=\"Data_Book.pdf\", prog='fdp')"
   ]
  },
  {
   "cell_type": "code",
   "execution_count": null,
   "metadata": {},
   "outputs": [],
   "source": [
    "import pickle\n",
    "\n",
    "pickle.dump(graph, open('sample.pkl', 'wb'))\n",
    "# graph = pickle.load(open('sample.pkl', 'rb'))"
   ]
  },
  {
   "cell_type": "markdown",
   "metadata": {},
   "source": [
    "### GraphQAChain"
   ]
  },
  {
   "cell_type": "code",
   "execution_count": 17,
   "metadata": {
    "execution": {
     "iopub.execute_input": "2023-12-02T06:34:27.127316Z",
     "iopub.status.busy": "2023-12-02T06:34:27.126423Z",
     "iopub.status.idle": "2023-12-02T06:34:28.742654Z",
     "shell.execute_reply": "2023-12-02T06:34:28.741824Z",
     "shell.execute_reply.started": "2023-12-02T06:34:27.127284Z"
    },
    "trusted": true
   },
   "outputs": [
    {
     "name": "stdout",
     "output_type": "stream",
     "text": [
      "\n",
      "\n",
      "\u001b[1m> Entering new GraphQAChain chain...\u001b[0m\n",
      "Entities Extracted:\n",
      "\u001b[32;1m\u001b[1;3mMarie Curie\u001b[0m\n",
      "Full Context:\n",
      "\u001b[32;1m\u001b[1;3mMarie Curie was born in 1867\n",
      "Marie Curie was a physicist\n",
      "Marie Curie was a chemist\n",
      "Marie Curie conducted pioneering research on radioactivity\n",
      "Marie Curie was the first woman to win a Nobel Prize\n",
      "Marie Curie won the Nobel Prize twice\n",
      "Marie Curie was the only person to win a Nobel Prize in two scientific fields\n",
      "Marie Curie was the first person to win a Nobel Prize twice\n",
      "Marie Curie was the first woman to become a professor at the University of Paris\u001b[0m\n",
      "\n",
      "\u001b[1m> Finished chain.\u001b[0m\n"
     ]
    },
    {
     "data": {
      "text/plain": [
       "{'query': '\\nwho is Marie Curie?\\n',\n",
       " 'result': 'Marie Curie was a renowned physicist and chemist who conducted pioneering research on radioactivity. She was born in 1867 and was the first woman to win a Nobel Prize. She won the Nobel Prize twice and was the only person to win a Nobel Prize in two scientific fields. Additionally, Marie Curie was the first woman to become a professor at the University of Paris.'}"
      ]
     },
     "execution_count": 17,
     "metadata": {},
     "output_type": "execute_result"
    }
   ],
   "source": [
    "from langchain.chains import GraphQAChain\n",
    "\n",
    "\n",
    "chain = GraphQAChain.from_llm(\n",
    "    llm=llm, \n",
    "    graph=graph, \n",
    "    verbose=True\n",
    ")\n",
    "\n",
    "question = \"\"\"\n",
    "who is Marie Curie?\n",
    "\"\"\"\n",
    "\n",
    "chain.invoke(question)"
   ]
  },
  {
   "cell_type": "code",
   "execution_count": 19,
   "metadata": {
    "execution": {
     "iopub.execute_input": "2023-12-02T06:34:32.266846Z",
     "iopub.status.busy": "2023-12-02T06:34:32.266063Z",
     "iopub.status.idle": "2023-12-02T06:34:33.911646Z",
     "shell.execute_reply": "2023-12-02T06:34:33.910820Z",
     "shell.execute_reply.started": "2023-12-02T06:34:32.266771Z"
    },
    "trusted": true
   },
   "outputs": [
    {
     "name": "stdout",
     "output_type": "stream",
     "text": [
      "\n",
      "\n",
      "\u001b[1m> Entering new GraphQAChain chain...\u001b[0m\n",
      "Entities Extracted:\n",
      "\u001b[32;1m\u001b[1;3mmarie curie, nobel prize\u001b[0m\n",
      "Full Context:\n",
      "\u001b[32;1m\u001b[1;3m\u001b[0m\n",
      "\n",
      "\u001b[1m> Finished chain.\u001b[0m\n"
     ]
    },
    {
     "data": {
      "text/plain": [
       "{'query': '\\nIn which 2 fields did marie curie won nobel prize?\\n',\n",
       " 'result': 'Marie Curie won Nobel Prizes in the fields of Physics and Chemistry.'}"
      ]
     },
     "execution_count": 19,
     "metadata": {},
     "output_type": "execute_result"
    }
   ],
   "source": [
    "question = \"\"\"\n",
    "In which 2 fields did marie curie won nobel prize?\n",
    "\"\"\"\n",
    "\n",
    "chain.invoke(question)"
   ]
  },
  {
   "cell_type": "code",
   "execution_count": 21,
   "metadata": {},
   "outputs": [
    {
     "name": "stdout",
     "output_type": "stream",
     "text": [
      "\n",
      "\n",
      "\u001b[1m> Entering new GraphQAChain chain...\u001b[0m\n",
      "Entities Extracted:\n",
      "\u001b[32;1m\u001b[1;3mNONE\u001b[0m\n",
      "Full Context:\n",
      "\u001b[32;1m\u001b[1;3m\u001b[0m\n",
      "\n",
      "\u001b[1m> Finished chain.\u001b[0m\n"
     ]
    },
    {
     "data": {
      "text/plain": [
       "{'query': '\\nwho is husband of first woman to win a nobel prize?\\n',\n",
       " 'result': 'Marie Curie was the first woman to win a Nobel Prize. Her husband was Pierre Curie.'}"
      ]
     },
     "execution_count": 21,
     "metadata": {},
     "output_type": "execute_result"
    }
   ],
   "source": [
    "question = \"\"\"\n",
    "who is husband of first woman to win a nobel prize?\n",
    "\"\"\"\n",
    "\n",
    "chain.invoke(question)"
   ]
  }
 ],
 "metadata": {
  "kaggle": {
   "accelerator": "gpu",
   "dataSources": [
    {
     "datasetId": 3575309,
     "sourceId": 6224852,
     "sourceType": "datasetVersion"
    },
    {
     "datasetId": 2881517,
     "sourceId": 7070701,
     "sourceType": "datasetVersion"
    }
   ],
   "dockerImageVersionId": 30588,
   "isGpuEnabled": true,
   "isInternetEnabled": true,
   "language": "python",
   "sourceType": "notebook"
  },
  "kernelspec": {
   "display_name": "venv",
   "language": "python",
   "name": "python3"
  },
  "language_info": {
   "codemirror_mode": {
    "name": "ipython",
    "version": 3
   },
   "file_extension": ".py",
   "mimetype": "text/x-python",
   "name": "python",
   "nbconvert_exporter": "python",
   "pygments_lexer": "ipython3",
   "version": "3.10.12"
  }
 },
 "nbformat": 4,
 "nbformat_minor": 4
}
