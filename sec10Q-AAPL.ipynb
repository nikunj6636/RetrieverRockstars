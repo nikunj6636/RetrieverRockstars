{
 "cells": [
  {
   "cell_type": "markdown",
   "metadata": {},
   "source": [
    "### Loading text file (Parsed PDF into .txt file)"
   ]
  },
  {
   "cell_type": "code",
   "execution_count": 1,
   "metadata": {
    "execution": {
     "iopub.execute_input": "2023-12-02T06:23:03.865561Z",
     "iopub.status.busy": "2023-12-02T06:23:03.865158Z",
     "iopub.status.idle": "2023-12-02T06:24:27.523059Z",
     "shell.execute_reply": "2023-12-02T06:24:27.522274Z",
     "shell.execute_reply.started": "2023-12-02T06:23:03.865531Z"
    },
    "trusted": true
   },
   "outputs": [],
   "source": [
    "from langchain_community.document_loaders import UnstructuredMarkdownLoader\n",
    "import os\n",
    "\n",
    "dir_path = './AAPLReports'\n",
    "\n",
    "Data_Book = []\n",
    "\n",
    "for filename in os.listdir(dir_path):\n",
    "    if filename.endswith('.md'):\n",
    "        file_path = os.path.join(dir_path, filename)\n",
    "        md_loader = UnstructuredMarkdownLoader(file_path)\n",
    "        Data_Book.extend(md_loader.load_and_split())"
   ]
  },
  {
   "cell_type": "code",
   "execution_count": 2,
   "metadata": {
    "execution": {
     "iopub.execute_input": "2023-12-02T06:24:27.525205Z",
     "iopub.status.busy": "2023-12-02T06:24:27.524846Z",
     "iopub.status.idle": "2023-12-02T06:24:27.532415Z",
     "shell.execute_reply": "2023-12-02T06:24:27.531471Z",
     "shell.execute_reply.started": "2023-12-02T06:24:27.525172Z"
    },
    "trusted": true
   },
   "outputs": [
    {
     "data": {
      "text/plain": [
       "92"
      ]
     },
     "execution_count": 2,
     "metadata": {},
     "output_type": "execute_result"
    }
   ],
   "source": [
    "len(Data_Book)"
   ]
  },
  {
   "cell_type": "code",
   "execution_count": 3,
   "metadata": {
    "execution": {
     "iopub.execute_input": "2023-12-02T06:25:01.545417Z",
     "iopub.status.busy": "2023-12-02T06:25:01.545040Z",
     "iopub.status.idle": "2023-12-02T06:25:01.551750Z",
     "shell.execute_reply": "2023-12-02T06:25:01.550841Z",
     "shell.execute_reply.started": "2023-12-02T06:25:01.545389Z"
    },
    "trusted": true
   },
   "outputs": [
    {
     "data": {
      "text/plain": [
       "[Document(metadata={'source': './AAPLReports/2023 Q3 AAPL.md'}, page_content='UNITED STATES SECURITIES AND EXCHANGE COMMISSION\\n\\nWashington, D.C. 20549\\n\\nFORM 10-Q\\n\\n(Mark One)\\n\\n☒ QUARTERLY REPORT PURSUANT TO SECTION 13 OR 15(d) OF THE SECURITIES EXCHANGE ACT OF 1934\\n\\nFor the quarterly period ended July 1, 2023\\n\\nor\\n\\n☐ TRANSITION REPORT PURSUANT TO SECTION 13 OR 15(d) OF THE SECURITIES EXCHANGE ACT OF 1934\\n\\nFor the transition period from to .\\n\\nCommission File Number: 001-36743\\n\\nApple Inc.\\n\\n(Exact name of Registrant as specified in its charter)\\n\\nCalifornia 94-2404110 (State or other jurisdiction (I.R.S. Employer Identification No.) of incorporation or organization)\\n\\nOne Apple Park Way\\n\\nCupertino, California 95014\\n\\n(Address of principal executive offices)\\n\\n(Zip Code)\\n\\n(408) 996-1010\\n\\n(Registrant’s telephone number, including area code)\\n\\nSecurities registered pursuant to Section 12(b) of the Act:\\n\\nTitle of each class Trading symbol(s) Name of each exchange on which registered Common Stock, $0.00001 par value per share AAPL The Nasdaq Stock Market LLC 1.375% Notes due 2024 — The Nasdaq Stock Market LLC 0.000% Notes due 2025 — The Nasdaq Stock Market LLC 0.875% Notes due 2025 — The Nasdaq Stock Market LLC 1.625% Notes due 2026 — The Nasdaq Stock Market LLC 2.000% Notes due 2027 — The Nasdaq Stock Market LLC 1.375% Notes due 2029 — The Nasdaq Stock Market LLC 3.050% Notes due 2029 — The Nasdaq Stock Market LLC 0.500% Notes due 2031 — The Nasdaq Stock Market LLC 3.600% Notes due 2042 — The Nasdaq Stock Market LLC\\n\\nIndicate by check mark whether the Registrant (1) has filed all reports required to be filed by Section 13 or 15(d) of the Securities Exchange Act of 1934 during the preceding 12 months (or for such shorter period that the Registrant was required to file such reports), and (2) has been subject to such filing requirements for the past 90 days.\\n\\nYes ☒ No ☐\\n\\nIndicate by check mark whether the Registrant has submitted electronically every Interactive Data File required to be submitted pursuant to Rule 405 of Regulation S-T (§232.405 of this chapter) during the preceding 12 months (or for such shorter period that the Registrant was required to submit such files).\\n\\nYes ☒ No ☐\\n\\nIndicate by check mark whether the Registrant is a large accelerated filer, an accelerated filer, a non-accelerated filer, a smaller reporting company, or an emerging growth company.\\n\\nSee the definitions of “large accelerated filer,” “accelerated filer,” “smaller reporting company,” and “emerging growth company” in Rule 12b-2 of the Exchange Act.\\n\\nLarge accelerated filer ☒ Accelerated filer ☐ Non-accelerated filer ☐ Smaller reporting company ☐ Emerging growth company ☐ If an emerging growth company, indicate by check mark if the Registrant has elected not to use the extended transition period for complying with any new or revised financial accounting standards provided pursuant to Section 13(a) of the Exchange Act. ☐\\n\\nIndicate by check mark whether the Registrant is a shell company (as defined in Rule 12b-2 of the Exchange Act).\\n\\nYes ☐ No ☒ 15,634,232,000 shares of common stock were issued and outstanding as of July 21, 2023.\\n\\nApple Inc.\\n\\nForm 10-Q\\n\\nFor the Fiscal Quarter Ended July 1, 2023\\n\\nTABLE OF CONTENTS\\n\\nPart I Item 1. Financial Statements 1 Item 2. Management’s Discussion and Analysis of Financial Condition and Results of Operations 14 Item 3. Quantitative and Qualitative Disclosures About Market Risk 19 Item 4. Controls and Procedures 19 Part II Item 1. Legal Proceedings 20 Item 1A. Risk Factors 20 Item 2. Unregistered Sales of Equity Securities, Use of Proceeds, and Issuer Purchases of Equity Securities 21 Item 3. Defaults Upon Senior Securities 21 Item 4. Mine Safety Disclosures 21 Item 5. Other Information 21 Item 6. Exhibits 22 # PART I — FINANCIAL INFORMATION\\n\\nItem 1. Financial Statements\\n\\nApple Inc.\\n\\nCONDENSED CONSOLIDATED STATEMENTS OF OPERATIONS (Unaudited)\\n\\n(In millions, except number of shares which are reflected in thousands and per share amounts)'),\n",
       " Document(metadata={'source': './AAPLReports/2023 Q3 AAPL.md'}, page_content='Item 1. Financial Statements\\n\\nApple Inc.\\n\\nCONDENSED CONSOLIDATED STATEMENTS OF OPERATIONS (Unaudited)\\n\\n(In millions, except number of shares which are reflected in thousands and per share amounts)\\n\\nThree Months Ended Nine Months Ended July 1, 2023 June 25, 2022 July 1, 2023 June 25, 2022 Net sales: Products $ 60,584 $ 63,355 $ 230,901 $ 245,241 Services $ 21,213 $ 19,604 $ 62,886 $ 58,941 Total net sales $ 81,797 $ 82,959 $ 293,787 $ 304,182 Cost of sales: Products $ 39,136 $ 41,485 $ 146,696 $ 155,084 Services $ 6,248 $ 5,589 $ 18,370 $ 16,411 Total cost of sales $ 45,384 $ 47,074 $ 165,066 $ 171,495 Gross margin $ 36,413 $ 35,885 $ 128,721 $ 132,687 Operating expenses: Research and development $ 7,442 $ 6,797 $ 22,608 $ 19,490 Selling, general and administrative $ 5,973 $ 6,012 $ 18,781 $ 18,654 Total operating expenses $ 13,415 $ 12,809 $ 41,389 $ 38,144 Operating income $ 22,998 $ 23,076 $ 87,332 $ 94,543 Other income/(expense), net ($ 265) ($ 10) ($ 594) ($ 97) Income before provision for income taxes $ 22,733 $ 23,066 $ 86,738 $ 94,446 Provision for income taxes $ 2,852 $ 3,624 $ 12,699 $ 15,364 Net income $ 19,881 $ 19,442 $ 74,039 $ 79,082 Earnings per share: Basic $ 1.27 $ 1.20 $ 4.69 $ 4.86 Diluted $ 1.26 $ 1.20 $ 4.67 $ 4.82 Shares used in computing earnings per share: Basic 15,697,614 16,162,945 15,792,497 16,277,824 Diluted 15,775,021 16,262,203 15,859,263 16,394,937\\n\\nSee accompanying Notes to Condensed Consolidated Financial Statements.\\n\\nApple Inc. | Q3 2023 Form 10-Q | 1\\n\\nApple Inc.\\n\\nCONDENSED CONSOLIDATED STATEMENTS OF COMPREHENSIVE INCOME (Unaudited)\\n\\n(In millions)\\n\\nThree Months Ended Nine Months Ended July 1, 2023 June 25, 2022 July 1, 2023 June 25, 2022 Net income $ 19,881 $ 19,442 $ 74,039 $ 79,082 Other comprehensive income/(loss): Change in foreign currency translation, net of tax (385) (721) (494) (1,102) Change in unrealized gains/losses on derivative instruments, net of tax: Change in fair value of derivative instruments 509 852 (492) 1,548 Adjustment for net (gains)/losses realized and included in net income 103 121 (1,854) (87) Total change in unrealized gains/losses on derivative instruments 612 973 (2,346) 1,461 Change in unrealized gains/losses on marketable debt securities, net of tax: Change in fair value of marketable debt securities (340) (3,150) 1,963 (9,959) Adjustment for net (gains)/losses realized and included in net income 58 95 185 140 Total change in unrealized gains/losses on marketable debt securities (282) (3,055) 2,148 (9,819) Total other comprehensive income/(loss) (55) (2,803) (692) (9,460) Total comprehensive income $ 19,826 $ 16,639 $ 73,347 $ 69,622\\n\\nSee accompanying Notes to Condensed Consolidated Financial Statements.\\n\\nApple Inc. | Q3 2023 Form 10-Q | 2\\n\\nApple Inc.\\n\\nCONDENSED CONSOLIDATED BALANCE SHEETS (Unaudited)\\n\\n(In millions, except number of shares which are reflected in thousands and par value)')]"
      ]
     },
     "execution_count": 3,
     "metadata": {},
     "output_type": "execute_result"
    }
   ],
   "source": [
    "Data_Book[:2]"
   ]
  },
  {
   "cell_type": "code",
   "execution_count": 4,
   "metadata": {
    "execution": {
     "iopub.execute_input": "2023-12-02T06:25:06.525364Z",
     "iopub.status.busy": "2023-12-02T06:25:06.524482Z",
     "iopub.status.idle": "2023-12-02T06:25:06.531059Z",
     "shell.execute_reply": "2023-12-02T06:25:06.530068Z",
     "shell.execute_reply.started": "2023-12-02T06:25:06.525326Z"
    },
    "trusted": true
   },
   "outputs": [
    {
     "data": {
      "text/plain": [
       "'UNITED STATES SECURITIES AND EXCHANGE COMMISSION\\n\\nWashington, D.C. 20549\\n\\nFORM 10-Q\\n\\n(Mark One)\\n\\n☒ QUARTERLY REPORT PURSUANT TO SECTION 13 OR 15(d) OF THE SECURITIES EXCHANGE ACT OF 1934\\n\\nFor the quarterly period ended July 1, 2023\\n\\nor\\n\\n☐ TRANSITION REPORT PURSUANT TO SECTION 13 OR 15(d) OF THE SECURITIES EXCHANGE ACT OF 1934\\n\\nFor the transition period from to .\\n\\nCommission File Number: 001-36743\\n\\nApple Inc.\\n\\n(Exact name of Registrant as specified in its charter)\\n\\nCalifornia 94-2404110 (State or other jurisdiction (I.R.S. Employer Identification No.) of incorporation or organization)\\n\\nOne Apple Park Way\\n\\nCupertino, California 95014\\n\\n(Address of principal executive offices)\\n\\n(Zip Code)\\n\\n(408) 996-1010\\n\\n(Registrant’s telephone number, including area code)\\n\\nSecurities registered pursuant to Section 12(b) of the Act:\\n\\nTitle of each class Trading symbol(s) Name of each exchange on which registered Common Stock, $0.00001 par value per share AAPL The Nasdaq Stock Market LLC 1.375% Notes due 2024 — The Nasdaq Stock Market LLC 0.000% Notes due 2025 — The Nasdaq Stock Market LLC 0.875% Notes due 2025 — The Nasdaq Stock Market LLC 1.625% Notes due 2026 — The Nasdaq Stock Market LLC 2.000% Notes due 2027 — The Nasdaq Stock Market LLC 1.375% Notes due 2029 — The Nasdaq Stock Market LLC 3.050% Notes due 2029 — The Nasdaq Stock Market LLC 0.500% Notes due 2031 — The Nasdaq Stock Market LLC 3.600% Notes due 2042 — The Nasdaq Stock Market LLC\\n\\nIndicate by check mark whether the Registrant (1) has filed all reports required to be filed by Section 13 or 15(d) of the Securities Exchange Act of 1934 during the preceding 12 months (or for such shorter period that the Registrant was required to file such reports), and (2) has been subject to such filing requirements for the past 90 days.\\n\\nYes ☒ No ☐\\n\\nIndicate by check mark whether the Registrant has submitted electronically every Interactive Data File required to be submitted pursuant to Rule 405 of Regulation S-T (§232.405 of this chapter) during the preceding 12 months (or for such shorter period that the Registrant was required to submit such files).\\n\\nYes ☒ No ☐\\n\\nIndicate by check mark whether the Registrant is a large accelerated filer, an accelerated filer, a non-accelerated filer, a smaller reporting company, or an emerging growth company.\\n\\nSee the definitions of “large accelerated filer,” “accelerated filer,” “smaller reporting company,” and “emerging growth company” in Rule 12b-2 of the Exchange Act.\\n\\nLarge accelerated filer ☒ Accelerated filer ☐ Non-accelerated filer ☐ Smaller reporting company ☐ Emerging growth company ☐ If an emerging growth company, indicate by check mark if the Registrant has elected not to use the extended transition period for complying with any new or revised financial accounting standards provided pursuant to Section 13(a) of the Exchange Act. ☐\\n\\nIndicate by check mark whether the Registrant is a shell company (as defined in Rule 12b-2 of the Exchange Act).\\n\\nYes ☐ No ☒ 15,634,232,000 shares of common stock were issued and outstanding as of July 21, 2023.\\n\\nApple Inc.\\n\\nForm 10-Q\\n\\nFor the Fiscal Quarter Ended July 1, 2023\\n\\nTABLE OF CONTENTS\\n\\nPart I Item 1. Financial Statements 1 Item 2. Management’s Discussion and Analysis of Financial Condition and Results of Operations 14 Item 3. Quantitative and Qualitative Disclosures About Market Risk 19 Item 4. Controls and Procedures 19 Part II Item 1. Legal Proceedings 20 Item 1A. Risk Factors 20 Item 2. Unregistered Sales of Equity Securities, Use of Proceeds, and Issuer Purchases of Equity Securities 21 Item 3. Defaults Upon Senior Securities 21 Item 4. Mine Safety Disclosures 21 Item 5. Other Information 21 Item 6. Exhibits 22 # PART I — FINANCIAL INFORMATION\\n\\nItem 1. Financial Statements\\n\\nApple Inc.\\n\\nCONDENSED CONSOLIDATED STATEMENTS OF OPERATIONS (Unaudited)\\n\\n(In millions, except number of shares which are reflected in thousands and per share amounts)'"
      ]
     },
     "execution_count": 4,
     "metadata": {},
     "output_type": "execute_result"
    }
   ],
   "source": [
    "Data_Book[0].page_content"
   ]
  },
  {
   "cell_type": "markdown",
   "metadata": {},
   "source": [
    "### LLM using Azure OpenAI"
   ]
  },
  {
   "cell_type": "code",
   "execution_count": 6,
   "metadata": {
    "execution": {
     "iopub.execute_input": "2023-12-02T06:26:24.830367Z",
     "iopub.status.busy": "2023-12-02T06:26:24.829656Z",
     "iopub.status.idle": "2023-12-02T06:26:24.835021Z",
     "shell.execute_reply": "2023-12-02T06:26:24.833958Z",
     "shell.execute_reply.started": "2023-12-02T06:26:24.830333Z"
    },
    "trusted": true
   },
   "outputs": [],
   "source": [
    "from langchain_openai import AzureChatOpenAI\n",
    "from dotenv import load_dotenv\n",
    "load_dotenv() # Load AzureAI and Langsmith credentials\n",
    "\n",
    "llm = AzureChatOpenAI(\n",
    "    azure_deployment=\"gpt-35-turbo\",  \n",
    "    api_version=\"2024-08-01-preview\", \n",
    "    temperature=0.7,\n",
    "    max_tokens=None,\n",
    "    timeout=None,\n",
    "    max_retries=2,\n",
    ")"
   ]
  },
  {
   "cell_type": "markdown",
   "metadata": {},
   "source": [
    "### Graph and GraphIndex Creation"
   ]
  },
  {
   "cell_type": "code",
   "execution_count": 7,
   "metadata": {},
   "outputs": [
    {
     "name": "stderr",
     "output_type": "stream",
     "text": [
      "Processing Documents: 100%|██████████| 92/92 [31:56<00:00, 20.83s/it]\n"
     ]
    }
   ],
   "source": [
    "import os\n",
    "import pickle\n",
    "from tqdm import tqdm\n",
    "from langchain_experimental.graph_transformers import LLMGraphTransformer\n",
    "\n",
    "checkpoint_file = 'aapl_processed_docs_checkpoint.pkl'\n",
    "\n",
    "if os.path.exists(checkpoint_file):\n",
    "    with open(checkpoint_file, 'rb') as f:\n",
    "        processed_indexes = pickle.load(f)\n",
    "else:\n",
    "    processed_indexes = []\n",
    "\n",
    "start_index = len(processed_indexes) # Resume processing docs from start_index\n",
    "\n",
    "llm_transformer = LLMGraphTransformer(llm=llm)\n",
    "\n",
    "for i, doc in enumerate(tqdm(Data_Book[start_index:], desc=\"Processing Documents\", initial=start_index, total=len(Data_Book))):\n",
    "    graph_doc = llm_transformer.convert_to_graph_documents([doc])\n",
    "    processed_indexes.extend(graph_doc)\n",
    "\n",
    "    # Save progress every 1000 documents (adjust as needed)\n",
    "    if len(processed_indexes) % 10 == 0 or len(processed_indexes) == len(Data_Book):\n",
    "        with open(checkpoint_file, 'wb') as f:\n",
    "            pickle.dump(processed_indexes, f)\n",
    "    \n",
    "graphs_documents = processed_indexes"
   ]
  },
  {
   "cell_type": "markdown",
   "metadata": {},
   "source": [
    "## Drawing and Saving the Graph"
   ]
  },
  {
   "cell_type": "code",
   "execution_count": 14,
   "metadata": {
    "execution": {
     "iopub.execute_input": "2023-12-02T06:31:58.101275Z",
     "iopub.status.busy": "2023-12-02T06:31:58.100941Z",
     "iopub.status.idle": "2023-12-02T06:32:00.657974Z",
     "shell.execute_reply": "2023-12-02T06:32:00.657159Z",
     "shell.execute_reply.started": "2023-12-02T06:31:58.101243Z"
    },
    "trusted": true
   },
   "outputs": [],
   "source": [
    "from langchain_community.graphs.networkx_graph import NetworkxEntityGraph\n",
    "\n",
    "graph = NetworkxEntityGraph()\n",
    "\n",
    "for graph_document in graphs_documents:\n",
    "    for node in graph_document.nodes:\n",
    "        graph.add_node(node.id)\n",
    "\n",
    "    for edge in graph_document.relationships:\n",
    "        graph._graph.add_edge(\n",
    "                edge.source.id,\n",
    "                edge.target.id,\n",
    "                relation=edge.type,\n",
    "            )"
   ]
  },
  {
   "cell_type": "code",
   "execution_count": 9,
   "metadata": {},
   "outputs": [],
   "source": [
    "import pickle\n",
    "pickle.dump(graph, open('AAPL-Sec-10Q-Graph.pickle', 'wb'))"
   ]
  },
  {
   "cell_type": "code",
   "execution_count": 10,
   "metadata": {},
   "outputs": [],
   "source": [
    "import pickle\n",
    "graph = pickle.load(open('AAPL-Sec-10Q-Graph.pickle', 'rb'))"
   ]
  },
  {
   "cell_type": "markdown",
   "metadata": {},
   "source": [
    "### GraphQAChain"
   ]
  },
  {
   "cell_type": "code",
   "execution_count": 15,
   "metadata": {},
   "outputs": [],
   "source": [
    "from langchain.chains import GraphQAChain\n",
    "\n",
    "chain = GraphQAChain.from_llm(\n",
    "    llm=llm, \n",
    "    graph=graph, \n",
    "    verbose=True\n",
    ")"
   ]
  },
  {
   "cell_type": "code",
   "execution_count": 16,
   "metadata": {},
   "outputs": [
    {
     "name": "stdout",
     "output_type": "stream",
     "text": [
      "\n",
      "\n",
      "\u001b[1m> Entering new GraphQAChain chain...\u001b[0m\n",
      "Entities Extracted:\n",
      "\u001b[32;1m\u001b[1;3mApple\u001b[0m\n",
      "Full Context:\n",
      "\u001b[32;1m\u001b[1;3mApple FILE_LAWSUIT Epic_Games\n",
      "Apple OPERATE App_Store\n",
      "Apple PETITION Circuit_Court\u001b[0m\n",
      "\n",
      "\u001b[1m> Finished chain.\u001b[0m\n"
     ]
    },
    {
     "data": {
      "text/plain": [
       "{'query': \"\\nHow has Apple's total net sales changed over time?\\n\",\n",
       " 'result': \"I don't know.\"}"
      ]
     },
     "execution_count": 16,
     "metadata": {},
     "output_type": "execute_result"
    }
   ],
   "source": [
    "question = \"\"\"\n",
    "How has Apple's total net sales changed over time?\n",
    "\"\"\"\n",
    "\n",
    "chain.invoke(question)"
   ]
  },
  {
   "cell_type": "code",
   "execution_count": 13,
   "metadata": {},
   "outputs": [
    {
     "name": "stdout",
     "output_type": "stream",
     "text": [
      "\n",
      "\n",
      "\u001b[1m> Entering new GraphQAChain chain...\u001b[0m\n",
      "Entities Extracted:\n",
      "\u001b[32;1m\u001b[1;3mApple, Services\u001b[0m\n",
      "Full Context:\n",
      "\u001b[32;1m\u001b[1;3mApple FILE_LAWSUIT Epic_Games\n",
      "Apple OPERATE App_Store\n",
      "Apple PETITION Circuit_Court\n",
      "Services GROSS_MARGIN_INCREASE Third Quarter Of 2023\n",
      "Services GROSS_MARGIN_DECREASE Third Quarter Of 2022\n",
      "Services GROSS_MARGIN_DECREASE 2023\n",
      "Services GROSS_MARGIN_DECREASE 2022\n",
      "Services GROSS_MARGIN_INCREASE Higher Services Net Sales\n",
      "Services GROSS_MARGIN_DECREASE Foreign Currencies\n",
      "Services GROSS_MARGIN_DECREASE U.S. Dollar\n",
      "Services GROSS_MARGIN_DECREASE Higher Services Costs\n",
      "Services GROSS_MARGIN_DECREASE Improved Leverage\n",
      "Services GROSS_MARGIN_DECREASE First Nine Months Of 2023\n",
      "Services GROSS_MARGIN_DECREASE Services Costs\n",
      "Services GROSS_MARGIN_DECREASE Services Gross Margin Percentage\n",
      "Services GROSS_MARGIN_DECREASE Year-Over-Year Services Gross Margin Percentage\n",
      "Services IMPACT Net Sales\n",
      "Services INCLUDES Advertising\n",
      "Services INCLUDES Applecare\n",
      "Services INCLUDES Cloud\n",
      "Services INCLUDES Digital Content\n",
      "Services INCLUDES Payment\n",
      "Services INCLUDES Other Services\n",
      "Services AFFECTS Company\n",
      "Services NET_SALES Americas\n",
      "Services NET_SALES Greater China\n",
      "Services NET_SALES Japan\n",
      "Services HAS Services Net Sales\u001b[0m\n",
      "\n",
      "\u001b[1m> Finished chain.\u001b[0m\n"
     ]
    },
    {
     "data": {
      "text/plain": [
       "{'query': \"\\nCan any trends be identified in Apple's Services segment revenue over the reported periods?\\n\",\n",
       " 'result': \"Yes, based on the provided knowledge triplets, some trends can be identified in Apple's Services segment revenue over the reported periods. The following trends can be observed:\\n\\n1. There is a gross margin decrease in the Services segment in the third quarter of 2022 and 2023. This suggests that the profitability of the Services segment decreased during these periods.\\n2. The gross margin decrease in the Services segment is attributed to various factors such as higher services costs, foreign currencies, U.S. Dollar, improved leverage, and services gross margin percentage.\\n3. The gross margin decrease in the Services segment in the first nine months of 2023 is also mentioned.\\n4. The Services segment's gross margin increase is linked to higher services net sales.\\n5. The Services segment's impact on net sales is mentioned, indicating that it plays a significant role in Apple's overall revenue generation.\\n6. The Services segment includes various components such as advertising, Applecare, cloud, digital content, payment, and other services.\\n7. The Services segment's net sales are reported for different regions, including Americas, Greater China, and Japan.\\n\\nThese trends suggest that Apple's Services segment revenue may experience fluctuations and is affected by various factors, including costs, currency fluctuations, and regional performance.\"}"
      ]
     },
     "execution_count": 13,
     "metadata": {},
     "output_type": "execute_result"
    }
   ],
   "source": [
    "question = \"\"\"\n",
    "Can any trends be identified in Apple's Services segment revenue over the reported periods?\n",
    "\"\"\"\n",
    "\n",
    "chain.invoke(question)"
   ]
  },
  {
   "cell_type": "code",
   "execution_count": 9,
   "metadata": {},
   "outputs": [
    {
     "name": "stdout",
     "output_type": "stream",
     "text": [
      "\n",
      "\n",
      "\u001b[1m> Entering new GraphQAChain chain...\u001b[0m\n",
      "Entities Extracted:\n",
      "\u001b[32;1m\u001b[1;3mApple\u001b[0m\n",
      "Full Context:\n",
      "\u001b[32;1m\u001b[1;3mApple withdrew from the case\u001b[0m\n",
      "\n",
      "\u001b[1m> Finished chain.\u001b[0m\n"
     ]
    },
    {
     "data": {
      "text/plain": [
       "{'query': \"\\nAre there any notable changes in Apple's liquidity position or cash flows as reported in these 10-Qs?\\n\",\n",
       " 'result': \"I don't know.\"}"
      ]
     },
     "execution_count": 9,
     "metadata": {},
     "output_type": "execute_result"
    }
   ],
   "source": [
    "question = \"\"\"\n",
    "Are there any notable changes in Apple's liquidity position or cash flows as reported in these 10-Qs?\n",
    "\"\"\"\n",
    "\n",
    "chain.invoke(question)"
   ]
  }
 ],
 "metadata": {
  "kaggle": {
   "accelerator": "gpu",
   "dataSources": [
    {
     "datasetId": 3575309,
     "sourceId": 6224852,
     "sourceType": "datasetVersion"
    },
    {
     "datasetId": 2881517,
     "sourceId": 7070701,
     "sourceType": "datasetVersion"
    }
   ],
   "dockerImageVersionId": 30588,
   "isGpuEnabled": true,
   "isInternetEnabled": true,
   "language": "python",
   "sourceType": "notebook"
  },
  "kernelspec": {
   "display_name": "venv",
   "language": "python",
   "name": "python3"
  },
  "language_info": {
   "codemirror_mode": {
    "name": "ipython",
    "version": 3
   },
   "file_extension": ".py",
   "mimetype": "text/x-python",
   "name": "python",
   "nbconvert_exporter": "python",
   "pygments_lexer": "ipython3",
   "version": "3.10.12"
  }
 },
 "nbformat": 4,
 "nbformat_minor": 4
}
