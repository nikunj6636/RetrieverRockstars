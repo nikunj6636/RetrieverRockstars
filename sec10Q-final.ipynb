{
 "cells": [
  {
   "cell_type": "markdown",
   "metadata": {},
   "source": [
    "### Loading text file (Parsed PDF into .txt file)"
   ]
  },
  {
   "cell_type": "code",
   "execution_count": 9,
   "metadata": {
    "execution": {
     "iopub.execute_input": "2023-12-02T06:23:03.865561Z",
     "iopub.status.busy": "2023-12-02T06:23:03.865158Z",
     "iopub.status.idle": "2023-12-02T06:24:27.523059Z",
     "shell.execute_reply": "2023-12-02T06:24:27.522274Z",
     "shell.execute_reply.started": "2023-12-02T06:23:03.865531Z"
    },
    "trusted": true
   },
   "outputs": [],
   "source": [
    "from langchain_community.document_loaders import UnstructuredMarkdownLoader\n",
    "import os\n",
    "\n",
    "dir_path = './Reports'\n",
    "\n",
    "Data_Book = []\n",
    "\n",
    "for filename in os.listdir(dir_path):\n",
    "    if filename.endswith('.md'):\n",
    "        file_path = os.path.join(dir_path, filename)\n",
    "        md_loader = UnstructuredMarkdownLoader(file_path)\n",
    "        Data_Book.extend(md_loader.load_and_split())"
   ]
  },
  {
   "cell_type": "code",
   "execution_count": 10,
   "metadata": {
    "execution": {
     "iopub.execute_input": "2023-12-02T06:24:27.525205Z",
     "iopub.status.busy": "2023-12-02T06:24:27.524846Z",
     "iopub.status.idle": "2023-12-02T06:24:27.532415Z",
     "shell.execute_reply": "2023-12-02T06:24:27.531471Z",
     "shell.execute_reply.started": "2023-12-02T06:24:27.525172Z"
    },
    "trusted": true
   },
   "outputs": [
    {
     "data": {
      "text/plain": [
       "890"
      ]
     },
     "execution_count": 10,
     "metadata": {},
     "output_type": "execute_result"
    }
   ],
   "source": [
    "len(Data_Book)"
   ]
  },
  {
   "cell_type": "code",
   "execution_count": 3,
   "metadata": {
    "execution": {
     "iopub.execute_input": "2023-12-02T06:25:01.545417Z",
     "iopub.status.busy": "2023-12-02T06:25:01.545040Z",
     "iopub.status.idle": "2023-12-02T06:25:01.551750Z",
     "shell.execute_reply": "2023-12-02T06:25:01.550841Z",
     "shell.execute_reply.started": "2023-12-02T06:25:01.545389Z"
    },
    "trusted": true
   },
   "outputs": [
    {
     "data": {
      "text/plain": [
       "[Document(metadata={'source': './Reports/2022 Q3 NVDA.md'}, page_content='UNITED STATES SECURITIES AND EXCHANGE COMMISSION\\n\\nWashington, D.C. 20549\\n\\nFORM 10-Q\\n\\n☒ QUARTERLY REPORT PURSUANT TO SECTION 13 OR 15(d) OF THE SECURITIES EXCHANGE ACT OF 1934\\n\\nFor the quarterly period ended October 30, 2022\\n\\nOR\\n\\n☐ TRANSITION REPORT PURSUANT TO SECTION 13 OR 15(d) OF THE SECURITIES EXCHANGE ACT OF 1934\\n\\nCommission file number: 0-23985\\n\\nNVIDIA\\n\\n(Exact name of registrant as specified in its charter) NVIDIA CORPORATION\\n\\nDelaware 94-3177549 (State or Other Jurisdiction of Incorporation or Organization) (I.R.S. Employer Identification No.)\\n\\n2788 San Tomas Expressway\\n\\nSanta Clara, California 95051\\n\\n(408) 486-2000\\n\\n(Address, including zip code, and telephone number, including area code, of principal executive offices)\\n\\nN/A\\n\\n(Former name, former address and former fiscal year if changed since last report)\\n\\nSecurities registered pursuant to Section 12(b) of the Act:\\n\\nTitle of each class Trading Symbol(s) Name of each exchange on which registered Common Stock, $0.001 par value per share NVDA The Nasdaq Global Select Market\\n\\nIndicate by check mark whether the registrant (1) has filed all reports required to be filed by Section 13 or 15(d) of the Securities Exchange Act of 1934 during the preceding 12 months (or for such shorter period that the registrant was required to file such reports), and (2) has been subject to such filing requirements for the past 90 days. Yes ☒ No ☐\\n\\nIndicate by check mark whether the registrant has submitted electronically every Interactive Data File required to be submitted pursuant to Rule 405 of Regulation S-T (§232.405 of this chapter) during the preceding 12 months (or for such shorter period that the registrant was required to submit such files). Yes ☒ No ☐\\n\\nIndicate by check mark whether the registrant is a large accelerated filer, an accelerated filer, a non-accelerated filer, a smaller reporting company, or an emerging growth company. See definitions of “large accelerated filer”, “accelerated filer”, “smaller reporting company”, and \"emerging growth company\" in Rule 12b-2 of the Exchange Act.\\n\\nLarge accelerated filer ☒ Accelerated filer ☐ Non-accelerated filer ☐ Smaller reporting company ☐ Emerging growth company ☐ If an emerging growth company, indicate by check mark if the registrant has elected not to use the extended transition period for complying with any new or revised financial accounting standards provided pursuant to Section 13(a) of the Exchange Act. ☐\\n\\nIndicate by check mark whether the registrant is a shell company (as defined in Rule 12b-2 of the Exchange Act). Yes ☐ No ☒\\n\\nThe number of shares of common stock, $0.001 par value, outstanding as of November 11, 2022, was 2.46 billion.\\n\\nNVIDIA CORPORATION\\n\\nFORM 10-Q\\n\\nFOR THE QUARTER ENDED October 30, 2022\\n\\nTABLE OF CONTENTS\\n\\nPART I : FINANCIAL INFORMATION Page Item 1. Financial Statements (Unaudited) a) Condensed Consolidated Statements of Income for the three and nine months ended October 30, 2022 and October 31, 2021 3 b) Condensed Consolidated Statements of Comprehensive Income for the three and nine months ended October 30, 2022 and October 31, 2021 4 c) Condensed Consolidated Balance Sheets as of October 30, 2022 and January 30, 2022 5 d) Condensed Consolidated Statements of Shareholders\\' Equity for the three and nine months ended October 30, 2022 and October 31, 2021 6 e) Condensed Consolidated Statements of Cash Flows for the nine months ended October 30, 2022 and October 31, 2021 8 f) Notes to Condensed Consolidated Financial Statements 9 Item 2. Management’s Discussion and Analysis of Financial Condition and Results of Operations 24 Item 3. Quantitative and Qualitative Disclosures About Market Risk 33 Item 4. Controls and Procedures 34 PART II : OTHER INFORMATION Item 1. Legal Proceedings 35 Item 1A. Risk Factors 35 Item 2. Unregistered Sales of Equity Securities and Use of Proceeds 41 Item 6. Exhibits 43 Signature 44\\n\\nWHERE YOU CAN FIND MORE INFORMATION'),\n",
       " Document(metadata={'source': './Reports/2022 Q3 NVDA.md'}, page_content=\"WHERE YOU CAN FIND MORE INFORMATION\\n\\nInvestors and others should note that we announce material financial information to our investors using our investor relations website, press releases, SEC filings and public conference calls and webcasts. We also use the following social media channels as a means of disclosing information about the company, our products, our planned financial and other announcements and attendance at upcoming investor and industry conferences, and other matters, and for complying with our disclosure obligations under Regulation FD:\\n\\nNVIDIA Twitter Account (https://twitter.com/nvidia)\\n\\nNVIDIA Company Blog (http://blogs.nvidia.com)\\n\\nNVIDIA Facebook Page (https://www.facebook.com/nvidia)\\n\\nNVIDIA LinkedIn Page (http://www.linkedin.com/company/nvidia)\\n\\nNVIDIA Instagram Page (https://www.instagram.com/nvidia)\\n\\nIn addition, investors and others can view NVIDIA videos on YouTube (https://www.YouTube.com/nvidia).\\n\\nThe information we post through these social media channels may be deemed material. Accordingly, investors should monitor these accounts and the blog, in addition to following our press releases, SEC filings and public conference calls and webcasts. This list may be updated from time to time. The information we post through these channels is not a part of this Quarterly Report on Form 10-Q. These channels may be updated from time to time on NVIDIA's investor relations website.\\n\\nPART I. FINANCIAL INFORMATION\\n\\nITEM 1. FINANCIAL STATEMENTS (UNAUDITED)\\n\\nNVIDIA CORPORATION AND SUBSIDIARIES\\n\\nCONDENSED CONSOLIDATED STATEMENTS OF INCOME\\n\\n(In millions, except per share data)\\n\\n(Unaudited)\\n\\nThree Months Ended Nine Months Ended October 30, 2022 October 31, 2021 October 30, 2022 October 31, 2021 Revenue $ 5,931 $ 7,103 $ 20,923 $ 19,271 Cost of revenue $ 2,754 $ 2,472 $ 9,400 $ 6,795 Gross profit $ 3,177 $ 4,631 $ 11,523 $ 12,476 Operating expenses Research and development $ 1,945 $ 1,403 $ 5,387 $ 3,802 Sales, general and administrative $ 631 $ 557 $ 1,815 $ 1,603 Acquisition termination cost $ — $ — $ 1,353 $ — Total operating expenses $ 2,576 $ 1,960 $ 8,555 $ 5,405 Income from operations $ 601 $ 2,671 $ 2,968 $ 7,071 Interest income $ 88 $ 7 $ 152 $ 20 Interest expense $ (65) $ (62) $ (198) $ (175) Other, net $ (11) $ 22 $ (29) $ 160 Other income (expense), net $ 12 $ (33) $ (75) $ 5 Income before income tax $ 613 $ 2,638 $ 2,893 $ 7,076 Income tax expense (benefit) $ (67) $ 174 $ (61) $ 327 Net income $ 680 $ 2,464 $ 2,954 $ 6,749 Net income per share: Basic $ 0.27 $ 0.99 $ 1.18 $ 2.71 Diluted $ 0.27 $ 0.97 $ 1.17 $ 2.67 Weighted average shares used in per share computation: Basic $ 2,483 $ 2,499 $ 2,495 $ 2,493 Diluted $ 2,499 $ 2,538 $ 2,517 $ 2,532\\n\\nSee accompanying Notes to Condensed Consolidated Financial Statements.\\n\\nNVIDIA CORPORATION AND SUBSIDIARIES\\n\\nCONDENSED CONSOLIDATED STATEMENTS OF COMPREHENSIVE INCOME\\n\\n(In millions)\\n\\n(Unaudited)\\n\\nThree Months Ended Nine Months Ended October 30, 2022 October 31, 2021 October 30, 2022 October 31, 2021 Net income $ 680 $ 2,464 $ 2,954 $ 6,749 Other comprehensive income (loss), net of tax Available-for-sale securities: Net change in unrealized loss (18) (4) (53) (5) Reclassification adjustments for net realized gain included in net income — — 1 — Net change in unrealized loss (18) (4) (52) (5) Cash flow hedges: Net unrealized gain (loss) (14) 22 (44) (5) Reclassification adjustments for net realized loss included in net income (1) (17) (16) — Net change in unrealized gain (loss) (15) 5 (60) (5) Other comprehensive income (loss), net of tax (33) 1 (112) (10) Total comprehensive income $ 647 $ 2,465 $ 2,842 $ 6,739\\n\\nSee accompanying Notes to Condensed Consolidated Financial Statements.\\n\\nNVIDIA CORPORATION AND SUBSIDIARIES\\n\\nCONDENSED CONSOLIDATED BALANCE SHEETS\\n\\n(In millions)\\n\\n(Unaudited)\")]"
      ]
     },
     "execution_count": 3,
     "metadata": {},
     "output_type": "execute_result"
    }
   ],
   "source": [
    "Data_Book[:2]"
   ]
  },
  {
   "cell_type": "code",
   "execution_count": 4,
   "metadata": {
    "execution": {
     "iopub.execute_input": "2023-12-02T06:25:06.525364Z",
     "iopub.status.busy": "2023-12-02T06:25:06.524482Z",
     "iopub.status.idle": "2023-12-02T06:25:06.531059Z",
     "shell.execute_reply": "2023-12-02T06:25:06.530068Z",
     "shell.execute_reply.started": "2023-12-02T06:25:06.525326Z"
    },
    "trusted": true
   },
   "outputs": [
    {
     "data": {
      "text/plain": [
       "'UNITED STATES SECURITIES AND EXCHANGE COMMISSION\\n\\nWashington, D.C. 20549\\n\\nFORM 10-Q\\n\\n☒ QUARTERLY REPORT PURSUANT TO SECTION 13 OR 15(d) OF THE SECURITIES EXCHANGE ACT OF 1934\\n\\nFor the quarterly period ended October 30, 2022\\n\\nOR\\n\\n☐ TRANSITION REPORT PURSUANT TO SECTION 13 OR 15(d) OF THE SECURITIES EXCHANGE ACT OF 1934\\n\\nCommission file number: 0-23985\\n\\nNVIDIA\\n\\n(Exact name of registrant as specified in its charter) NVIDIA CORPORATION\\n\\nDelaware 94-3177549 (State or Other Jurisdiction of Incorporation or Organization) (I.R.S. Employer Identification No.)\\n\\n2788 San Tomas Expressway\\n\\nSanta Clara, California 95051\\n\\n(408) 486-2000\\n\\n(Address, including zip code, and telephone number, including area code, of principal executive offices)\\n\\nN/A\\n\\n(Former name, former address and former fiscal year if changed since last report)\\n\\nSecurities registered pursuant to Section 12(b) of the Act:\\n\\nTitle of each class Trading Symbol(s) Name of each exchange on which registered Common Stock, $0.001 par value per share NVDA The Nasdaq Global Select Market\\n\\nIndicate by check mark whether the registrant (1) has filed all reports required to be filed by Section 13 or 15(d) of the Securities Exchange Act of 1934 during the preceding 12 months (or for such shorter period that the registrant was required to file such reports), and (2) has been subject to such filing requirements for the past 90 days. Yes ☒ No ☐\\n\\nIndicate by check mark whether the registrant has submitted electronically every Interactive Data File required to be submitted pursuant to Rule 405 of Regulation S-T (§232.405 of this chapter) during the preceding 12 months (or for such shorter period that the registrant was required to submit such files). Yes ☒ No ☐\\n\\nIndicate by check mark whether the registrant is a large accelerated filer, an accelerated filer, a non-accelerated filer, a smaller reporting company, or an emerging growth company. See definitions of “large accelerated filer”, “accelerated filer”, “smaller reporting company”, and \"emerging growth company\" in Rule 12b-2 of the Exchange Act.\\n\\nLarge accelerated filer ☒ Accelerated filer ☐ Non-accelerated filer ☐ Smaller reporting company ☐ Emerging growth company ☐ If an emerging growth company, indicate by check mark if the registrant has elected not to use the extended transition period for complying with any new or revised financial accounting standards provided pursuant to Section 13(a) of the Exchange Act. ☐\\n\\nIndicate by check mark whether the registrant is a shell company (as defined in Rule 12b-2 of the Exchange Act). Yes ☐ No ☒\\n\\nThe number of shares of common stock, $0.001 par value, outstanding as of November 11, 2022, was 2.46 billion.\\n\\nNVIDIA CORPORATION\\n\\nFORM 10-Q\\n\\nFOR THE QUARTER ENDED October 30, 2022\\n\\nTABLE OF CONTENTS\\n\\nPART I : FINANCIAL INFORMATION Page Item 1. Financial Statements (Unaudited) a) Condensed Consolidated Statements of Income for the three and nine months ended October 30, 2022 and October 31, 2021 3 b) Condensed Consolidated Statements of Comprehensive Income for the three and nine months ended October 30, 2022 and October 31, 2021 4 c) Condensed Consolidated Balance Sheets as of October 30, 2022 and January 30, 2022 5 d) Condensed Consolidated Statements of Shareholders\\' Equity for the three and nine months ended October 30, 2022 and October 31, 2021 6 e) Condensed Consolidated Statements of Cash Flows for the nine months ended October 30, 2022 and October 31, 2021 8 f) Notes to Condensed Consolidated Financial Statements 9 Item 2. Management’s Discussion and Analysis of Financial Condition and Results of Operations 24 Item 3. Quantitative and Qualitative Disclosures About Market Risk 33 Item 4. Controls and Procedures 34 PART II : OTHER INFORMATION Item 1. Legal Proceedings 35 Item 1A. Risk Factors 35 Item 2. Unregistered Sales of Equity Securities and Use of Proceeds 41 Item 6. Exhibits 43 Signature 44\\n\\nWHERE YOU CAN FIND MORE INFORMATION'"
      ]
     },
     "execution_count": 4,
     "metadata": {},
     "output_type": "execute_result"
    }
   ],
   "source": [
    "Data_Book[0].page_content"
   ]
  },
  {
   "cell_type": "markdown",
   "metadata": {},
   "source": [
    "### LLM using Azure OpenAI"
   ]
  },
  {
   "cell_type": "code",
   "execution_count": 1,
   "metadata": {
    "execution": {
     "iopub.execute_input": "2023-12-02T06:26:24.830367Z",
     "iopub.status.busy": "2023-12-02T06:26:24.829656Z",
     "iopub.status.idle": "2023-12-02T06:26:24.835021Z",
     "shell.execute_reply": "2023-12-02T06:26:24.833958Z",
     "shell.execute_reply.started": "2023-12-02T06:26:24.830333Z"
    },
    "trusted": true
   },
   "outputs": [],
   "source": [
    "from langchain_openai import AzureChatOpenAI\n",
    "from dotenv import load_dotenv\n",
    "load_dotenv() # Load AzureAI and Langsmith credentials\n",
    "\n",
    "llm = AzureChatOpenAI(\n",
    "    azure_deployment=\"gpt-35-turbo\",  \n",
    "    api_version=\"2024-08-01-preview\", \n",
    "    temperature=0.7,\n",
    "    max_tokens=None,\n",
    "    timeout=None,\n",
    "    max_retries=2,\n",
    ")"
   ]
  },
  {
   "cell_type": "markdown",
   "metadata": {},
   "source": [
    "### Graph and GraphIndex Creation"
   ]
  },
  {
   "cell_type": "code",
   "execution_count": null,
   "metadata": {},
   "outputs": [],
   "source": [
    "import os\n",
    "import pickle\n",
    "from tqdm import tqdm\n",
    "from langchain.indexes import GraphIndexCreator\n",
    "\n",
    "checkpoint_file = 'processed_docs_checkpoint.pkl'\n",
    "\n",
    "if os.path.exists(checkpoint_file):\n",
    "    with open(checkpoint_file, 'rb') as f:\n",
    "        processed_indexes = pickle.load(f)\n",
    "else:\n",
    "    processed_indexes = []\n",
    "\n",
    "start_index = len(processed_indexes) # Resume processing docs from start_index\n",
    "\n",
    "index_creator = GraphIndexCreator(llm=llm)\n",
    "for i, doc in enumerate(tqdm(Data_Book[start_index:], desc=\"Processing Documents\", initial=start_index, total=len(Data_Book))):\n",
    "    index = index_creator.from_text(doc.page_content)\n",
    "    processed_indexes.append(index)\n",
    "\n",
    "    # Save progress every 1000 documents (adjust as needed)\n",
    "    if len(processed_indexes) % 10 == 0 or len(processed_indexes) == len(Data_Book):\n",
    "        with open(checkpoint_file, 'wb') as f:\n",
    "            pickle.dump(processed_indexes, f)\n",
    "    \n",
    "graphs = processed_indexes"
   ]
  },
  {
   "cell_type": "markdown",
   "metadata": {},
   "source": [
    "### compose(G, H) in networkx\n",
    "Compose graph G with H by combining nodes and edges into a single graph.\n",
    "\n",
    "Returns\n",
    "A new graph with the same type as G"
   ]
  },
  {
   "cell_type": "code",
   "execution_count": 13,
   "metadata": {
    "execution": {
     "iopub.execute_input": "2023-12-02T06:31:58.061736Z",
     "iopub.status.busy": "2023-12-02T06:31:58.061446Z",
     "iopub.status.idle": "2023-12-02T06:31:58.078480Z",
     "shell.execute_reply": "2023-12-02T06:31:58.077550Z",
     "shell.execute_reply.started": "2023-12-02T06:31:58.061711Z"
    },
    "trusted": true
   },
   "outputs": [],
   "source": [
    "import networkx as nx\n",
    "\n",
    "graph_nx = graphs[0]._graph\n",
    "for g in graphs[1:]:\n",
    "    graph_nx = nx.compose(graph_nx, g._graph)"
   ]
  },
  {
   "cell_type": "code",
   "execution_count": 14,
   "metadata": {
    "execution": {
     "iopub.execute_input": "2023-12-02T06:31:58.080430Z",
     "iopub.status.busy": "2023-12-02T06:31:58.079679Z",
     "iopub.status.idle": "2023-12-02T06:31:58.098724Z",
     "shell.execute_reply": "2023-12-02T06:31:58.097760Z",
     "shell.execute_reply.started": "2023-12-02T06:31:58.080398Z"
    },
    "trusted": true
   },
   "outputs": [
    {
     "data": {
      "text/plain": [
       "<langchain_community.graphs.networkx_graph.NetworkxEntityGraph at 0x7f1ad50c8940>"
      ]
     },
     "execution_count": 14,
     "metadata": {},
     "output_type": "execute_result"
    }
   ],
   "source": [
    "from langchain.graphs.networkx_graph import NetworkxEntityGraph\n",
    "\n",
    "graph = NetworkxEntityGraph(graph_nx)\n",
    "graph"
   ]
  },
  {
   "cell_type": "markdown",
   "metadata": {},
   "source": [
    "## Drawing and Saving the Graph"
   ]
  },
  {
   "cell_type": "code",
   "execution_count": null,
   "metadata": {
    "execution": {
     "iopub.execute_input": "2023-12-02T06:31:58.101275Z",
     "iopub.status.busy": "2023-12-02T06:31:58.100941Z",
     "iopub.status.idle": "2023-12-02T06:32:00.657974Z",
     "shell.execute_reply": "2023-12-02T06:32:00.657159Z",
     "shell.execute_reply.started": "2023-12-02T06:31:58.101243Z"
    },
    "trusted": true
   },
   "outputs": [],
   "source": [
    "# graph.draw_graphviz(path=\"Data_Book.pdf\", prog='fdp')"
   ]
  },
  {
   "cell_type": "code",
   "execution_count": null,
   "metadata": {},
   "outputs": [],
   "source": [
    "# import pickle\n",
    "# pickle.dump(graph, open('Sec-10Q-Graph.pickle', 'wb'))"
   ]
  },
  {
   "cell_type": "code",
   "execution_count": 2,
   "metadata": {},
   "outputs": [],
   "source": [
    "import pickle\n",
    "graph = pickle.load(open('Sec-10Q-Graph.pickle', 'rb'))"
   ]
  },
  {
   "cell_type": "markdown",
   "metadata": {},
   "source": [
    "### GraphQAChain"
   ]
  },
  {
   "cell_type": "code",
   "execution_count": 3,
   "metadata": {},
   "outputs": [],
   "source": [
    "from langchain.chains import GraphQAChain\n",
    "\n",
    "chain = GraphQAChain.from_llm(\n",
    "    llm=llm, \n",
    "    graph=graph, \n",
    "    verbose=True\n",
    ")"
   ]
  },
  {
   "cell_type": "code",
   "execution_count": 4,
   "metadata": {},
   "outputs": [
    {
     "name": "stdout",
     "output_type": "stream",
     "text": [
      "\n",
      "\n",
      "\u001b[1m> Entering new GraphQAChain chain...\u001b[0m\n",
      "Entities Extracted:\n",
      "\u001b[32;1m\u001b[1;3mApple\u001b[0m\n",
      "Full Context:\n",
      "\u001b[32;1m\u001b[1;3mApple withdrew from the case\u001b[0m\n",
      "\n",
      "\u001b[1m> Finished chain.\u001b[0m\n"
     ]
    },
    {
     "data": {
      "text/plain": [
       "{'query': \"\\nHow has Apple's total net sales changed over time?\\n\",\n",
       " 'result': \"I don't know.\"}"
      ]
     },
     "execution_count": 4,
     "metadata": {},
     "output_type": "execute_result"
    }
   ],
   "source": [
    "question = \"\"\"\n",
    "How has Apple's total net sales changed over time?\n",
    "\"\"\"\n",
    "\n",
    "chain.invoke(question)"
   ]
  },
  {
   "cell_type": "code",
   "execution_count": 8,
   "metadata": {},
   "outputs": [
    {
     "name": "stdout",
     "output_type": "stream",
     "text": [
      "\n",
      "\n",
      "\u001b[1m> Entering new GraphQAChain chain...\u001b[0m\n",
      "Entities Extracted:\n",
      "\u001b[32;1m\u001b[1;3mApple, Services\u001b[0m\n",
      "Full Context:\n",
      "\u001b[32;1m\u001b[1;3mApple withdrew from the case\n",
      "Services net sales increased during the third quarter of 2023\n",
      "Services $ 20,907 $ 19,821\n",
      "Services Services net sales increased\n",
      "Services $ 14,842 $ 29,551\n",
      "Services 71.0 % 72.6 %\n",
      "Services are a part of Expansion\n",
      "Services is 20,766\n",
      "Services is 19,516\n",
      "Services is 6,057\n",
      "Services is 5,393\n",
      "Services net sales $20,766\n",
      "Services compared to same quarter\n",
      "Services due primarily to higher net sales\n",
      "Services dollar in millions $ 14,709\n",
      "Services dollar in millions $ 14,123\u001b[0m\n",
      "\n",
      "\u001b[1m> Finished chain.\u001b[0m\n"
     ]
    },
    {
     "data": {
      "text/plain": [
       "{'query': \"\\nCan any trends be identified in Apple's Services segment revenue over the reported periods?\\n\",\n",
       " 'result': \"Yes, the trend in Apple's Services segment revenue over the reported periods is an increase.\"}"
      ]
     },
     "execution_count": 8,
     "metadata": {},
     "output_type": "execute_result"
    }
   ],
   "source": [
    "question = \"\"\"\n",
    "Can any trends be identified in Apple's Services segment revenue over the reported periods?\n",
    "\"\"\"\n",
    "\n",
    "chain.invoke(question)"
   ]
  },
  {
   "cell_type": "code",
   "execution_count": 9,
   "metadata": {},
   "outputs": [
    {
     "name": "stdout",
     "output_type": "stream",
     "text": [
      "\n",
      "\n",
      "\u001b[1m> Entering new GraphQAChain chain...\u001b[0m\n",
      "Entities Extracted:\n",
      "\u001b[32;1m\u001b[1;3mApple\u001b[0m\n",
      "Full Context:\n",
      "\u001b[32;1m\u001b[1;3mApple withdrew from the case\u001b[0m\n",
      "\n",
      "\u001b[1m> Finished chain.\u001b[0m\n"
     ]
    },
    {
     "data": {
      "text/plain": [
       "{'query': \"\\nAre there any notable changes in Apple's liquidity position or cash flows as reported in these 10-Qs?\\n\",\n",
       " 'result': \"I don't know.\"}"
      ]
     },
     "execution_count": 9,
     "metadata": {},
     "output_type": "execute_result"
    }
   ],
   "source": [
    "question = \"\"\"\n",
    "Are there any notable changes in Apple's liquidity position or cash flows as reported in these 10-Qs?\n",
    "\"\"\"\n",
    "\n",
    "chain.invoke(question)"
   ]
  }
 ],
 "metadata": {
  "kaggle": {
   "accelerator": "gpu",
   "dataSources": [
    {
     "datasetId": 3575309,
     "sourceId": 6224852,
     "sourceType": "datasetVersion"
    },
    {
     "datasetId": 2881517,
     "sourceId": 7070701,
     "sourceType": "datasetVersion"
    }
   ],
   "dockerImageVersionId": 30588,
   "isGpuEnabled": true,
   "isInternetEnabled": true,
   "language": "python",
   "sourceType": "notebook"
  },
  "kernelspec": {
   "display_name": "venv",
   "language": "python",
   "name": "python3"
  },
  "language_info": {
   "codemirror_mode": {
    "name": "ipython",
    "version": 3
   },
   "file_extension": ".py",
   "mimetype": "text/x-python",
   "name": "python",
   "nbconvert_exporter": "python",
   "pygments_lexer": "ipython3",
   "version": "3.10.12"
  }
 },
 "nbformat": 4,
 "nbformat_minor": 4
}
