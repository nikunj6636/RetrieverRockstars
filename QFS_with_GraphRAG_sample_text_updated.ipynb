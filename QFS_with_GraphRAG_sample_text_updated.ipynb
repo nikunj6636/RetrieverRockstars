{
  "cells": [
    {
      "cell_type": "markdown",
      "metadata": {
        "id": "MpGciqe9hejy"
      },
      "source": [
        "<a href=\"https://colab.research.google.com/github/run-llama/llama_index/blob/main/docs/docs/examples/cookbooks/GraphRAG_v1.ipynb\" target=\"_parent\"><img src=\"https://colab.research.google.com/assets/colab-badge.svg\" alt=\"Open In Colab\"/></a>"
      ]
    },
    {
      "cell_type": "markdown",
      "metadata": {
        "id": "MZkCs0vXhejz"
      },
      "source": [
        "# GraphRAG Implementation with LlamaIndex\n",
        "\n",
        "[GraphRAG (Graphs + Retrieval Augmented Generation)](https://www.microsoft.com/en-us/research/project/graphrag/) combines the strengths of Retrieval Augmented Generation (RAG) and Query-Focused Summarization (QFS) to effectively handle complex queries over large text datasets. While RAG excels in fetching precise information, it struggles with broader queries that require thematic understanding, a challenge that QFS addresses but cannot scale well. GraphRAG integrates these approaches to offer responsive and thorough querying capabilities across extensive, diverse text corpora.\n",
        "\n",
        "\n",
        "This notebook provides guidance on constructing the GraphRAG pipeline using the LlamaIndex PropertyGraph abstractions.\n",
        "\n",
        "\n",
        "**NOTE:** This is an approximate implementation of GraphRAG. We are currently developing a series of cookbooks that will detail the exact implementation of GraphRAG."
      ]
    },
    {
      "cell_type": "markdown",
      "metadata": {
        "id": "odfusoE7hej0"
      },
      "source": [
        "## GraphRAG Aproach\n",
        "\n",
        "The GraphRAG involves two steps:\n",
        "\n",
        "1. Graph Generation - Creates Graph, builds communities and its summaries over the given document.\n",
        "2. Answer to the Query - Use summaries of the communities created from step-1 to answer the query.\n",
        "\n",
        "**Graph Generation:**\n",
        "\n",
        "1. **Source Documents to Text Chunks:** Source documents are divided into smaller text chunks for easier processing.\n",
        "\n",
        "2. **Text Chunks to Element Instances:** Each text chunk is analyzed to identify and extract entities and relationships, resulting in a list of tuples that represent these elements.\n",
        "\n",
        "3. **Element Instances to Element Summaries:** The extracted entities and relationships are summarized into descriptive text blocks for each element using the LLM.\n",
        "\n",
        "4. **Element Summaries to Graph Communities:** These entities, relationships and summaries form a graph, which is subsequently partitioned into communities using algorithms using Heirarchical Leiden to establish a hierarchical structure.\n",
        "\n",
        "5. **Graph Communities to Community Summaries:** The LLM generates summaries for each community, providing insights into the dataset’s overall topical structure and semantics.\n",
        "\n",
        "**Answering the Query:**\n",
        "\n",
        "**Community Summaries to Global Answers:** The summaries of the communities are utilized to respond to user queries. This involves generating intermediate answers, which are then consolidated into a comprehensive global answer.\n"
      ]
    },
    {
      "cell_type": "markdown",
      "metadata": {
        "id": "pX5cwPbchej1"
      },
      "source": [
        "## GraphRAG Pipeline Components\n",
        "\n",
        "Here are the different components we implemented to build all of the processes mentioned above.\n",
        "\n",
        "1. **Source Documents to Text Chunks:** Implemented using `SentenceSplitter` with a chunk size of 1024 and chunk overlap of 20 tokens.\n",
        "\n",
        "2. **Text Chunks to Element Instances AND Element Instances to Element Summaries:** Implemented using `GraphRAGExtractor`.\n",
        "\n",
        "3. **Element Summaries to Graph Communities AND Graph Communities to Community Summaries:** Implemented using `GraphRAGStore`.\n",
        "\n",
        "4. **Community Summaries to Global Answers:** Implemented using `GraphQueryEngine`.\n",
        "\n",
        "\n",
        "Let's check into each of these components and build GraphRAG pipeline.\n"
      ]
    },
    {
      "cell_type": "markdown",
      "metadata": {
        "id": "SQRUYpyzhej1"
      },
      "source": [
        "## Installation\n",
        "\n",
        "`graspologic` is used to use hierarchical_leiden for building communities."
      ]
    },
    {
      "cell_type": "code",
      "execution_count": 1,
      "metadata": {
        "id": "NdbzE3A8hej1",
        "colab": {
          "base_uri": "https://localhost:8080/"
        },
        "outputId": "15f324a7-9b94-4a26-a341-4aca921c5f58"
      },
      "outputs": [
        {
          "output_type": "stream",
          "name": "stdout",
          "text": [
            "Requirement already satisfied: llama-index in /usr/local/lib/python3.10/dist-packages (0.11.22)\n",
            "Requirement already satisfied: graspologic in /usr/local/lib/python3.10/dist-packages (3.3.0)\n",
            "Requirement already satisfied: numpy==1.24.4 in /usr/local/lib/python3.10/dist-packages (1.24.4)\n",
            "Requirement already satisfied: scipy==1.12.0 in /usr/local/lib/python3.10/dist-packages (1.12.0)\n",
            "Requirement already satisfied: llama-index-agent-openai<0.4.0,>=0.3.4 in /usr/local/lib/python3.10/dist-packages (from llama-index) (0.3.4)\n",
            "Requirement already satisfied: llama-index-cli<0.4.0,>=0.3.1 in /usr/local/lib/python3.10/dist-packages (from llama-index) (0.3.1)\n",
            "Requirement already satisfied: llama-index-core<0.12.0,>=0.11.22 in /usr/local/lib/python3.10/dist-packages (from llama-index) (0.11.22)\n",
            "Requirement already satisfied: llama-index-embeddings-openai<0.3.0,>=0.2.4 in /usr/local/lib/python3.10/dist-packages (from llama-index) (0.2.5)\n",
            "Requirement already satisfied: llama-index-indices-managed-llama-cloud>=0.3.0 in /usr/local/lib/python3.10/dist-packages (from llama-index) (0.4.0)\n",
            "Requirement already satisfied: llama-index-legacy<0.10.0,>=0.9.48 in /usr/local/lib/python3.10/dist-packages (from llama-index) (0.9.48.post4)\n",
            "Requirement already satisfied: llama-index-llms-openai<0.3.0,>=0.2.10 in /usr/local/lib/python3.10/dist-packages (from llama-index) (0.2.16)\n",
            "Requirement already satisfied: llama-index-multi-modal-llms-openai<0.3.0,>=0.2.0 in /usr/local/lib/python3.10/dist-packages (from llama-index) (0.2.3)\n",
            "Requirement already satisfied: llama-index-program-openai<0.3.0,>=0.2.0 in /usr/local/lib/python3.10/dist-packages (from llama-index) (0.2.0)\n",
            "Requirement already satisfied: llama-index-question-gen-openai<0.3.0,>=0.2.0 in /usr/local/lib/python3.10/dist-packages (from llama-index) (0.2.0)\n",
            "Requirement already satisfied: llama-index-readers-file<0.3.0,>=0.2.0 in /usr/local/lib/python3.10/dist-packages (from llama-index) (0.2.2)\n",
            "Requirement already satisfied: llama-index-readers-llama-parse>=0.3.0 in /usr/local/lib/python3.10/dist-packages (from llama-index) (0.3.0)\n",
            "Requirement already satisfied: nltk>3.8.1 in /usr/local/lib/python3.10/dist-packages (from llama-index) (3.9.1)\n",
            "Requirement already satisfied: anytree>=2.8.0 in /usr/local/lib/python3.10/dist-packages (from graspologic) (2.12.1)\n",
            "Requirement already satisfied: beartype>=0.10.0 in /usr/local/lib/python3.10/dist-packages (from graspologic) (0.19.0)\n",
            "Requirement already satisfied: gensim!=4.2.0,>=4.0.0 in /usr/local/lib/python3.10/dist-packages (from graspologic) (4.3.3)\n",
            "Requirement already satisfied: graspologic-native>=1.1.1 in /usr/local/lib/python3.10/dist-packages (from graspologic) (1.2.1)\n",
            "Requirement already satisfied: hyppo>=0.3.2 in /usr/local/lib/python3.10/dist-packages (from graspologic) (0.5.1)\n",
            "Requirement already satisfied: joblib>=0.17.0 in /usr/local/lib/python3.10/dist-packages (from graspologic) (1.4.2)\n",
            "Requirement already satisfied: matplotlib!=3.3.*,!=3.6.1,>=3.0.0 in /usr/local/lib/python3.10/dist-packages (from graspologic) (3.8.0)\n",
            "Requirement already satisfied: networkx>=2.1 in /usr/local/lib/python3.10/dist-packages (from graspologic) (3.4.2)\n",
            "Requirement already satisfied: POT>=0.7.0 in /usr/local/lib/python3.10/dist-packages (from graspologic) (0.9.5)\n",
            "Requirement already satisfied: seaborn>=0.11.0 in /usr/local/lib/python3.10/dist-packages (from graspologic) (0.13.2)\n",
            "Requirement already satisfied: scikit-learn>=0.22.0 in /usr/local/lib/python3.10/dist-packages (from graspologic) (1.5.2)\n",
            "Requirement already satisfied: statsmodels>=0.13.2 in /usr/local/lib/python3.10/dist-packages (from graspologic) (0.14.4)\n",
            "Requirement already satisfied: typing-extensions>=4.4.0 in /usr/local/lib/python3.10/dist-packages (from graspologic) (4.12.2)\n",
            "Requirement already satisfied: umap-learn>=0.4.6 in /usr/local/lib/python3.10/dist-packages (from graspologic) (0.5.7)\n",
            "Requirement already satisfied: six in /usr/local/lib/python3.10/dist-packages (from anytree>=2.8.0->graspologic) (1.16.0)\n",
            "Requirement already satisfied: smart-open>=1.8.1 in /usr/local/lib/python3.10/dist-packages (from gensim!=4.2.0,>=4.0.0->graspologic) (7.0.5)\n",
            "Requirement already satisfied: numba>=0.46 in /usr/local/lib/python3.10/dist-packages (from hyppo>=0.3.2->graspologic) (0.60.0)\n",
            "Requirement already satisfied: autograd>=1.3 in /usr/local/lib/python3.10/dist-packages (from hyppo>=0.3.2->graspologic) (1.7.0)\n",
            "Requirement already satisfied: openai>=1.14.0 in /usr/local/lib/python3.10/dist-packages (from llama-index-agent-openai<0.4.0,>=0.3.4->llama-index) (1.52.2)\n",
            "Requirement already satisfied: PyYAML>=6.0.1 in /usr/local/lib/python3.10/dist-packages (from llama-index-core<0.12.0,>=0.11.22->llama-index) (6.0.2)\n",
            "Requirement already satisfied: SQLAlchemy>=1.4.49 in /usr/local/lib/python3.10/dist-packages (from SQLAlchemy[asyncio]>=1.4.49->llama-index-core<0.12.0,>=0.11.22->llama-index) (2.0.36)\n",
            "Requirement already satisfied: aiohttp<4.0.0,>=3.8.6 in /usr/local/lib/python3.10/dist-packages (from llama-index-core<0.12.0,>=0.11.22->llama-index) (3.10.10)\n",
            "Requirement already satisfied: dataclasses-json in /usr/local/lib/python3.10/dist-packages (from llama-index-core<0.12.0,>=0.11.22->llama-index) (0.6.7)\n",
            "Requirement already satisfied: deprecated>=1.2.9.3 in /usr/local/lib/python3.10/dist-packages (from llama-index-core<0.12.0,>=0.11.22->llama-index) (1.2.14)\n",
            "Requirement already satisfied: dirtyjson<2.0.0,>=1.0.8 in /usr/local/lib/python3.10/dist-packages (from llama-index-core<0.12.0,>=0.11.22->llama-index) (1.0.8)\n",
            "Requirement already satisfied: fsspec>=2023.5.0 in /usr/local/lib/python3.10/dist-packages (from llama-index-core<0.12.0,>=0.11.22->llama-index) (2024.10.0)\n",
            "Requirement already satisfied: httpx in /usr/local/lib/python3.10/dist-packages (from llama-index-core<0.12.0,>=0.11.22->llama-index) (0.27.2)\n",
            "Requirement already satisfied: nest-asyncio<2.0.0,>=1.5.8 in /usr/local/lib/python3.10/dist-packages (from llama-index-core<0.12.0,>=0.11.22->llama-index) (1.6.0)\n",
            "Requirement already satisfied: pillow>=9.0.0 in /usr/local/lib/python3.10/dist-packages (from llama-index-core<0.12.0,>=0.11.22->llama-index) (10.4.0)\n",
            "Requirement already satisfied: pydantic<3.0.0,>=2.7.0 in /usr/local/lib/python3.10/dist-packages (from llama-index-core<0.12.0,>=0.11.22->llama-index) (2.9.2)\n",
            "Requirement already satisfied: requests>=2.31.0 in /usr/local/lib/python3.10/dist-packages (from llama-index-core<0.12.0,>=0.11.22->llama-index) (2.32.3)\n",
            "Requirement already satisfied: tenacity!=8.4.0,<9.0.0,>=8.2.0 in /usr/local/lib/python3.10/dist-packages (from llama-index-core<0.12.0,>=0.11.22->llama-index) (8.5.0)\n",
            "Requirement already satisfied: tiktoken>=0.3.3 in /usr/local/lib/python3.10/dist-packages (from llama-index-core<0.12.0,>=0.11.22->llama-index) (0.8.0)\n",
            "Requirement already satisfied: tqdm<5.0.0,>=4.66.1 in /usr/local/lib/python3.10/dist-packages (from llama-index-core<0.12.0,>=0.11.22->llama-index) (4.66.6)\n",
            "Requirement already satisfied: typing-inspect>=0.8.0 in /usr/local/lib/python3.10/dist-packages (from llama-index-core<0.12.0,>=0.11.22->llama-index) (0.9.0)\n",
            "Requirement already satisfied: wrapt in /usr/local/lib/python3.10/dist-packages (from llama-index-core<0.12.0,>=0.11.22->llama-index) (1.16.0)\n",
            "Requirement already satisfied: llama-cloud>=0.0.11 in /usr/local/lib/python3.10/dist-packages (from llama-index-indices-managed-llama-cloud>=0.3.0->llama-index) (0.1.4)\n",
            "Requirement already satisfied: pandas in /usr/local/lib/python3.10/dist-packages (from llama-index-legacy<0.10.0,>=0.9.48->llama-index) (2.2.2)\n",
            "Requirement already satisfied: beautifulsoup4<5.0.0,>=4.12.3 in /usr/local/lib/python3.10/dist-packages (from llama-index-readers-file<0.3.0,>=0.2.0->llama-index) (4.12.3)\n",
            "Requirement already satisfied: pypdf<5.0.0,>=4.0.1 in /usr/local/lib/python3.10/dist-packages (from llama-index-readers-file<0.3.0,>=0.2.0->llama-index) (4.3.1)\n",
            "Requirement already satisfied: striprtf<0.0.27,>=0.0.26 in /usr/local/lib/python3.10/dist-packages (from llama-index-readers-file<0.3.0,>=0.2.0->llama-index) (0.0.26)\n",
            "Requirement already satisfied: llama-parse>=0.5.0 in /usr/local/lib/python3.10/dist-packages (from llama-index-readers-llama-parse>=0.3.0->llama-index) (0.5.13)\n",
            "Requirement already satisfied: contourpy>=1.0.1 in /usr/local/lib/python3.10/dist-packages (from matplotlib!=3.3.*,!=3.6.1,>=3.0.0->graspologic) (1.3.0)\n",
            "Requirement already satisfied: cycler>=0.10 in /usr/local/lib/python3.10/dist-packages (from matplotlib!=3.3.*,!=3.6.1,>=3.0.0->graspologic) (0.12.1)\n",
            "Requirement already satisfied: fonttools>=4.22.0 in /usr/local/lib/python3.10/dist-packages (from matplotlib!=3.3.*,!=3.6.1,>=3.0.0->graspologic) (4.54.1)\n",
            "Requirement already satisfied: kiwisolver>=1.0.1 in /usr/local/lib/python3.10/dist-packages (from matplotlib!=3.3.*,!=3.6.1,>=3.0.0->graspologic) (1.4.7)\n",
            "Requirement already satisfied: packaging>=20.0 in /usr/local/lib/python3.10/dist-packages (from matplotlib!=3.3.*,!=3.6.1,>=3.0.0->graspologic) (24.1)\n",
            "Requirement already satisfied: pyparsing>=2.3.1 in /usr/local/lib/python3.10/dist-packages (from matplotlib!=3.3.*,!=3.6.1,>=3.0.0->graspologic) (3.2.0)\n",
            "Requirement already satisfied: python-dateutil>=2.7 in /usr/local/lib/python3.10/dist-packages (from matplotlib!=3.3.*,!=3.6.1,>=3.0.0->graspologic) (2.8.2)\n",
            "Requirement already satisfied: click in /usr/local/lib/python3.10/dist-packages (from nltk>3.8.1->llama-index) (8.1.7)\n",
            "Requirement already satisfied: regex>=2021.8.3 in /usr/local/lib/python3.10/dist-packages (from nltk>3.8.1->llama-index) (2024.9.11)\n",
            "Requirement already satisfied: threadpoolctl>=3.1.0 in /usr/local/lib/python3.10/dist-packages (from scikit-learn>=0.22.0->graspologic) (3.5.0)\n",
            "Requirement already satisfied: patsy>=0.5.6 in /usr/local/lib/python3.10/dist-packages (from statsmodels>=0.13.2->graspologic) (0.5.6)\n",
            "Requirement already satisfied: pynndescent>=0.5 in /usr/local/lib/python3.10/dist-packages (from umap-learn>=0.4.6->graspologic) (0.5.13)\n",
            "Requirement already satisfied: aiohappyeyeballs>=2.3.0 in /usr/local/lib/python3.10/dist-packages (from aiohttp<4.0.0,>=3.8.6->llama-index-core<0.12.0,>=0.11.22->llama-index) (2.4.3)\n",
            "Requirement already satisfied: aiosignal>=1.1.2 in /usr/local/lib/python3.10/dist-packages (from aiohttp<4.0.0,>=3.8.6->llama-index-core<0.12.0,>=0.11.22->llama-index) (1.3.1)\n",
            "Requirement already satisfied: attrs>=17.3.0 in /usr/local/lib/python3.10/dist-packages (from aiohttp<4.0.0,>=3.8.6->llama-index-core<0.12.0,>=0.11.22->llama-index) (24.2.0)\n",
            "Requirement already satisfied: frozenlist>=1.1.1 in /usr/local/lib/python3.10/dist-packages (from aiohttp<4.0.0,>=3.8.6->llama-index-core<0.12.0,>=0.11.22->llama-index) (1.5.0)\n",
            "Requirement already satisfied: multidict<7.0,>=4.5 in /usr/local/lib/python3.10/dist-packages (from aiohttp<4.0.0,>=3.8.6->llama-index-core<0.12.0,>=0.11.22->llama-index) (6.1.0)\n",
            "Requirement already satisfied: yarl<2.0,>=1.12.0 in /usr/local/lib/python3.10/dist-packages (from aiohttp<4.0.0,>=3.8.6->llama-index-core<0.12.0,>=0.11.22->llama-index) (1.17.0)\n",
            "Requirement already satisfied: async-timeout<5.0,>=4.0 in /usr/local/lib/python3.10/dist-packages (from aiohttp<4.0.0,>=3.8.6->llama-index-core<0.12.0,>=0.11.22->llama-index) (4.0.3)\n",
            "Requirement already satisfied: soupsieve>1.2 in /usr/local/lib/python3.10/dist-packages (from beautifulsoup4<5.0.0,>=4.12.3->llama-index-readers-file<0.3.0,>=0.2.0->llama-index) (2.6)\n",
            "Requirement already satisfied: anyio in /usr/local/lib/python3.10/dist-packages (from httpx->llama-index-core<0.12.0,>=0.11.22->llama-index) (3.7.1)\n",
            "Requirement already satisfied: certifi in /usr/local/lib/python3.10/dist-packages (from httpx->llama-index-core<0.12.0,>=0.11.22->llama-index) (2024.8.30)\n",
            "Requirement already satisfied: httpcore==1.* in /usr/local/lib/python3.10/dist-packages (from httpx->llama-index-core<0.12.0,>=0.11.22->llama-index) (1.0.6)\n",
            "Requirement already satisfied: idna in /usr/local/lib/python3.10/dist-packages (from httpx->llama-index-core<0.12.0,>=0.11.22->llama-index) (3.10)\n",
            "Requirement already satisfied: sniffio in /usr/local/lib/python3.10/dist-packages (from httpx->llama-index-core<0.12.0,>=0.11.22->llama-index) (1.3.1)\n",
            "Requirement already satisfied: h11<0.15,>=0.13 in /usr/local/lib/python3.10/dist-packages (from httpcore==1.*->httpx->llama-index-core<0.12.0,>=0.11.22->llama-index) (0.14.0)\n",
            "Requirement already satisfied: llvmlite<0.44,>=0.43.0dev0 in /usr/local/lib/python3.10/dist-packages (from numba>=0.46->hyppo>=0.3.2->graspologic) (0.43.0)\n",
            "Requirement already satisfied: distro<2,>=1.7.0 in /usr/local/lib/python3.10/dist-packages (from openai>=1.14.0->llama-index-agent-openai<0.4.0,>=0.3.4->llama-index) (1.9.0)\n",
            "Requirement already satisfied: jiter<1,>=0.4.0 in /usr/local/lib/python3.10/dist-packages (from openai>=1.14.0->llama-index-agent-openai<0.4.0,>=0.3.4->llama-index) (0.6.1)\n",
            "Requirement already satisfied: pytz>=2020.1 in /usr/local/lib/python3.10/dist-packages (from pandas->llama-index-legacy<0.10.0,>=0.9.48->llama-index) (2024.2)\n",
            "Requirement already satisfied: tzdata>=2022.7 in /usr/local/lib/python3.10/dist-packages (from pandas->llama-index-legacy<0.10.0,>=0.9.48->llama-index) (2024.2)\n",
            "Requirement already satisfied: annotated-types>=0.6.0 in /usr/local/lib/python3.10/dist-packages (from pydantic<3.0.0,>=2.7.0->llama-index-core<0.12.0,>=0.11.22->llama-index) (0.7.0)\n",
            "Requirement already satisfied: pydantic-core==2.23.4 in /usr/local/lib/python3.10/dist-packages (from pydantic<3.0.0,>=2.7.0->llama-index-core<0.12.0,>=0.11.22->llama-index) (2.23.4)\n",
            "Requirement already satisfied: charset-normalizer<4,>=2 in /usr/local/lib/python3.10/dist-packages (from requests>=2.31.0->llama-index-core<0.12.0,>=0.11.22->llama-index) (3.4.0)\n",
            "Requirement already satisfied: urllib3<3,>=1.21.1 in /usr/local/lib/python3.10/dist-packages (from requests>=2.31.0->llama-index-core<0.12.0,>=0.11.22->llama-index) (2.2.3)\n",
            "Requirement already satisfied: greenlet!=0.4.17 in /usr/local/lib/python3.10/dist-packages (from SQLAlchemy>=1.4.49->SQLAlchemy[asyncio]>=1.4.49->llama-index-core<0.12.0,>=0.11.22->llama-index) (3.1.1)\n",
            "Requirement already satisfied: mypy-extensions>=0.3.0 in /usr/local/lib/python3.10/dist-packages (from typing-inspect>=0.8.0->llama-index-core<0.12.0,>=0.11.22->llama-index) (1.0.0)\n",
            "Requirement already satisfied: marshmallow<4.0.0,>=3.18.0 in /usr/local/lib/python3.10/dist-packages (from dataclasses-json->llama-index-core<0.12.0,>=0.11.22->llama-index) (3.23.1)\n",
            "Requirement already satisfied: exceptiongroup in /usr/local/lib/python3.10/dist-packages (from anyio->httpx->llama-index-core<0.12.0,>=0.11.22->llama-index) (1.2.2)\n",
            "Requirement already satisfied: propcache>=0.2.0 in /usr/local/lib/python3.10/dist-packages (from yarl<2.0,>=1.12.0->aiohttp<4.0.0,>=3.8.6->llama-index-core<0.12.0,>=0.11.22->llama-index) (0.2.0)\n"
          ]
        }
      ],
      "source": [
        "!pip install llama-index graspologic numpy==1.24.4 scipy==1.12.0"
      ]
    },
    {
      "cell_type": "markdown",
      "metadata": {
        "id": "B6k8kGXrhej2"
      },
      "source": [
        "## Load Data\n",
        "\n",
        "We will use a sample news article dataset retrieved from Diffbot, which Tomaz has conveniently made available on GitHub for easy access.\n",
        "\n",
        "The dataset contains 2,500 samples; for ease of experimentation, we will use 50 of these samples, which include the `title` and `text` of news articles."
      ]
    },
    {
      "cell_type": "code",
      "execution_count": 2,
      "metadata": {
        "id": "IpFtU36Whej2",
        "outputId": "f47b5ec0-b58e-4ec3-8fa6-bf20865b1048",
        "colab": {
          "base_uri": "https://localhost:8080/",
          "height": 87
        }
      },
      "outputs": [
        {
          "output_type": "execute_result",
          "data": {
            "text/plain": [
              "'\\nMarie Curie, born in 1867, was a Polish and naturalised-French physicist and chemist who conducted pioneering research on radioactivity.\\nShe was the first woman to win a Nobel Prize, the first person to win a Nobel Prize twice, and the only person to win a Nobel Prize in two scientific fields.\\nHer husband, Pierre Curie, was a co-winner of her first Nobel Prize, making them the first-ever married couple to win the Nobel Prize and launching the Curie family legacy of five Nobel Prizes.\\nShe was, in 1906, the first woman to become a professor at the University of Paris.\\n'"
            ],
            "application/vnd.google.colaboratory.intrinsic+json": {
              "type": "string"
            }
          },
          "metadata": {},
          "execution_count": 2
        }
      ],
      "source": [
        "from llama_index.core import Document\n",
        "\n",
        "news = \"\"\"\n",
        "Marie Curie, born in 1867, was a Polish and naturalised-French physicist and chemist who conducted pioneering research on radioactivity.\n",
        "She was the first woman to win a Nobel Prize, the first person to win a Nobel Prize twice, and the only person to win a Nobel Prize in two scientific fields.\n",
        "Her husband, Pierre Curie, was a co-winner of her first Nobel Prize, making them the first-ever married couple to win the Nobel Prize and launching the Curie family legacy of five Nobel Prizes.\n",
        "She was, in 1906, the first woman to become a professor at the University of Paris.\n",
        "\"\"\"\n",
        "\n",
        "news"
      ]
    },
    {
      "cell_type": "markdown",
      "metadata": {
        "id": "6h9rGbLehej2"
      },
      "source": [
        "Prepare documents as required by LlamaIndex"
      ]
    },
    {
      "cell_type": "code",
      "execution_count": 3,
      "metadata": {
        "id": "GJvaIKpohej3",
        "colab": {
          "base_uri": "https://localhost:8080/"
        },
        "outputId": "1607d25b-a830-447c-cf1a-bc37c2b18384"
      },
      "outputs": [
        {
          "output_type": "execute_result",
          "data": {
            "text/plain": [
              "['\\nMarie Curie, born in 1867, was a Polish and naturalised-French physicist and chemist who conducted pioneering research on radioactivity.\\nShe was the first woman to win a Nobel Prize, the first person to win a Nobel Prize twice, and the only person to win a Nobel Prize in two scientific fields.\\nHer husband, Pierre Curie, was a co-winner of her first Nobel Prize, making them the first-ever married couple to win the Nobel Prize and launching the Curie family legacy of five Nobel Prizes.\\nShe was, in 1906, the first woman to become a professor at the University of Paris.\\n']"
            ]
          },
          "metadata": {},
          "execution_count": 3
        }
      ],
      "source": [
        "documents = [news]\n",
        "documents"
      ]
    },
    {
      "cell_type": "markdown",
      "metadata": {
        "id": "1u9IW1Y7hej3"
      },
      "source": [
        "## Setup API Key and LLM"
      ]
    },
    {
      "cell_type": "code",
      "source": [
        "%pip install llama-index-embeddings-openai\n",
        "%pip install llama-index-llms-openai"
      ],
      "metadata": {
        "colab": {
          "base_uri": "https://localhost:8080/"
        },
        "id": "qahT03Hd4SiC",
        "outputId": "bd17aa97-6c1e-4e08-ffc4-86ccc463c4e5"
      },
      "execution_count": 4,
      "outputs": [
        {
          "output_type": "stream",
          "name": "stdout",
          "text": [
            "Requirement already satisfied: llama-index-embeddings-openai in /usr/local/lib/python3.10/dist-packages (0.2.5)\n",
            "Requirement already satisfied: llama-index-core<0.12.0,>=0.11.0 in /usr/local/lib/python3.10/dist-packages (from llama-index-embeddings-openai) (0.11.22)\n",
            "Requirement already satisfied: openai>=1.1.0 in /usr/local/lib/python3.10/dist-packages (from llama-index-embeddings-openai) (1.52.2)\n",
            "Requirement already satisfied: PyYAML>=6.0.1 in /usr/local/lib/python3.10/dist-packages (from llama-index-core<0.12.0,>=0.11.0->llama-index-embeddings-openai) (6.0.2)\n",
            "Requirement already satisfied: SQLAlchemy>=1.4.49 in /usr/local/lib/python3.10/dist-packages (from SQLAlchemy[asyncio]>=1.4.49->llama-index-core<0.12.0,>=0.11.0->llama-index-embeddings-openai) (2.0.36)\n",
            "Requirement already satisfied: aiohttp<4.0.0,>=3.8.6 in /usr/local/lib/python3.10/dist-packages (from llama-index-core<0.12.0,>=0.11.0->llama-index-embeddings-openai) (3.10.10)\n",
            "Requirement already satisfied: dataclasses-json in /usr/local/lib/python3.10/dist-packages (from llama-index-core<0.12.0,>=0.11.0->llama-index-embeddings-openai) (0.6.7)\n",
            "Requirement already satisfied: deprecated>=1.2.9.3 in /usr/local/lib/python3.10/dist-packages (from llama-index-core<0.12.0,>=0.11.0->llama-index-embeddings-openai) (1.2.14)\n",
            "Requirement already satisfied: dirtyjson<2.0.0,>=1.0.8 in /usr/local/lib/python3.10/dist-packages (from llama-index-core<0.12.0,>=0.11.0->llama-index-embeddings-openai) (1.0.8)\n",
            "Requirement already satisfied: fsspec>=2023.5.0 in /usr/local/lib/python3.10/dist-packages (from llama-index-core<0.12.0,>=0.11.0->llama-index-embeddings-openai) (2024.10.0)\n",
            "Requirement already satisfied: httpx in /usr/local/lib/python3.10/dist-packages (from llama-index-core<0.12.0,>=0.11.0->llama-index-embeddings-openai) (0.27.2)\n",
            "Requirement already satisfied: nest-asyncio<2.0.0,>=1.5.8 in /usr/local/lib/python3.10/dist-packages (from llama-index-core<0.12.0,>=0.11.0->llama-index-embeddings-openai) (1.6.0)\n",
            "Requirement already satisfied: networkx>=3.0 in /usr/local/lib/python3.10/dist-packages (from llama-index-core<0.12.0,>=0.11.0->llama-index-embeddings-openai) (3.4.2)\n",
            "Requirement already satisfied: nltk>3.8.1 in /usr/local/lib/python3.10/dist-packages (from llama-index-core<0.12.0,>=0.11.0->llama-index-embeddings-openai) (3.9.1)\n",
            "Requirement already satisfied: numpy<2.0.0 in /usr/local/lib/python3.10/dist-packages (from llama-index-core<0.12.0,>=0.11.0->llama-index-embeddings-openai) (1.24.4)\n",
            "Requirement already satisfied: pillow>=9.0.0 in /usr/local/lib/python3.10/dist-packages (from llama-index-core<0.12.0,>=0.11.0->llama-index-embeddings-openai) (10.4.0)\n",
            "Requirement already satisfied: pydantic<3.0.0,>=2.7.0 in /usr/local/lib/python3.10/dist-packages (from llama-index-core<0.12.0,>=0.11.0->llama-index-embeddings-openai) (2.9.2)\n",
            "Requirement already satisfied: requests>=2.31.0 in /usr/local/lib/python3.10/dist-packages (from llama-index-core<0.12.0,>=0.11.0->llama-index-embeddings-openai) (2.32.3)\n",
            "Requirement already satisfied: tenacity!=8.4.0,<9.0.0,>=8.2.0 in /usr/local/lib/python3.10/dist-packages (from llama-index-core<0.12.0,>=0.11.0->llama-index-embeddings-openai) (8.5.0)\n",
            "Requirement already satisfied: tiktoken>=0.3.3 in /usr/local/lib/python3.10/dist-packages (from llama-index-core<0.12.0,>=0.11.0->llama-index-embeddings-openai) (0.8.0)\n",
            "Requirement already satisfied: tqdm<5.0.0,>=4.66.1 in /usr/local/lib/python3.10/dist-packages (from llama-index-core<0.12.0,>=0.11.0->llama-index-embeddings-openai) (4.66.6)\n",
            "Requirement already satisfied: typing-extensions>=4.5.0 in /usr/local/lib/python3.10/dist-packages (from llama-index-core<0.12.0,>=0.11.0->llama-index-embeddings-openai) (4.12.2)\n",
            "Requirement already satisfied: typing-inspect>=0.8.0 in /usr/local/lib/python3.10/dist-packages (from llama-index-core<0.12.0,>=0.11.0->llama-index-embeddings-openai) (0.9.0)\n",
            "Requirement already satisfied: wrapt in /usr/local/lib/python3.10/dist-packages (from llama-index-core<0.12.0,>=0.11.0->llama-index-embeddings-openai) (1.16.0)\n",
            "Requirement already satisfied: anyio<5,>=3.5.0 in /usr/local/lib/python3.10/dist-packages (from openai>=1.1.0->llama-index-embeddings-openai) (3.7.1)\n",
            "Requirement already satisfied: distro<2,>=1.7.0 in /usr/local/lib/python3.10/dist-packages (from openai>=1.1.0->llama-index-embeddings-openai) (1.9.0)\n",
            "Requirement already satisfied: jiter<1,>=0.4.0 in /usr/local/lib/python3.10/dist-packages (from openai>=1.1.0->llama-index-embeddings-openai) (0.6.1)\n",
            "Requirement already satisfied: sniffio in /usr/local/lib/python3.10/dist-packages (from openai>=1.1.0->llama-index-embeddings-openai) (1.3.1)\n",
            "Requirement already satisfied: aiohappyeyeballs>=2.3.0 in /usr/local/lib/python3.10/dist-packages (from aiohttp<4.0.0,>=3.8.6->llama-index-core<0.12.0,>=0.11.0->llama-index-embeddings-openai) (2.4.3)\n",
            "Requirement already satisfied: aiosignal>=1.1.2 in /usr/local/lib/python3.10/dist-packages (from aiohttp<4.0.0,>=3.8.6->llama-index-core<0.12.0,>=0.11.0->llama-index-embeddings-openai) (1.3.1)\n",
            "Requirement already satisfied: attrs>=17.3.0 in /usr/local/lib/python3.10/dist-packages (from aiohttp<4.0.0,>=3.8.6->llama-index-core<0.12.0,>=0.11.0->llama-index-embeddings-openai) (24.2.0)\n",
            "Requirement already satisfied: frozenlist>=1.1.1 in /usr/local/lib/python3.10/dist-packages (from aiohttp<4.0.0,>=3.8.6->llama-index-core<0.12.0,>=0.11.0->llama-index-embeddings-openai) (1.5.0)\n",
            "Requirement already satisfied: multidict<7.0,>=4.5 in /usr/local/lib/python3.10/dist-packages (from aiohttp<4.0.0,>=3.8.6->llama-index-core<0.12.0,>=0.11.0->llama-index-embeddings-openai) (6.1.0)\n",
            "Requirement already satisfied: yarl<2.0,>=1.12.0 in /usr/local/lib/python3.10/dist-packages (from aiohttp<4.0.0,>=3.8.6->llama-index-core<0.12.0,>=0.11.0->llama-index-embeddings-openai) (1.17.0)\n",
            "Requirement already satisfied: async-timeout<5.0,>=4.0 in /usr/local/lib/python3.10/dist-packages (from aiohttp<4.0.0,>=3.8.6->llama-index-core<0.12.0,>=0.11.0->llama-index-embeddings-openai) (4.0.3)\n",
            "Requirement already satisfied: idna>=2.8 in /usr/local/lib/python3.10/dist-packages (from anyio<5,>=3.5.0->openai>=1.1.0->llama-index-embeddings-openai) (3.10)\n",
            "Requirement already satisfied: exceptiongroup in /usr/local/lib/python3.10/dist-packages (from anyio<5,>=3.5.0->openai>=1.1.0->llama-index-embeddings-openai) (1.2.2)\n",
            "Requirement already satisfied: certifi in /usr/local/lib/python3.10/dist-packages (from httpx->llama-index-core<0.12.0,>=0.11.0->llama-index-embeddings-openai) (2024.8.30)\n",
            "Requirement already satisfied: httpcore==1.* in /usr/local/lib/python3.10/dist-packages (from httpx->llama-index-core<0.12.0,>=0.11.0->llama-index-embeddings-openai) (1.0.6)\n",
            "Requirement already satisfied: h11<0.15,>=0.13 in /usr/local/lib/python3.10/dist-packages (from httpcore==1.*->httpx->llama-index-core<0.12.0,>=0.11.0->llama-index-embeddings-openai) (0.14.0)\n",
            "Requirement already satisfied: click in /usr/local/lib/python3.10/dist-packages (from nltk>3.8.1->llama-index-core<0.12.0,>=0.11.0->llama-index-embeddings-openai) (8.1.7)\n",
            "Requirement already satisfied: joblib in /usr/local/lib/python3.10/dist-packages (from nltk>3.8.1->llama-index-core<0.12.0,>=0.11.0->llama-index-embeddings-openai) (1.4.2)\n",
            "Requirement already satisfied: regex>=2021.8.3 in /usr/local/lib/python3.10/dist-packages (from nltk>3.8.1->llama-index-core<0.12.0,>=0.11.0->llama-index-embeddings-openai) (2024.9.11)\n",
            "Requirement already satisfied: annotated-types>=0.6.0 in /usr/local/lib/python3.10/dist-packages (from pydantic<3.0.0,>=2.7.0->llama-index-core<0.12.0,>=0.11.0->llama-index-embeddings-openai) (0.7.0)\n",
            "Requirement already satisfied: pydantic-core==2.23.4 in /usr/local/lib/python3.10/dist-packages (from pydantic<3.0.0,>=2.7.0->llama-index-core<0.12.0,>=0.11.0->llama-index-embeddings-openai) (2.23.4)\n",
            "Requirement already satisfied: charset-normalizer<4,>=2 in /usr/local/lib/python3.10/dist-packages (from requests>=2.31.0->llama-index-core<0.12.0,>=0.11.0->llama-index-embeddings-openai) (3.4.0)\n",
            "Requirement already satisfied: urllib3<3,>=1.21.1 in /usr/local/lib/python3.10/dist-packages (from requests>=2.31.0->llama-index-core<0.12.0,>=0.11.0->llama-index-embeddings-openai) (2.2.3)\n",
            "Requirement already satisfied: greenlet!=0.4.17 in /usr/local/lib/python3.10/dist-packages (from SQLAlchemy>=1.4.49->SQLAlchemy[asyncio]>=1.4.49->llama-index-core<0.12.0,>=0.11.0->llama-index-embeddings-openai) (3.1.1)\n",
            "Requirement already satisfied: mypy-extensions>=0.3.0 in /usr/local/lib/python3.10/dist-packages (from typing-inspect>=0.8.0->llama-index-core<0.12.0,>=0.11.0->llama-index-embeddings-openai) (1.0.0)\n",
            "Requirement already satisfied: marshmallow<4.0.0,>=3.18.0 in /usr/local/lib/python3.10/dist-packages (from dataclasses-json->llama-index-core<0.12.0,>=0.11.0->llama-index-embeddings-openai) (3.23.1)\n",
            "Requirement already satisfied: packaging>=17.0 in /usr/local/lib/python3.10/dist-packages (from marshmallow<4.0.0,>=3.18.0->dataclasses-json->llama-index-core<0.12.0,>=0.11.0->llama-index-embeddings-openai) (24.1)\n",
            "Requirement already satisfied: propcache>=0.2.0 in /usr/local/lib/python3.10/dist-packages (from yarl<2.0,>=1.12.0->aiohttp<4.0.0,>=3.8.6->llama-index-core<0.12.0,>=0.11.0->llama-index-embeddings-openai) (0.2.0)\n",
            "Requirement already satisfied: llama-index-llms-openai in /usr/local/lib/python3.10/dist-packages (0.2.16)\n",
            "Requirement already satisfied: llama-index-core<0.12.0,>=0.11.7 in /usr/local/lib/python3.10/dist-packages (from llama-index-llms-openai) (0.11.22)\n",
            "Requirement already satisfied: openai<2.0.0,>=1.40.0 in /usr/local/lib/python3.10/dist-packages (from llama-index-llms-openai) (1.52.2)\n",
            "Requirement already satisfied: PyYAML>=6.0.1 in /usr/local/lib/python3.10/dist-packages (from llama-index-core<0.12.0,>=0.11.7->llama-index-llms-openai) (6.0.2)\n",
            "Requirement already satisfied: SQLAlchemy>=1.4.49 in /usr/local/lib/python3.10/dist-packages (from SQLAlchemy[asyncio]>=1.4.49->llama-index-core<0.12.0,>=0.11.7->llama-index-llms-openai) (2.0.36)\n",
            "Requirement already satisfied: aiohttp<4.0.0,>=3.8.6 in /usr/local/lib/python3.10/dist-packages (from llama-index-core<0.12.0,>=0.11.7->llama-index-llms-openai) (3.10.10)\n",
            "Requirement already satisfied: dataclasses-json in /usr/local/lib/python3.10/dist-packages (from llama-index-core<0.12.0,>=0.11.7->llama-index-llms-openai) (0.6.7)\n",
            "Requirement already satisfied: deprecated>=1.2.9.3 in /usr/local/lib/python3.10/dist-packages (from llama-index-core<0.12.0,>=0.11.7->llama-index-llms-openai) (1.2.14)\n",
            "Requirement already satisfied: dirtyjson<2.0.0,>=1.0.8 in /usr/local/lib/python3.10/dist-packages (from llama-index-core<0.12.0,>=0.11.7->llama-index-llms-openai) (1.0.8)\n",
            "Requirement already satisfied: fsspec>=2023.5.0 in /usr/local/lib/python3.10/dist-packages (from llama-index-core<0.12.0,>=0.11.7->llama-index-llms-openai) (2024.10.0)\n",
            "Requirement already satisfied: httpx in /usr/local/lib/python3.10/dist-packages (from llama-index-core<0.12.0,>=0.11.7->llama-index-llms-openai) (0.27.2)\n",
            "Requirement already satisfied: nest-asyncio<2.0.0,>=1.5.8 in /usr/local/lib/python3.10/dist-packages (from llama-index-core<0.12.0,>=0.11.7->llama-index-llms-openai) (1.6.0)\n",
            "Requirement already satisfied: networkx>=3.0 in /usr/local/lib/python3.10/dist-packages (from llama-index-core<0.12.0,>=0.11.7->llama-index-llms-openai) (3.4.2)\n",
            "Requirement already satisfied: nltk>3.8.1 in /usr/local/lib/python3.10/dist-packages (from llama-index-core<0.12.0,>=0.11.7->llama-index-llms-openai) (3.9.1)\n",
            "Requirement already satisfied: numpy<2.0.0 in /usr/local/lib/python3.10/dist-packages (from llama-index-core<0.12.0,>=0.11.7->llama-index-llms-openai) (1.24.4)\n",
            "Requirement already satisfied: pillow>=9.0.0 in /usr/local/lib/python3.10/dist-packages (from llama-index-core<0.12.0,>=0.11.7->llama-index-llms-openai) (10.4.0)\n",
            "Requirement already satisfied: pydantic<3.0.0,>=2.7.0 in /usr/local/lib/python3.10/dist-packages (from llama-index-core<0.12.0,>=0.11.7->llama-index-llms-openai) (2.9.2)\n",
            "Requirement already satisfied: requests>=2.31.0 in /usr/local/lib/python3.10/dist-packages (from llama-index-core<0.12.0,>=0.11.7->llama-index-llms-openai) (2.32.3)\n",
            "Requirement already satisfied: tenacity!=8.4.0,<9.0.0,>=8.2.0 in /usr/local/lib/python3.10/dist-packages (from llama-index-core<0.12.0,>=0.11.7->llama-index-llms-openai) (8.5.0)\n",
            "Requirement already satisfied: tiktoken>=0.3.3 in /usr/local/lib/python3.10/dist-packages (from llama-index-core<0.12.0,>=0.11.7->llama-index-llms-openai) (0.8.0)\n",
            "Requirement already satisfied: tqdm<5.0.0,>=4.66.1 in /usr/local/lib/python3.10/dist-packages (from llama-index-core<0.12.0,>=0.11.7->llama-index-llms-openai) (4.66.6)\n",
            "Requirement already satisfied: typing-extensions>=4.5.0 in /usr/local/lib/python3.10/dist-packages (from llama-index-core<0.12.0,>=0.11.7->llama-index-llms-openai) (4.12.2)\n",
            "Requirement already satisfied: typing-inspect>=0.8.0 in /usr/local/lib/python3.10/dist-packages (from llama-index-core<0.12.0,>=0.11.7->llama-index-llms-openai) (0.9.0)\n",
            "Requirement already satisfied: wrapt in /usr/local/lib/python3.10/dist-packages (from llama-index-core<0.12.0,>=0.11.7->llama-index-llms-openai) (1.16.0)\n",
            "Requirement already satisfied: anyio<5,>=3.5.0 in /usr/local/lib/python3.10/dist-packages (from openai<2.0.0,>=1.40.0->llama-index-llms-openai) (3.7.1)\n",
            "Requirement already satisfied: distro<2,>=1.7.0 in /usr/local/lib/python3.10/dist-packages (from openai<2.0.0,>=1.40.0->llama-index-llms-openai) (1.9.0)\n",
            "Requirement already satisfied: jiter<1,>=0.4.0 in /usr/local/lib/python3.10/dist-packages (from openai<2.0.0,>=1.40.0->llama-index-llms-openai) (0.6.1)\n",
            "Requirement already satisfied: sniffio in /usr/local/lib/python3.10/dist-packages (from openai<2.0.0,>=1.40.0->llama-index-llms-openai) (1.3.1)\n",
            "Requirement already satisfied: aiohappyeyeballs>=2.3.0 in /usr/local/lib/python3.10/dist-packages (from aiohttp<4.0.0,>=3.8.6->llama-index-core<0.12.0,>=0.11.7->llama-index-llms-openai) (2.4.3)\n",
            "Requirement already satisfied: aiosignal>=1.1.2 in /usr/local/lib/python3.10/dist-packages (from aiohttp<4.0.0,>=3.8.6->llama-index-core<0.12.0,>=0.11.7->llama-index-llms-openai) (1.3.1)\n",
            "Requirement already satisfied: attrs>=17.3.0 in /usr/local/lib/python3.10/dist-packages (from aiohttp<4.0.0,>=3.8.6->llama-index-core<0.12.0,>=0.11.7->llama-index-llms-openai) (24.2.0)\n",
            "Requirement already satisfied: frozenlist>=1.1.1 in /usr/local/lib/python3.10/dist-packages (from aiohttp<4.0.0,>=3.8.6->llama-index-core<0.12.0,>=0.11.7->llama-index-llms-openai) (1.5.0)\n",
            "Requirement already satisfied: multidict<7.0,>=4.5 in /usr/local/lib/python3.10/dist-packages (from aiohttp<4.0.0,>=3.8.6->llama-index-core<0.12.0,>=0.11.7->llama-index-llms-openai) (6.1.0)\n",
            "Requirement already satisfied: yarl<2.0,>=1.12.0 in /usr/local/lib/python3.10/dist-packages (from aiohttp<4.0.0,>=3.8.6->llama-index-core<0.12.0,>=0.11.7->llama-index-llms-openai) (1.17.0)\n",
            "Requirement already satisfied: async-timeout<5.0,>=4.0 in /usr/local/lib/python3.10/dist-packages (from aiohttp<4.0.0,>=3.8.6->llama-index-core<0.12.0,>=0.11.7->llama-index-llms-openai) (4.0.3)\n",
            "Requirement already satisfied: idna>=2.8 in /usr/local/lib/python3.10/dist-packages (from anyio<5,>=3.5.0->openai<2.0.0,>=1.40.0->llama-index-llms-openai) (3.10)\n",
            "Requirement already satisfied: exceptiongroup in /usr/local/lib/python3.10/dist-packages (from anyio<5,>=3.5.0->openai<2.0.0,>=1.40.0->llama-index-llms-openai) (1.2.2)\n",
            "Requirement already satisfied: certifi in /usr/local/lib/python3.10/dist-packages (from httpx->llama-index-core<0.12.0,>=0.11.7->llama-index-llms-openai) (2024.8.30)\n",
            "Requirement already satisfied: httpcore==1.* in /usr/local/lib/python3.10/dist-packages (from httpx->llama-index-core<0.12.0,>=0.11.7->llama-index-llms-openai) (1.0.6)\n",
            "Requirement already satisfied: h11<0.15,>=0.13 in /usr/local/lib/python3.10/dist-packages (from httpcore==1.*->httpx->llama-index-core<0.12.0,>=0.11.7->llama-index-llms-openai) (0.14.0)\n",
            "Requirement already satisfied: click in /usr/local/lib/python3.10/dist-packages (from nltk>3.8.1->llama-index-core<0.12.0,>=0.11.7->llama-index-llms-openai) (8.1.7)\n",
            "Requirement already satisfied: joblib in /usr/local/lib/python3.10/dist-packages (from nltk>3.8.1->llama-index-core<0.12.0,>=0.11.7->llama-index-llms-openai) (1.4.2)\n",
            "Requirement already satisfied: regex>=2021.8.3 in /usr/local/lib/python3.10/dist-packages (from nltk>3.8.1->llama-index-core<0.12.0,>=0.11.7->llama-index-llms-openai) (2024.9.11)\n",
            "Requirement already satisfied: annotated-types>=0.6.0 in /usr/local/lib/python3.10/dist-packages (from pydantic<3.0.0,>=2.7.0->llama-index-core<0.12.0,>=0.11.7->llama-index-llms-openai) (0.7.0)\n",
            "Requirement already satisfied: pydantic-core==2.23.4 in /usr/local/lib/python3.10/dist-packages (from pydantic<3.0.0,>=2.7.0->llama-index-core<0.12.0,>=0.11.7->llama-index-llms-openai) (2.23.4)\n",
            "Requirement already satisfied: charset-normalizer<4,>=2 in /usr/local/lib/python3.10/dist-packages (from requests>=2.31.0->llama-index-core<0.12.0,>=0.11.7->llama-index-llms-openai) (3.4.0)\n",
            "Requirement already satisfied: urllib3<3,>=1.21.1 in /usr/local/lib/python3.10/dist-packages (from requests>=2.31.0->llama-index-core<0.12.0,>=0.11.7->llama-index-llms-openai) (2.2.3)\n",
            "Requirement already satisfied: greenlet!=0.4.17 in /usr/local/lib/python3.10/dist-packages (from SQLAlchemy>=1.4.49->SQLAlchemy[asyncio]>=1.4.49->llama-index-core<0.12.0,>=0.11.7->llama-index-llms-openai) (3.1.1)\n",
            "Requirement already satisfied: mypy-extensions>=0.3.0 in /usr/local/lib/python3.10/dist-packages (from typing-inspect>=0.8.0->llama-index-core<0.12.0,>=0.11.7->llama-index-llms-openai) (1.0.0)\n",
            "Requirement already satisfied: marshmallow<4.0.0,>=3.18.0 in /usr/local/lib/python3.10/dist-packages (from dataclasses-json->llama-index-core<0.12.0,>=0.11.7->llama-index-llms-openai) (3.23.1)\n",
            "Requirement already satisfied: packaging>=17.0 in /usr/local/lib/python3.10/dist-packages (from marshmallow<4.0.0,>=3.18.0->dataclasses-json->llama-index-core<0.12.0,>=0.11.7->llama-index-llms-openai) (24.1)\n",
            "Requirement already satisfied: propcache>=0.2.0 in /usr/local/lib/python3.10/dist-packages (from yarl<2.0,>=1.12.0->aiohttp<4.0.0,>=3.8.6->llama-index-core<0.12.0,>=0.11.7->llama-index-llms-openai) (0.2.0)\n"
          ]
        }
      ]
    },
    {
      "cell_type": "code",
      "source": [
        "from llama_index.llms.azure_openai import AsyncAzureOpenAI\n",
        "from llama_index.embeddings.azure_openai import AzureOpenAIEmbedding\n",
        "from llama_index.core import VectorStoreIndex, SimpleDirectoryReader"
      ],
      "metadata": {
        "id": "7vAkvbJ04YcW"
      },
      "execution_count": null,
      "outputs": []
    },
    {
      "cell_type": "code",
      "execution_count": 5,
      "metadata": {
        "id": "75XCH-lrhej3",
        "colab": {
          "base_uri": "https://localhost:8080/"
        },
        "outputId": "17701a41-ae98-4046-8b81-47296aa6fc7a"
      },
      "outputs": [
        {
          "name": "stdout",
          "output_type": "stream",
          "text": [
            "Enter your OPENAI API key: ··········\n"
          ]
        }
      ],
      "source": [
        "import getpass\n",
        "import os\n",
        "\n",
        "if \"OPENAI_API_KEY\" not in os.environ:\n",
        "    os.environ[\"OPENAI_API_KEY\"] = getpass.getpass(\"Enter your OPENAI API key: \")\n",
        "\n",
        "from llama_index.llms.openai import OpenAI\n",
        "llm = OpenAI(model=\"gpt-4o-mini\", api_key=os.environ[\"OPENAI_API_KEY\"])"
      ]
    },
    {
      "cell_type": "code",
      "source": [
        "import getpass\n",
        "import os\n",
        "\n",
        "if \"OPENAI_ENDPOINT\" not in os.environ:\n",
        "    os.environ[\"OPENAI_ENDPOINT\"] = getpass.getpass(\"Enter your OPENAI Endpoint: \")\n",
        "\n",
        "if \"OPENAI_VERSION\" not in os.environ:\n",
        "    os.environ[\"OPENAI_VERSION\"] = getpass.getpass(\"Enter your OPENAI Version: \")\n",
        "\n",
        "if \"OPENAI_KEY\" not in os.environ:\n",
        "    os.environ[\"OPENAI_API_KEY\"] = getpass.getpass(\"Enter your OPENAI Key: \")\n",
        "\n",
        "llm = AzureOpenAI(\n",
        "    model=\"gpt-35-turbo\",\n",
        "    deployment_name=\"gpt-35-turbo\",\n",
        "    api_key=os.getenv('OPENAI_KEY'),\n",
        "    azure_endpoint=os.getenv('OPENAI_ENDPOINT'),\n",
        "    api_version=os.getenv('OPENAI_VERSION'),\n",
        ")\n",
        "\n",
        "embed_model = AzureOpenAIEmbedding(\n",
        "    model=\"text-embedding-ada-002\",\n",
        "    deployment_name=\"text-embedding-ada-002\",\n",
        "    api_key=os.getenv('OPENAI_API_KEY'),\n",
        "    azure_endpoint=os.getenv(\"OPENAI_ENDPOINT\"),\n",
        "    api_version=os.getenv('OPENAI_VERSION'),\n",
        ")"
      ],
      "metadata": {
        "id": "QjYuN9Km4wgw"
      },
      "execution_count": null,
      "outputs": []
    },
    {
      "cell_type": "code",
      "source": [
        "from llama_index.core.schema import TextNode, NodeRelationship, RelatedNodeInfo\n",
        "\n",
        "def split_documents_into_chunks(documents, chunk_size=1024, overlap_size=20):\n",
        "    chunks = []\n",
        "    for document in documents:\n",
        "        for i in range(0, len(document), chunk_size - overlap_size):\n",
        "            chunk = document[i: i+chunk_size]\n",
        "            chunks.append(chunk)\n",
        "    return chunks\n",
        "\n",
        "chunks = split_documents_into_chunks(documents)\n",
        "node1 = TextNode(text=chunks[0], id_=\"1\")\n",
        "nodes = [node1]"
      ],
      "metadata": {
        "id": "nV6v_xRe7QCV"
      },
      "execution_count": null,
      "outputs": []
    },
    {
      "cell_type": "code",
      "source": [
        "from llama_index.core import Settings\n",
        "\n",
        "Settings.llm = llm\n",
        "Settings.embed_model = embed_model\n",
        "\n",
        "documents = SimpleDirectoryReader(\n",
        "    input_files=[\"/content/temp.txt\"]\n",
        ").load_data()\n",
        "index = VectorStoreIndex.from_documents(documents)\n",
        "\n",
        "query = \"What is Marie Curie?\"\n",
        "query_engine = index.as_query_engine()\n",
        "answer = query_engine.query(query)\n",
        "\n",
        "print(answer.get_formatted_sources())\n",
        "print(\"query was:\", query)\n",
        "print(\"answer was:\", answer)"
      ],
      "metadata": {
        "colab": {
          "base_uri": "https://localhost:8080/",
          "height": 1000
        },
        "id": "2K5qd21h64Uo",
        "outputId": "46de0955-740c-4543-c3a0-b21c0a40f7dd"
      },
      "execution_count": null,
      "outputs": [
        {
          "output_type": "error",
          "ename": "BadRequestError",
          "evalue": "Unsupported data type",
          "traceback": [
            "\u001b[0;31m---------------------------------------------------------------------------\u001b[0m",
            "\u001b[0;31mBadRequestError\u001b[0m                           Traceback (most recent call last)",
            "\u001b[0;32m<ipython-input-26-1fcd1469fde8>\u001b[0m in \u001b[0;36m<cell line: 9>\u001b[0;34m()\u001b[0m\n\u001b[1;32m      7\u001b[0m     \u001b[0minput_files\u001b[0m\u001b[0;34m=\u001b[0m\u001b[0;34m[\u001b[0m\u001b[0;34m\"/content/temp.txt\"\u001b[0m\u001b[0;34m]\u001b[0m\u001b[0;34m\u001b[0m\u001b[0;34m\u001b[0m\u001b[0m\n\u001b[1;32m      8\u001b[0m ).load_data()\n\u001b[0;32m----> 9\u001b[0;31m \u001b[0mindex\u001b[0m \u001b[0;34m=\u001b[0m \u001b[0mVectorStoreIndex\u001b[0m\u001b[0;34m.\u001b[0m\u001b[0mfrom_documents\u001b[0m\u001b[0;34m(\u001b[0m\u001b[0mdocuments\u001b[0m\u001b[0;34m)\u001b[0m\u001b[0;34m\u001b[0m\u001b[0;34m\u001b[0m\u001b[0m\n\u001b[0m\u001b[1;32m     10\u001b[0m \u001b[0;34m\u001b[0m\u001b[0m\n\u001b[1;32m     11\u001b[0m \u001b[0mquery\u001b[0m \u001b[0;34m=\u001b[0m \u001b[0;34m\"What is Marie Curie?\"\u001b[0m\u001b[0;34m\u001b[0m\u001b[0;34m\u001b[0m\u001b[0m\n",
            "\u001b[0;32m/usr/local/lib/python3.10/dist-packages/llama_index/core/indices/base.py\u001b[0m in \u001b[0;36mfrom_documents\u001b[0;34m(cls, documents, storage_context, show_progress, callback_manager, transformations, **kwargs)\u001b[0m\n\u001b[1;32m    117\u001b[0m             )\n\u001b[1;32m    118\u001b[0m \u001b[0;34m\u001b[0m\u001b[0m\n\u001b[0;32m--> 119\u001b[0;31m             return cls(\n\u001b[0m\u001b[1;32m    120\u001b[0m                 \u001b[0mnodes\u001b[0m\u001b[0;34m=\u001b[0m\u001b[0mnodes\u001b[0m\u001b[0;34m,\u001b[0m\u001b[0;34m\u001b[0m\u001b[0;34m\u001b[0m\u001b[0m\n\u001b[1;32m    121\u001b[0m                 \u001b[0mstorage_context\u001b[0m\u001b[0;34m=\u001b[0m\u001b[0mstorage_context\u001b[0m\u001b[0;34m,\u001b[0m\u001b[0;34m\u001b[0m\u001b[0;34m\u001b[0m\u001b[0m\n",
            "\u001b[0;32m/usr/local/lib/python3.10/dist-packages/llama_index/core/indices/vector_store/base.py\u001b[0m in \u001b[0;36m__init__\u001b[0;34m(self, nodes, use_async, store_nodes_override, embed_model, insert_batch_size, objects, index_struct, storage_context, callback_manager, transformations, show_progress, **kwargs)\u001b[0m\n\u001b[1;32m     74\u001b[0m \u001b[0;34m\u001b[0m\u001b[0m\n\u001b[1;32m     75\u001b[0m         \u001b[0mself\u001b[0m\u001b[0;34m.\u001b[0m\u001b[0m_insert_batch_size\u001b[0m \u001b[0;34m=\u001b[0m \u001b[0minsert_batch_size\u001b[0m\u001b[0;34m\u001b[0m\u001b[0;34m\u001b[0m\u001b[0m\n\u001b[0;32m---> 76\u001b[0;31m         super().__init__(\n\u001b[0m\u001b[1;32m     77\u001b[0m             \u001b[0mnodes\u001b[0m\u001b[0;34m=\u001b[0m\u001b[0mnodes\u001b[0m\u001b[0;34m,\u001b[0m\u001b[0;34m\u001b[0m\u001b[0;34m\u001b[0m\u001b[0m\n\u001b[1;32m     78\u001b[0m             \u001b[0mindex_struct\u001b[0m\u001b[0;34m=\u001b[0m\u001b[0mindex_struct\u001b[0m\u001b[0;34m,\u001b[0m\u001b[0;34m\u001b[0m\u001b[0;34m\u001b[0m\u001b[0m\n",
            "\u001b[0;32m/usr/local/lib/python3.10/dist-packages/llama_index/core/indices/base.py\u001b[0m in \u001b[0;36m__init__\u001b[0;34m(self, nodes, objects, index_struct, storage_context, callback_manager, transformations, show_progress, **kwargs)\u001b[0m\n\u001b[1;32m     75\u001b[0m             \u001b[0;32mif\u001b[0m \u001b[0mindex_struct\u001b[0m \u001b[0;32mis\u001b[0m \u001b[0;32mNone\u001b[0m\u001b[0;34m:\u001b[0m\u001b[0;34m\u001b[0m\u001b[0;34m\u001b[0m\u001b[0m\n\u001b[1;32m     76\u001b[0m                 \u001b[0mnodes\u001b[0m \u001b[0;34m=\u001b[0m \u001b[0mnodes\u001b[0m \u001b[0;32mor\u001b[0m \u001b[0;34m[\u001b[0m\u001b[0;34m]\u001b[0m\u001b[0;34m\u001b[0m\u001b[0;34m\u001b[0m\u001b[0m\n\u001b[0;32m---> 77\u001b[0;31m                 index_struct = self.build_index_from_nodes(\n\u001b[0m\u001b[1;32m     78\u001b[0m                     \u001b[0mnodes\u001b[0m \u001b[0;34m+\u001b[0m \u001b[0mobjects\u001b[0m\u001b[0;34m,\u001b[0m  \u001b[0;31m# type: ignore\u001b[0m\u001b[0;34m\u001b[0m\u001b[0;34m\u001b[0m\u001b[0m\n\u001b[1;32m     79\u001b[0m                     \u001b[0;34m**\u001b[0m\u001b[0mkwargs\u001b[0m\u001b[0;34m,\u001b[0m  \u001b[0;31m# type: ignore\u001b[0m\u001b[0;34m\u001b[0m\u001b[0;34m\u001b[0m\u001b[0m\n",
            "\u001b[0;32m/usr/local/lib/python3.10/dist-packages/llama_index/core/indices/vector_store/base.py\u001b[0m in \u001b[0;36mbuild_index_from_nodes\u001b[0;34m(self, nodes, **insert_kwargs)\u001b[0m\n\u001b[1;32m    308\u001b[0m             \u001b[0mprint\u001b[0m\u001b[0;34m(\u001b[0m\u001b[0;34m\"Some nodes are missing content, skipping them...\"\u001b[0m\u001b[0;34m)\u001b[0m\u001b[0;34m\u001b[0m\u001b[0;34m\u001b[0m\u001b[0m\n\u001b[1;32m    309\u001b[0m \u001b[0;34m\u001b[0m\u001b[0m\n\u001b[0;32m--> 310\u001b[0;31m         \u001b[0;32mreturn\u001b[0m \u001b[0mself\u001b[0m\u001b[0;34m.\u001b[0m\u001b[0m_build_index_from_nodes\u001b[0m\u001b[0;34m(\u001b[0m\u001b[0mcontent_nodes\u001b[0m\u001b[0;34m,\u001b[0m \u001b[0;34m**\u001b[0m\u001b[0minsert_kwargs\u001b[0m\u001b[0;34m)\u001b[0m\u001b[0;34m\u001b[0m\u001b[0;34m\u001b[0m\u001b[0m\n\u001b[0m\u001b[1;32m    311\u001b[0m \u001b[0;34m\u001b[0m\u001b[0m\n\u001b[1;32m    312\u001b[0m     \u001b[0;32mdef\u001b[0m \u001b[0m_insert\u001b[0m\u001b[0;34m(\u001b[0m\u001b[0mself\u001b[0m\u001b[0;34m,\u001b[0m \u001b[0mnodes\u001b[0m\u001b[0;34m:\u001b[0m \u001b[0mSequence\u001b[0m\u001b[0;34m[\u001b[0m\u001b[0mBaseNode\u001b[0m\u001b[0;34m]\u001b[0m\u001b[0;34m,\u001b[0m \u001b[0;34m**\u001b[0m\u001b[0minsert_kwargs\u001b[0m\u001b[0;34m:\u001b[0m \u001b[0mAny\u001b[0m\u001b[0;34m)\u001b[0m \u001b[0;34m->\u001b[0m \u001b[0;32mNone\u001b[0m\u001b[0;34m:\u001b[0m\u001b[0;34m\u001b[0m\u001b[0;34m\u001b[0m\u001b[0m\n",
            "\u001b[0;32m/usr/local/lib/python3.10/dist-packages/llama_index/core/indices/vector_store/base.py\u001b[0m in \u001b[0;36m_build_index_from_nodes\u001b[0;34m(self, nodes, **insert_kwargs)\u001b[0m\n\u001b[1;32m    277\u001b[0m             \u001b[0mrun_async_tasks\u001b[0m\u001b[0;34m(\u001b[0m\u001b[0mtasks\u001b[0m\u001b[0;34m)\u001b[0m\u001b[0;34m\u001b[0m\u001b[0;34m\u001b[0m\u001b[0m\n\u001b[1;32m    278\u001b[0m         \u001b[0;32melse\u001b[0m\u001b[0;34m:\u001b[0m\u001b[0;34m\u001b[0m\u001b[0;34m\u001b[0m\u001b[0m\n\u001b[0;32m--> 279\u001b[0;31m             self._add_nodes_to_index(\n\u001b[0m\u001b[1;32m    280\u001b[0m                 \u001b[0mindex_struct\u001b[0m\u001b[0;34m,\u001b[0m\u001b[0;34m\u001b[0m\u001b[0;34m\u001b[0m\u001b[0m\n\u001b[1;32m    281\u001b[0m                 \u001b[0mnodes\u001b[0m\u001b[0;34m,\u001b[0m\u001b[0;34m\u001b[0m\u001b[0;34m\u001b[0m\u001b[0m\n",
            "\u001b[0;32m/usr/local/lib/python3.10/dist-packages/llama_index/core/indices/vector_store/base.py\u001b[0m in \u001b[0;36m_add_nodes_to_index\u001b[0;34m(self, index_struct, nodes, show_progress, **insert_kwargs)\u001b[0m\n\u001b[1;32m    230\u001b[0m \u001b[0;34m\u001b[0m\u001b[0m\n\u001b[1;32m    231\u001b[0m         \u001b[0;32mfor\u001b[0m \u001b[0mnodes_batch\u001b[0m \u001b[0;32min\u001b[0m \u001b[0miter_batch\u001b[0m\u001b[0;34m(\u001b[0m\u001b[0mnodes\u001b[0m\u001b[0;34m,\u001b[0m \u001b[0mself\u001b[0m\u001b[0;34m.\u001b[0m\u001b[0m_insert_batch_size\u001b[0m\u001b[0;34m)\u001b[0m\u001b[0;34m:\u001b[0m\u001b[0;34m\u001b[0m\u001b[0;34m\u001b[0m\u001b[0m\n\u001b[0;32m--> 232\u001b[0;31m             \u001b[0mnodes_batch\u001b[0m \u001b[0;34m=\u001b[0m \u001b[0mself\u001b[0m\u001b[0;34m.\u001b[0m\u001b[0m_get_node_with_embedding\u001b[0m\u001b[0;34m(\u001b[0m\u001b[0mnodes_batch\u001b[0m\u001b[0;34m,\u001b[0m \u001b[0mshow_progress\u001b[0m\u001b[0;34m)\u001b[0m\u001b[0;34m\u001b[0m\u001b[0;34m\u001b[0m\u001b[0m\n\u001b[0m\u001b[1;32m    233\u001b[0m             \u001b[0mnew_ids\u001b[0m \u001b[0;34m=\u001b[0m \u001b[0mself\u001b[0m\u001b[0;34m.\u001b[0m\u001b[0m_vector_store\u001b[0m\u001b[0;34m.\u001b[0m\u001b[0madd\u001b[0m\u001b[0;34m(\u001b[0m\u001b[0mnodes_batch\u001b[0m\u001b[0;34m,\u001b[0m \u001b[0;34m**\u001b[0m\u001b[0minsert_kwargs\u001b[0m\u001b[0;34m)\u001b[0m\u001b[0;34m\u001b[0m\u001b[0;34m\u001b[0m\u001b[0m\n\u001b[1;32m    234\u001b[0m \u001b[0;34m\u001b[0m\u001b[0m\n",
            "\u001b[0;32m/usr/local/lib/python3.10/dist-packages/llama_index/core/indices/vector_store/base.py\u001b[0m in \u001b[0;36m_get_node_with_embedding\u001b[0;34m(self, nodes, show_progress)\u001b[0m\n\u001b[1;32m    137\u001b[0m \u001b[0;34m\u001b[0m\u001b[0m\n\u001b[1;32m    138\u001b[0m         \"\"\"\n\u001b[0;32m--> 139\u001b[0;31m         id_to_embed_map = embed_nodes(\n\u001b[0m\u001b[1;32m    140\u001b[0m             \u001b[0mnodes\u001b[0m\u001b[0;34m,\u001b[0m \u001b[0mself\u001b[0m\u001b[0;34m.\u001b[0m\u001b[0m_embed_model\u001b[0m\u001b[0;34m,\u001b[0m \u001b[0mshow_progress\u001b[0m\u001b[0;34m=\u001b[0m\u001b[0mshow_progress\u001b[0m\u001b[0;34m\u001b[0m\u001b[0;34m\u001b[0m\u001b[0m\n\u001b[1;32m    141\u001b[0m         )\n",
            "\u001b[0;32m/usr/local/lib/python3.10/dist-packages/llama_index/core/indices/utils.py\u001b[0m in \u001b[0;36membed_nodes\u001b[0;34m(nodes, embed_model, show_progress)\u001b[0m\n\u001b[1;32m    136\u001b[0m             \u001b[0mid_to_embed_map\u001b[0m\u001b[0;34m[\u001b[0m\u001b[0mnode\u001b[0m\u001b[0;34m.\u001b[0m\u001b[0mnode_id\u001b[0m\u001b[0;34m]\u001b[0m \u001b[0;34m=\u001b[0m \u001b[0mnode\u001b[0m\u001b[0;34m.\u001b[0m\u001b[0membedding\u001b[0m\u001b[0;34m\u001b[0m\u001b[0;34m\u001b[0m\u001b[0m\n\u001b[1;32m    137\u001b[0m \u001b[0;34m\u001b[0m\u001b[0m\n\u001b[0;32m--> 138\u001b[0;31m     new_embeddings = embed_model.get_text_embedding_batch(\n\u001b[0m\u001b[1;32m    139\u001b[0m         \u001b[0mtexts_to_embed\u001b[0m\u001b[0;34m,\u001b[0m \u001b[0mshow_progress\u001b[0m\u001b[0;34m=\u001b[0m\u001b[0mshow_progress\u001b[0m\u001b[0;34m\u001b[0m\u001b[0;34m\u001b[0m\u001b[0m\n\u001b[1;32m    140\u001b[0m     )\n",
            "\u001b[0;32m/usr/local/lib/python3.10/dist-packages/llama_index/core/instrumentation/dispatcher.py\u001b[0m in \u001b[0;36mwrapper\u001b[0;34m(func, instance, args, kwargs)\u001b[0m\n\u001b[1;32m    309\u001b[0m \u001b[0;34m\u001b[0m\u001b[0m\n\u001b[1;32m    310\u001b[0m             \u001b[0;32mtry\u001b[0m\u001b[0;34m:\u001b[0m\u001b[0;34m\u001b[0m\u001b[0;34m\u001b[0m\u001b[0m\n\u001b[0;32m--> 311\u001b[0;31m                 \u001b[0mresult\u001b[0m \u001b[0;34m=\u001b[0m \u001b[0mfunc\u001b[0m\u001b[0;34m(\u001b[0m\u001b[0;34m*\u001b[0m\u001b[0margs\u001b[0m\u001b[0;34m,\u001b[0m \u001b[0;34m**\u001b[0m\u001b[0mkwargs\u001b[0m\u001b[0;34m)\u001b[0m\u001b[0;34m\u001b[0m\u001b[0;34m\u001b[0m\u001b[0m\n\u001b[0m\u001b[1;32m    312\u001b[0m                 \u001b[0;32mif\u001b[0m \u001b[0misinstance\u001b[0m\u001b[0;34m(\u001b[0m\u001b[0mresult\u001b[0m\u001b[0;34m,\u001b[0m \u001b[0masyncio\u001b[0m\u001b[0;34m.\u001b[0m\u001b[0mFuture\u001b[0m\u001b[0;34m)\u001b[0m\u001b[0;34m:\u001b[0m\u001b[0;34m\u001b[0m\u001b[0;34m\u001b[0m\u001b[0m\n\u001b[1;32m    313\u001b[0m                     \u001b[0;31m# If the result is a Future, wrap it\u001b[0m\u001b[0;34m\u001b[0m\u001b[0;34m\u001b[0m\u001b[0m\n",
            "\u001b[0;32m/usr/local/lib/python3.10/dist-packages/llama_index/core/base/embeddings/base.py\u001b[0m in \u001b[0;36mget_text_embedding_batch\u001b[0;34m(self, texts, show_progress, **kwargs)\u001b[0m\n\u001b[1;32m    333\u001b[0m                     \u001b[0mpayload\u001b[0m\u001b[0;34m=\u001b[0m\u001b[0;34m{\u001b[0m\u001b[0mEventPayload\u001b[0m\u001b[0;34m.\u001b[0m\u001b[0mSERIALIZED\u001b[0m\u001b[0;34m:\u001b[0m \u001b[0mself\u001b[0m\u001b[0;34m.\u001b[0m\u001b[0mto_dict\u001b[0m\u001b[0;34m(\u001b[0m\u001b[0;34m)\u001b[0m\u001b[0;34m}\u001b[0m\u001b[0;34m,\u001b[0m\u001b[0;34m\u001b[0m\u001b[0;34m\u001b[0m\u001b[0m\n\u001b[1;32m    334\u001b[0m                 ) as event:\n\u001b[0;32m--> 335\u001b[0;31m                     \u001b[0membeddings\u001b[0m \u001b[0;34m=\u001b[0m \u001b[0mself\u001b[0m\u001b[0;34m.\u001b[0m\u001b[0m_get_text_embeddings\u001b[0m\u001b[0;34m(\u001b[0m\u001b[0mcur_batch\u001b[0m\u001b[0;34m)\u001b[0m\u001b[0;34m\u001b[0m\u001b[0;34m\u001b[0m\u001b[0m\n\u001b[0m\u001b[1;32m    336\u001b[0m                     \u001b[0mresult_embeddings\u001b[0m\u001b[0;34m.\u001b[0m\u001b[0mextend\u001b[0m\u001b[0;34m(\u001b[0m\u001b[0membeddings\u001b[0m\u001b[0;34m)\u001b[0m\u001b[0;34m\u001b[0m\u001b[0;34m\u001b[0m\u001b[0m\n\u001b[1;32m    337\u001b[0m                     event.on_end(\n",
            "\u001b[0;32m/usr/local/lib/python3.10/dist-packages/llama_index/embeddings/openai/base.py\u001b[0m in \u001b[0;36m_get_text_embeddings\u001b[0;34m(self, texts)\u001b[0m\n\u001b[1;32m    430\u001b[0m         \"\"\"\n\u001b[1;32m    431\u001b[0m         \u001b[0mclient\u001b[0m \u001b[0;34m=\u001b[0m \u001b[0mself\u001b[0m\u001b[0;34m.\u001b[0m\u001b[0m_get_client\u001b[0m\u001b[0;34m(\u001b[0m\u001b[0;34m)\u001b[0m\u001b[0;34m\u001b[0m\u001b[0;34m\u001b[0m\u001b[0m\n\u001b[0;32m--> 432\u001b[0;31m         return get_embeddings(\n\u001b[0m\u001b[1;32m    433\u001b[0m             \u001b[0mclient\u001b[0m\u001b[0;34m,\u001b[0m\u001b[0;34m\u001b[0m\u001b[0;34m\u001b[0m\u001b[0m\n\u001b[1;32m    434\u001b[0m             \u001b[0mtexts\u001b[0m\u001b[0;34m,\u001b[0m\u001b[0;34m\u001b[0m\u001b[0;34m\u001b[0m\u001b[0m\n",
            "\u001b[0;32m/usr/local/lib/python3.10/dist-packages/tenacity/__init__.py\u001b[0m in \u001b[0;36mwrapped_f\u001b[0;34m(*args, **kw)\u001b[0m\n\u001b[1;32m    334\u001b[0m             \u001b[0mcopy\u001b[0m \u001b[0;34m=\u001b[0m \u001b[0mself\u001b[0m\u001b[0;34m.\u001b[0m\u001b[0mcopy\u001b[0m\u001b[0;34m(\u001b[0m\u001b[0;34m)\u001b[0m\u001b[0;34m\u001b[0m\u001b[0;34m\u001b[0m\u001b[0m\n\u001b[1;32m    335\u001b[0m             \u001b[0mwrapped_f\u001b[0m\u001b[0;34m.\u001b[0m\u001b[0mstatistics\u001b[0m \u001b[0;34m=\u001b[0m \u001b[0mcopy\u001b[0m\u001b[0;34m.\u001b[0m\u001b[0mstatistics\u001b[0m  \u001b[0;31m# type: ignore[attr-defined]\u001b[0m\u001b[0;34m\u001b[0m\u001b[0;34m\u001b[0m\u001b[0m\n\u001b[0;32m--> 336\u001b[0;31m             \u001b[0;32mreturn\u001b[0m \u001b[0mcopy\u001b[0m\u001b[0;34m(\u001b[0m\u001b[0mf\u001b[0m\u001b[0;34m,\u001b[0m \u001b[0;34m*\u001b[0m\u001b[0margs\u001b[0m\u001b[0;34m,\u001b[0m \u001b[0;34m**\u001b[0m\u001b[0mkw\u001b[0m\u001b[0;34m)\u001b[0m\u001b[0;34m\u001b[0m\u001b[0;34m\u001b[0m\u001b[0m\n\u001b[0m\u001b[1;32m    337\u001b[0m \u001b[0;34m\u001b[0m\u001b[0m\n\u001b[1;32m    338\u001b[0m         \u001b[0;32mdef\u001b[0m \u001b[0mretry_with\u001b[0m\u001b[0;34m(\u001b[0m\u001b[0;34m*\u001b[0m\u001b[0margs\u001b[0m\u001b[0;34m:\u001b[0m \u001b[0mt\u001b[0m\u001b[0;34m.\u001b[0m\u001b[0mAny\u001b[0m\u001b[0;34m,\u001b[0m \u001b[0;34m**\u001b[0m\u001b[0mkwargs\u001b[0m\u001b[0;34m:\u001b[0m \u001b[0mt\u001b[0m\u001b[0;34m.\u001b[0m\u001b[0mAny\u001b[0m\u001b[0;34m)\u001b[0m \u001b[0;34m->\u001b[0m \u001b[0mWrappedFn\u001b[0m\u001b[0;34m:\u001b[0m\u001b[0;34m\u001b[0m\u001b[0;34m\u001b[0m\u001b[0m\n",
            "\u001b[0;32m/usr/local/lib/python3.10/dist-packages/tenacity/__init__.py\u001b[0m in \u001b[0;36m__call__\u001b[0;34m(self, fn, *args, **kwargs)\u001b[0m\n\u001b[1;32m    473\u001b[0m         \u001b[0mretry_state\u001b[0m \u001b[0;34m=\u001b[0m \u001b[0mRetryCallState\u001b[0m\u001b[0;34m(\u001b[0m\u001b[0mretry_object\u001b[0m\u001b[0;34m=\u001b[0m\u001b[0mself\u001b[0m\u001b[0;34m,\u001b[0m \u001b[0mfn\u001b[0m\u001b[0;34m=\u001b[0m\u001b[0mfn\u001b[0m\u001b[0;34m,\u001b[0m \u001b[0margs\u001b[0m\u001b[0;34m=\u001b[0m\u001b[0margs\u001b[0m\u001b[0;34m,\u001b[0m \u001b[0mkwargs\u001b[0m\u001b[0;34m=\u001b[0m\u001b[0mkwargs\u001b[0m\u001b[0;34m)\u001b[0m\u001b[0;34m\u001b[0m\u001b[0;34m\u001b[0m\u001b[0m\n\u001b[1;32m    474\u001b[0m         \u001b[0;32mwhile\u001b[0m \u001b[0;32mTrue\u001b[0m\u001b[0;34m:\u001b[0m\u001b[0;34m\u001b[0m\u001b[0;34m\u001b[0m\u001b[0m\n\u001b[0;32m--> 475\u001b[0;31m             \u001b[0mdo\u001b[0m \u001b[0;34m=\u001b[0m \u001b[0mself\u001b[0m\u001b[0;34m.\u001b[0m\u001b[0miter\u001b[0m\u001b[0;34m(\u001b[0m\u001b[0mretry_state\u001b[0m\u001b[0;34m=\u001b[0m\u001b[0mretry_state\u001b[0m\u001b[0;34m)\u001b[0m\u001b[0;34m\u001b[0m\u001b[0;34m\u001b[0m\u001b[0m\n\u001b[0m\u001b[1;32m    476\u001b[0m             \u001b[0;32mif\u001b[0m \u001b[0misinstance\u001b[0m\u001b[0;34m(\u001b[0m\u001b[0mdo\u001b[0m\u001b[0;34m,\u001b[0m \u001b[0mDoAttempt\u001b[0m\u001b[0;34m)\u001b[0m\u001b[0;34m:\u001b[0m\u001b[0;34m\u001b[0m\u001b[0;34m\u001b[0m\u001b[0m\n\u001b[1;32m    477\u001b[0m                 \u001b[0;32mtry\u001b[0m\u001b[0;34m:\u001b[0m\u001b[0;34m\u001b[0m\u001b[0;34m\u001b[0m\u001b[0m\n",
            "\u001b[0;32m/usr/local/lib/python3.10/dist-packages/tenacity/__init__.py\u001b[0m in \u001b[0;36miter\u001b[0;34m(self, retry_state)\u001b[0m\n\u001b[1;32m    374\u001b[0m         \u001b[0mresult\u001b[0m \u001b[0;34m=\u001b[0m \u001b[0;32mNone\u001b[0m\u001b[0;34m\u001b[0m\u001b[0;34m\u001b[0m\u001b[0m\n\u001b[1;32m    375\u001b[0m         \u001b[0;32mfor\u001b[0m \u001b[0maction\u001b[0m \u001b[0;32min\u001b[0m \u001b[0mself\u001b[0m\u001b[0;34m.\u001b[0m\u001b[0miter_state\u001b[0m\u001b[0;34m.\u001b[0m\u001b[0mactions\u001b[0m\u001b[0;34m:\u001b[0m\u001b[0;34m\u001b[0m\u001b[0;34m\u001b[0m\u001b[0m\n\u001b[0;32m--> 376\u001b[0;31m             \u001b[0mresult\u001b[0m \u001b[0;34m=\u001b[0m \u001b[0maction\u001b[0m\u001b[0;34m(\u001b[0m\u001b[0mretry_state\u001b[0m\u001b[0;34m)\u001b[0m\u001b[0;34m\u001b[0m\u001b[0;34m\u001b[0m\u001b[0m\n\u001b[0m\u001b[1;32m    377\u001b[0m         \u001b[0;32mreturn\u001b[0m \u001b[0mresult\u001b[0m\u001b[0;34m\u001b[0m\u001b[0;34m\u001b[0m\u001b[0m\n\u001b[1;32m    378\u001b[0m \u001b[0;34m\u001b[0m\u001b[0m\n",
            "\u001b[0;32m/usr/local/lib/python3.10/dist-packages/tenacity/__init__.py\u001b[0m in \u001b[0;36m<lambda>\u001b[0;34m(rs)\u001b[0m\n\u001b[1;32m    396\u001b[0m     \u001b[0;32mdef\u001b[0m \u001b[0m_post_retry_check_actions\u001b[0m\u001b[0;34m(\u001b[0m\u001b[0mself\u001b[0m\u001b[0;34m,\u001b[0m \u001b[0mretry_state\u001b[0m\u001b[0;34m:\u001b[0m \u001b[0;34m\"RetryCallState\"\u001b[0m\u001b[0;34m)\u001b[0m \u001b[0;34m->\u001b[0m \u001b[0;32mNone\u001b[0m\u001b[0;34m:\u001b[0m\u001b[0;34m\u001b[0m\u001b[0;34m\u001b[0m\u001b[0m\n\u001b[1;32m    397\u001b[0m         \u001b[0;32mif\u001b[0m \u001b[0;32mnot\u001b[0m \u001b[0;34m(\u001b[0m\u001b[0mself\u001b[0m\u001b[0;34m.\u001b[0m\u001b[0miter_state\u001b[0m\u001b[0;34m.\u001b[0m\u001b[0mis_explicit_retry\u001b[0m \u001b[0;32mor\u001b[0m \u001b[0mself\u001b[0m\u001b[0;34m.\u001b[0m\u001b[0miter_state\u001b[0m\u001b[0;34m.\u001b[0m\u001b[0mretry_run_result\u001b[0m\u001b[0;34m)\u001b[0m\u001b[0;34m:\u001b[0m\u001b[0;34m\u001b[0m\u001b[0;34m\u001b[0m\u001b[0m\n\u001b[0;32m--> 398\u001b[0;31m             \u001b[0mself\u001b[0m\u001b[0;34m.\u001b[0m\u001b[0m_add_action_func\u001b[0m\u001b[0;34m(\u001b[0m\u001b[0;32mlambda\u001b[0m \u001b[0mrs\u001b[0m\u001b[0;34m:\u001b[0m \u001b[0mrs\u001b[0m\u001b[0;34m.\u001b[0m\u001b[0moutcome\u001b[0m\u001b[0;34m.\u001b[0m\u001b[0mresult\u001b[0m\u001b[0;34m(\u001b[0m\u001b[0;34m)\u001b[0m\u001b[0;34m)\u001b[0m\u001b[0;34m\u001b[0m\u001b[0;34m\u001b[0m\u001b[0m\n\u001b[0m\u001b[1;32m    399\u001b[0m             \u001b[0;32mreturn\u001b[0m\u001b[0;34m\u001b[0m\u001b[0;34m\u001b[0m\u001b[0m\n\u001b[1;32m    400\u001b[0m \u001b[0;34m\u001b[0m\u001b[0m\n",
            "\u001b[0;32m/usr/lib/python3.10/concurrent/futures/_base.py\u001b[0m in \u001b[0;36mresult\u001b[0;34m(self, timeout)\u001b[0m\n\u001b[1;32m    449\u001b[0m                     \u001b[0;32mraise\u001b[0m \u001b[0mCancelledError\u001b[0m\u001b[0;34m(\u001b[0m\u001b[0;34m)\u001b[0m\u001b[0;34m\u001b[0m\u001b[0;34m\u001b[0m\u001b[0m\n\u001b[1;32m    450\u001b[0m                 \u001b[0;32melif\u001b[0m \u001b[0mself\u001b[0m\u001b[0;34m.\u001b[0m\u001b[0m_state\u001b[0m \u001b[0;34m==\u001b[0m \u001b[0mFINISHED\u001b[0m\u001b[0;34m:\u001b[0m\u001b[0;34m\u001b[0m\u001b[0;34m\u001b[0m\u001b[0m\n\u001b[0;32m--> 451\u001b[0;31m                     \u001b[0;32mreturn\u001b[0m \u001b[0mself\u001b[0m\u001b[0;34m.\u001b[0m\u001b[0m__get_result\u001b[0m\u001b[0;34m(\u001b[0m\u001b[0;34m)\u001b[0m\u001b[0;34m\u001b[0m\u001b[0;34m\u001b[0m\u001b[0m\n\u001b[0m\u001b[1;32m    452\u001b[0m \u001b[0;34m\u001b[0m\u001b[0m\n\u001b[1;32m    453\u001b[0m                 \u001b[0mself\u001b[0m\u001b[0;34m.\u001b[0m\u001b[0m_condition\u001b[0m\u001b[0;34m.\u001b[0m\u001b[0mwait\u001b[0m\u001b[0;34m(\u001b[0m\u001b[0mtimeout\u001b[0m\u001b[0;34m)\u001b[0m\u001b[0;34m\u001b[0m\u001b[0;34m\u001b[0m\u001b[0m\n",
            "\u001b[0;32m/usr/lib/python3.10/concurrent/futures/_base.py\u001b[0m in \u001b[0;36m__get_result\u001b[0;34m(self)\u001b[0m\n\u001b[1;32m    401\u001b[0m         \u001b[0;32mif\u001b[0m \u001b[0mself\u001b[0m\u001b[0;34m.\u001b[0m\u001b[0m_exception\u001b[0m\u001b[0;34m:\u001b[0m\u001b[0;34m\u001b[0m\u001b[0;34m\u001b[0m\u001b[0m\n\u001b[1;32m    402\u001b[0m             \u001b[0;32mtry\u001b[0m\u001b[0;34m:\u001b[0m\u001b[0;34m\u001b[0m\u001b[0;34m\u001b[0m\u001b[0m\n\u001b[0;32m--> 403\u001b[0;31m                 \u001b[0;32mraise\u001b[0m \u001b[0mself\u001b[0m\u001b[0;34m.\u001b[0m\u001b[0m_exception\u001b[0m\u001b[0;34m\u001b[0m\u001b[0;34m\u001b[0m\u001b[0m\n\u001b[0m\u001b[1;32m    404\u001b[0m             \u001b[0;32mfinally\u001b[0m\u001b[0;34m:\u001b[0m\u001b[0;34m\u001b[0m\u001b[0;34m\u001b[0m\u001b[0m\n\u001b[1;32m    405\u001b[0m                 \u001b[0;31m# Break a reference cycle with the exception in self._exception\u001b[0m\u001b[0;34m\u001b[0m\u001b[0;34m\u001b[0m\u001b[0m\n",
            "\u001b[0;32m/usr/local/lib/python3.10/dist-packages/tenacity/__init__.py\u001b[0m in \u001b[0;36m__call__\u001b[0;34m(self, fn, *args, **kwargs)\u001b[0m\n\u001b[1;32m    476\u001b[0m             \u001b[0;32mif\u001b[0m \u001b[0misinstance\u001b[0m\u001b[0;34m(\u001b[0m\u001b[0mdo\u001b[0m\u001b[0;34m,\u001b[0m \u001b[0mDoAttempt\u001b[0m\u001b[0;34m)\u001b[0m\u001b[0;34m:\u001b[0m\u001b[0;34m\u001b[0m\u001b[0;34m\u001b[0m\u001b[0m\n\u001b[1;32m    477\u001b[0m                 \u001b[0;32mtry\u001b[0m\u001b[0;34m:\u001b[0m\u001b[0;34m\u001b[0m\u001b[0;34m\u001b[0m\u001b[0m\n\u001b[0;32m--> 478\u001b[0;31m                     \u001b[0mresult\u001b[0m \u001b[0;34m=\u001b[0m \u001b[0mfn\u001b[0m\u001b[0;34m(\u001b[0m\u001b[0;34m*\u001b[0m\u001b[0margs\u001b[0m\u001b[0;34m,\u001b[0m \u001b[0;34m**\u001b[0m\u001b[0mkwargs\u001b[0m\u001b[0;34m)\u001b[0m\u001b[0;34m\u001b[0m\u001b[0;34m\u001b[0m\u001b[0m\n\u001b[0m\u001b[1;32m    479\u001b[0m                 \u001b[0;32mexcept\u001b[0m \u001b[0mBaseException\u001b[0m\u001b[0;34m:\u001b[0m  \u001b[0;31m# noqa: B902\u001b[0m\u001b[0;34m\u001b[0m\u001b[0;34m\u001b[0m\u001b[0m\n\u001b[1;32m    480\u001b[0m                     \u001b[0mretry_state\u001b[0m\u001b[0;34m.\u001b[0m\u001b[0mset_exception\u001b[0m\u001b[0;34m(\u001b[0m\u001b[0msys\u001b[0m\u001b[0;34m.\u001b[0m\u001b[0mexc_info\u001b[0m\u001b[0;34m(\u001b[0m\u001b[0;34m)\u001b[0m\u001b[0;34m)\u001b[0m  \u001b[0;31m# type: ignore[arg-type]\u001b[0m\u001b[0;34m\u001b[0m\u001b[0;34m\u001b[0m\u001b[0m\n",
            "\u001b[0;32m/usr/local/lib/python3.10/dist-packages/llama_index/embeddings/openai/base.py\u001b[0m in \u001b[0;36mget_embeddings\u001b[0;34m(client, list_of_text, engine, **kwargs)\u001b[0m\n\u001b[1;32m    178\u001b[0m     \u001b[0mlist_of_text\u001b[0m \u001b[0;34m=\u001b[0m \u001b[0;34m[\u001b[0m\u001b[0mtext\u001b[0m\u001b[0;34m.\u001b[0m\u001b[0mreplace\u001b[0m\u001b[0;34m(\u001b[0m\u001b[0;34m\"\\n\"\u001b[0m\u001b[0;34m,\u001b[0m \u001b[0;34m\" \"\u001b[0m\u001b[0;34m)\u001b[0m \u001b[0;32mfor\u001b[0m \u001b[0mtext\u001b[0m \u001b[0;32min\u001b[0m \u001b[0mlist_of_text\u001b[0m\u001b[0;34m]\u001b[0m\u001b[0;34m\u001b[0m\u001b[0;34m\u001b[0m\u001b[0m\n\u001b[1;32m    179\u001b[0m \u001b[0;34m\u001b[0m\u001b[0m\n\u001b[0;32m--> 180\u001b[0;31m     \u001b[0mdata\u001b[0m \u001b[0;34m=\u001b[0m \u001b[0mclient\u001b[0m\u001b[0;34m.\u001b[0m\u001b[0membeddings\u001b[0m\u001b[0;34m.\u001b[0m\u001b[0mcreate\u001b[0m\u001b[0;34m(\u001b[0m\u001b[0minput\u001b[0m\u001b[0;34m=\u001b[0m\u001b[0mlist_of_text\u001b[0m\u001b[0;34m,\u001b[0m \u001b[0mmodel\u001b[0m\u001b[0;34m=\u001b[0m\u001b[0mengine\u001b[0m\u001b[0;34m,\u001b[0m \u001b[0;34m**\u001b[0m\u001b[0mkwargs\u001b[0m\u001b[0;34m)\u001b[0m\u001b[0;34m.\u001b[0m\u001b[0mdata\u001b[0m\u001b[0;34m\u001b[0m\u001b[0;34m\u001b[0m\u001b[0m\n\u001b[0m\u001b[1;32m    181\u001b[0m     \u001b[0;32mreturn\u001b[0m \u001b[0;34m[\u001b[0m\u001b[0md\u001b[0m\u001b[0;34m.\u001b[0m\u001b[0membedding\u001b[0m \u001b[0;32mfor\u001b[0m \u001b[0md\u001b[0m \u001b[0;32min\u001b[0m \u001b[0mdata\u001b[0m\u001b[0;34m]\u001b[0m\u001b[0;34m\u001b[0m\u001b[0;34m\u001b[0m\u001b[0m\n\u001b[1;32m    182\u001b[0m \u001b[0;34m\u001b[0m\u001b[0m\n",
            "\u001b[0;32m/usr/local/lib/python3.10/dist-packages/openai/resources/embeddings.py\u001b[0m in \u001b[0;36mcreate\u001b[0;34m(self, input, model, dimensions, encoding_format, user, extra_headers, extra_query, extra_body, timeout)\u001b[0m\n\u001b[1;32m    122\u001b[0m             \u001b[0;32mreturn\u001b[0m \u001b[0mobj\u001b[0m\u001b[0;34m\u001b[0m\u001b[0;34m\u001b[0m\u001b[0m\n\u001b[1;32m    123\u001b[0m \u001b[0;34m\u001b[0m\u001b[0m\n\u001b[0;32m--> 124\u001b[0;31m         return self._post(\n\u001b[0m\u001b[1;32m    125\u001b[0m             \u001b[0;34m\"/embeddings\"\u001b[0m\u001b[0;34m,\u001b[0m\u001b[0;34m\u001b[0m\u001b[0;34m\u001b[0m\u001b[0m\n\u001b[1;32m    126\u001b[0m             \u001b[0mbody\u001b[0m\u001b[0;34m=\u001b[0m\u001b[0mmaybe_transform\u001b[0m\u001b[0;34m(\u001b[0m\u001b[0mparams\u001b[0m\u001b[0;34m,\u001b[0m \u001b[0membedding_create_params\u001b[0m\u001b[0;34m.\u001b[0m\u001b[0mEmbeddingCreateParams\u001b[0m\u001b[0;34m)\u001b[0m\u001b[0;34m,\u001b[0m\u001b[0;34m\u001b[0m\u001b[0;34m\u001b[0m\u001b[0m\n",
            "\u001b[0;32m/usr/local/lib/python3.10/dist-packages/openai/_base_client.py\u001b[0m in \u001b[0;36mpost\u001b[0;34m(self, path, cast_to, body, options, files, stream, stream_cls)\u001b[0m\n\u001b[1;32m   1275\u001b[0m             \u001b[0mmethod\u001b[0m\u001b[0;34m=\u001b[0m\u001b[0;34m\"post\"\u001b[0m\u001b[0;34m,\u001b[0m \u001b[0murl\u001b[0m\u001b[0;34m=\u001b[0m\u001b[0mpath\u001b[0m\u001b[0;34m,\u001b[0m \u001b[0mjson_data\u001b[0m\u001b[0;34m=\u001b[0m\u001b[0mbody\u001b[0m\u001b[0;34m,\u001b[0m \u001b[0mfiles\u001b[0m\u001b[0;34m=\u001b[0m\u001b[0mto_httpx_files\u001b[0m\u001b[0;34m(\u001b[0m\u001b[0mfiles\u001b[0m\u001b[0;34m)\u001b[0m\u001b[0;34m,\u001b[0m \u001b[0;34m**\u001b[0m\u001b[0moptions\u001b[0m\u001b[0;34m\u001b[0m\u001b[0;34m\u001b[0m\u001b[0m\n\u001b[1;32m   1276\u001b[0m         )\n\u001b[0;32m-> 1277\u001b[0;31m         \u001b[0;32mreturn\u001b[0m \u001b[0mcast\u001b[0m\u001b[0;34m(\u001b[0m\u001b[0mResponseT\u001b[0m\u001b[0;34m,\u001b[0m \u001b[0mself\u001b[0m\u001b[0;34m.\u001b[0m\u001b[0mrequest\u001b[0m\u001b[0;34m(\u001b[0m\u001b[0mcast_to\u001b[0m\u001b[0;34m,\u001b[0m \u001b[0mopts\u001b[0m\u001b[0;34m,\u001b[0m \u001b[0mstream\u001b[0m\u001b[0;34m=\u001b[0m\u001b[0mstream\u001b[0m\u001b[0;34m,\u001b[0m \u001b[0mstream_cls\u001b[0m\u001b[0;34m=\u001b[0m\u001b[0mstream_cls\u001b[0m\u001b[0;34m)\u001b[0m\u001b[0;34m)\u001b[0m\u001b[0;34m\u001b[0m\u001b[0;34m\u001b[0m\u001b[0m\n\u001b[0m\u001b[1;32m   1278\u001b[0m \u001b[0;34m\u001b[0m\u001b[0m\n\u001b[1;32m   1279\u001b[0m     def patch(\n",
            "\u001b[0;32m/usr/local/lib/python3.10/dist-packages/openai/_base_client.py\u001b[0m in \u001b[0;36mrequest\u001b[0;34m(self, cast_to, options, remaining_retries, stream, stream_cls)\u001b[0m\n\u001b[1;32m    952\u001b[0m             \u001b[0mretries_taken\u001b[0m \u001b[0;34m=\u001b[0m \u001b[0;36m0\u001b[0m\u001b[0;34m\u001b[0m\u001b[0;34m\u001b[0m\u001b[0m\n\u001b[1;32m    953\u001b[0m \u001b[0;34m\u001b[0m\u001b[0m\n\u001b[0;32m--> 954\u001b[0;31m         return self._request(\n\u001b[0m\u001b[1;32m    955\u001b[0m             \u001b[0mcast_to\u001b[0m\u001b[0;34m=\u001b[0m\u001b[0mcast_to\u001b[0m\u001b[0;34m,\u001b[0m\u001b[0;34m\u001b[0m\u001b[0;34m\u001b[0m\u001b[0m\n\u001b[1;32m    956\u001b[0m             \u001b[0moptions\u001b[0m\u001b[0;34m=\u001b[0m\u001b[0moptions\u001b[0m\u001b[0;34m,\u001b[0m\u001b[0;34m\u001b[0m\u001b[0;34m\u001b[0m\u001b[0m\n",
            "\u001b[0;32m/usr/local/lib/python3.10/dist-packages/openai/_base_client.py\u001b[0m in \u001b[0;36m_request\u001b[0;34m(self, cast_to, options, retries_taken, stream, stream_cls)\u001b[0m\n\u001b[1;32m   1056\u001b[0m \u001b[0;34m\u001b[0m\u001b[0m\n\u001b[1;32m   1057\u001b[0m             \u001b[0mlog\u001b[0m\u001b[0;34m.\u001b[0m\u001b[0mdebug\u001b[0m\u001b[0;34m(\u001b[0m\u001b[0;34m\"Re-raising status error\"\u001b[0m\u001b[0;34m)\u001b[0m\u001b[0;34m\u001b[0m\u001b[0;34m\u001b[0m\u001b[0m\n\u001b[0;32m-> 1058\u001b[0;31m             \u001b[0;32mraise\u001b[0m \u001b[0mself\u001b[0m\u001b[0;34m.\u001b[0m\u001b[0m_make_status_error_from_response\u001b[0m\u001b[0;34m(\u001b[0m\u001b[0merr\u001b[0m\u001b[0;34m.\u001b[0m\u001b[0mresponse\u001b[0m\u001b[0;34m)\u001b[0m \u001b[0;32mfrom\u001b[0m \u001b[0;32mNone\u001b[0m\u001b[0;34m\u001b[0m\u001b[0;34m\u001b[0m\u001b[0m\n\u001b[0m\u001b[1;32m   1059\u001b[0m \u001b[0;34m\u001b[0m\u001b[0m\n\u001b[1;32m   1060\u001b[0m         return self._process_response(\n",
            "\u001b[0;31mBadRequestError\u001b[0m: Unsupported data type"
          ]
        }
      ]
    },
    {
      "cell_type": "markdown",
      "metadata": {
        "id": "K0KGRqbGhej3"
      },
      "source": [
        "## GraphRAGExtractor\n",
        "\n",
        "The GraphRAGExtractor class is designed to extract triples (subject-relation-object) from text and enrich them by adding descriptions for entities and relationships to their properties using an LLM.\n",
        "\n",
        "This functionality is similar to that of the `SimpleLLMPathExtractor`, but includes additional enhancements to handle entity, relationship descriptions. For guidance on implementation, you may look at similar existing [extractors](https://docs.llamaindex.ai/en/latest/examples/property_graph/Dynamic_KG_Extraction/?h=comparing).\n",
        "\n",
        "Here's a breakdown of its functionality:\n",
        "\n",
        "**Key Components:**\n",
        "\n",
        "1. `llm:` The language model used for extraction.\n",
        "2. `extract_prompt:` A prompt template used to guide the LLM in extracting information.\n",
        "3. `parse_fn:` A function to parse the LLM's output into structured data.\n",
        "4. `max_paths_per_chunk:` Limits the number of triples extracted per text chunk.\n",
        "5. `num_workers:` For parallel processing of multiple text nodes.\n",
        "\n",
        "\n",
        "**Main Methods:**\n",
        "\n",
        "1. `__call__:` The entry point for processing a list of text nodes.\n",
        "2. `acall:` An asynchronous version of __call__ for improved performance.\n",
        "3. `_aextract:` The core method that processes each individual node.\n",
        "\n",
        "\n",
        "**Extraction Process:**\n",
        "\n",
        "For each input node (chunk of text):\n",
        "1. It sends the text to the LLM along with the extraction prompt.\n",
        "2. The LLM's response is parsed to extract entities, relationships, descriptions for entities and relations.\n",
        "3. Entities are converted into EntityNode objects. Entity description is stored in metadata\n",
        "4. Relationships are converted into Relation objects. Relationship description is stored in metadata.\n",
        "5. These are added to the node's metadata under KG_NODES_KEY and KG_RELATIONS_KEY.\n",
        "\n",
        "**NOTE:** In the current implementation, we are using only relationship descriptions. In the next implementation, we will utilize entity descriptions during the retrieval stage."
      ]
    },
    {
      "cell_type": "code",
      "execution_count": 6,
      "metadata": {
        "id": "8v7bWkBJhej3"
      },
      "outputs": [],
      "source": [
        "import asyncio\n",
        "import nest_asyncio\n",
        "\n",
        "nest_asyncio.apply()\n",
        "\n",
        "from typing import Any, List, Callable, Optional, Union, Dict\n",
        "from IPython.display import Markdown, display\n",
        "\n",
        "from llama_index.core.async_utils import run_jobs\n",
        "from llama_index.core.indices.property_graph.utils import (\n",
        "    default_parse_triplets_fn,\n",
        ")\n",
        "from llama_index.core.graph_stores.types import (\n",
        "    EntityNode,\n",
        "    KG_NODES_KEY,\n",
        "    KG_RELATIONS_KEY,\n",
        "    Relation,\n",
        ")\n",
        "from llama_index.core.llms.llm import LLM\n",
        "from llama_index.core.prompts import PromptTemplate\n",
        "from llama_index.core.prompts.default_prompts import (\n",
        "    DEFAULT_KG_TRIPLET_EXTRACT_PROMPT,\n",
        ")\n",
        "from llama_index.core.schema import TransformComponent, BaseNode\n",
        "from llama_index.core.bridge.pydantic import BaseModel, Field\n",
        "\n",
        "\n",
        "class GraphRAGExtractor(TransformComponent):\n",
        "    \"\"\"Extract triples from a graph.\n",
        "\n",
        "    Uses an LLM and a simple prompt + output parsing to extract paths (i.e. triples) and entity, relation descriptions from text.\n",
        "\n",
        "    Args:\n",
        "        llm (LLM):\n",
        "            The language model to use.\n",
        "        extract_prompt (Union[str, PromptTemplate]):\n",
        "            The prompt to use for extracting triples.\n",
        "        parse_fn (callable):\n",
        "            A function to parse the output of the language model.\n",
        "        num_workers (int):\n",
        "            The number of workers to use for parallel processing.\n",
        "        max_paths_per_chunk (int):\n",
        "            The maximum number of paths to extract per chunk.\n",
        "    \"\"\"\n",
        "\n",
        "    llm: LLM\n",
        "    extract_prompt: PromptTemplate\n",
        "    parse_fn: Callable\n",
        "    num_workers: int\n",
        "    max_paths_per_chunk: int\n",
        "\n",
        "    def __init__(\n",
        "        self,\n",
        "        llm: Optional[LLM] = None,\n",
        "        extract_prompt: Optional[Union[str, PromptTemplate]] = None,\n",
        "        parse_fn: Callable = default_parse_triplets_fn,\n",
        "        max_paths_per_chunk: int = 10,\n",
        "        num_workers: int = 4,\n",
        "    ) -> None:\n",
        "        \"\"\"Init params.\"\"\"\n",
        "        from llama_index.core import Settings\n",
        "\n",
        "        if isinstance(extract_prompt, str):\n",
        "            extract_prompt = PromptTemplate(extract_prompt)\n",
        "\n",
        "        super().__init__(\n",
        "            llm=llm or Settings.llm,\n",
        "            extract_prompt=extract_prompt or DEFAULT_KG_TRIPLET_EXTRACT_PROMPT,\n",
        "            parse_fn=parse_fn,\n",
        "            num_workers=num_workers,\n",
        "            max_paths_per_chunk=max_paths_per_chunk,\n",
        "        )\n",
        "\n",
        "    @classmethod\n",
        "    def class_name(cls) -> str:\n",
        "        return \"GraphExtractor\"\n",
        "\n",
        "    def __call__(\n",
        "        self, nodes: List[BaseNode], show_progress: bool = False, **kwargs: Any\n",
        "    ) -> List[BaseNode]:\n",
        "        \"\"\"Extract triples from nodes.\"\"\"\n",
        "        return asyncio.run(\n",
        "            self.acall(nodes, show_progress=show_progress, **kwargs)\n",
        "        )\n",
        "\n",
        "    async def _aextract(self, node: BaseNode) -> BaseNode:\n",
        "        \"\"\"Extract triples from a node.\"\"\"\n",
        "        assert hasattr(node, \"text\")\n",
        "\n",
        "        text = node.get_content(metadata_mode=\"llm\")\n",
        "        try:\n",
        "            llm_response = await self.llm.apredict(\n",
        "                self.extract_prompt,\n",
        "                text=text,\n",
        "                max_knowledge_triplets=self.max_paths_per_chunk,\n",
        "            )\n",
        "            entities, entities_relationship = self.parse_fn(llm_response)\n",
        "        except ValueError:\n",
        "            entities = []\n",
        "            entities_relationship = []\n",
        "\n",
        "        existing_nodes = node.metadata.pop(KG_NODES_KEY, [])\n",
        "        existing_relations = node.metadata.pop(KG_RELATIONS_KEY, [])\n",
        "        metadata = node.metadata.copy()\n",
        "        for entity, entity_type, description in entities:\n",
        "            metadata[\n",
        "                \"entity_description\"\n",
        "            ] = description  # Not used in the current implementation. But will be useful in future work.\n",
        "            entity_node = EntityNode(\n",
        "                name=entity, label=entity_type, properties=metadata\n",
        "            )\n",
        "            existing_nodes.append(entity_node)\n",
        "\n",
        "        metadata = node.metadata.copy()\n",
        "        for triple in entities_relationship:\n",
        "            subj, rel, obj, description = triple\n",
        "            subj_node = EntityNode(name=subj, properties=metadata)\n",
        "            obj_node = EntityNode(name=obj, properties=metadata)\n",
        "            metadata[\"relationship_description\"] = description\n",
        "            rel_node = Relation(\n",
        "                label=rel,\n",
        "                source_id=subj_node.id,\n",
        "                target_id=obj_node.id,\n",
        "                properties=metadata,\n",
        "            )\n",
        "\n",
        "            existing_nodes.extend([subj_node, obj_node])\n",
        "            existing_relations.append(rel_node)\n",
        "\n",
        "        node.metadata[KG_NODES_KEY] = existing_nodes\n",
        "        node.metadata[KG_RELATIONS_KEY] = existing_relations\n",
        "        return node\n",
        "\n",
        "    async def acall(\n",
        "        self, nodes: List[BaseNode], show_progress: bool = False, **kwargs: Any\n",
        "    ) -> List[BaseNode]:\n",
        "        \"\"\"Extract triples from nodes async.\"\"\"\n",
        "        jobs = []\n",
        "        for node in nodes:\n",
        "            jobs.append(self._aextract(node))\n",
        "\n",
        "        return await run_jobs(\n",
        "            jobs,\n",
        "            workers=self.num_workers,\n",
        "            show_progress=show_progress,\n",
        "            desc=\"Extracting paths from text\",\n",
        "        )"
      ]
    },
    {
      "cell_type": "markdown",
      "metadata": {
        "id": "Nm3WlhR1hej4"
      },
      "source": [
        "## GraphRAGStore\n",
        "\n",
        "The `GraphRAGStore` class is an extension of the `SimplePropertyGraphStore `class, designed to implement GraphRAG pipeline. Here's a breakdown of its key components and functions:\n",
        "\n",
        "\n",
        "The class uses community detection algorithms to group related nodes in the graph and then it generates summaries for each community using an LLM.\n",
        "\n",
        "\n",
        "**Key Methods:**\n",
        "\n",
        "`build_communities():`\n",
        "\n",
        "1. Converts the internal graph representation to a NetworkX graph.\n",
        "\n",
        "2. Applies the hierarchical Leiden algorithm for community detection.\n",
        "\n",
        "3. Collects detailed information about each community.\n",
        "\n",
        "4. Generates summaries for each community.\n",
        "\n",
        "`generate_community_summary(text):`\n",
        "\n",
        "1. Uses LLM to generate a summary of the relationships in a community.\n",
        "2. The summary includes entity names and a synthesis of relationship descriptions.\n",
        "\n",
        "`_create_nx_graph():`\n",
        "\n",
        "1. Converts the internal graph representation to a NetworkX graph for community detection.\n",
        "\n",
        "`_collect_community_info(nx_graph, clusters):`\n",
        "\n",
        "1. Collects detailed information about each node based on its community.\n",
        "2. Creates a string representation of each relationship within a community.\n",
        "\n",
        "`_summarize_communities(community_info):`\n",
        "\n",
        "1. Generates and stores summaries for each community using LLM.\n",
        "\n",
        "`get_community_summaries():`\n",
        "\n",
        "1. Returns the community summaries by building them if not already done."
      ]
    },
    {
      "cell_type": "code",
      "execution_count": 7,
      "metadata": {
        "id": "VbU5OyYWhej4"
      },
      "outputs": [],
      "source": [
        "import re\n",
        "from llama_index.core.graph_stores import SimplePropertyGraphStore\n",
        "import networkx as nx\n",
        "from graspologic.partition import hierarchical_leiden\n",
        "\n",
        "from llama_index.core.llms import ChatMessage\n",
        "\n",
        "\n",
        "class GraphRAGStore(SimplePropertyGraphStore):\n",
        "    community_summary = {}\n",
        "    max_cluster_size = 5\n",
        "\n",
        "    def generate_community_summary(self, text):\n",
        "        \"\"\"Generate summary for a given text using an LLM.\"\"\"\n",
        "\n",
        "        ################################## OpenAI System Call ########################################\n",
        "        messages = [\n",
        "            ChatMessage(\n",
        "                role=\"system\",\n",
        "                content=(\n",
        "                    \"Given a Knowledge graph with relationships, each represented as \"\n",
        "                    \"entity1->entity2->relation->relationship_description. Create a summary of these \"\n",
        "                    \"relationships. Include the names of the entities and a concise synthesis \"\n",
        "                    \"of the relationship descriptions.\"\n",
        "                ),\n",
        "            ),\n",
        "            ChatMessage(role=\"user\", content=text),\n",
        "        ]\n",
        "        response = OpenAI().chat(messages)\n",
        "\n",
        "\n",
        "        clean_response = re.sub(r\"^assistant:\\s*\", \"\", str(response)).strip()\n",
        "        return clean_response\n",
        "\n",
        "    def build_communities(self):\n",
        "        \"\"\"Builds communities from the graph and summarizes them.\"\"\"\n",
        "        nx_graph = self._create_nx_graph()\n",
        "        community_hierarchical_clusters = hierarchical_leiden(\n",
        "            nx_graph, max_cluster_size=self.max_cluster_size\n",
        "        )\n",
        "        community_info = self._collect_community_info(\n",
        "            nx_graph, community_hierarchical_clusters\n",
        "        )\n",
        "        self._summarize_communities(community_info)\n",
        "\n",
        "    def _create_nx_graph(self):\n",
        "        \"\"\"Converts internal graph representation to NetworkX graph.\"\"\"\n",
        "        nx_graph = nx.Graph()\n",
        "        for node in self.graph.nodes.values():\n",
        "            nx_graph.add_node(str(node))\n",
        "        for relation in self.graph.relations.values():\n",
        "            nx_graph.add_edge(\n",
        "                relation.source_id,\n",
        "                relation.target_id,\n",
        "                relationship=relation.label,\n",
        "                description=relation.properties[\"relationship_description\"],\n",
        "            )\n",
        "        return nx_graph\n",
        "\n",
        "    def _collect_community_info(self, nx_graph, clusters):\n",
        "        \"\"\"Collect detailed information for each node based on their community.\"\"\"\n",
        "        community_mapping = {item.node: item.cluster for item in clusters}\n",
        "        community_info = {}\n",
        "        for item in clusters:\n",
        "            cluster_id = item.cluster\n",
        "            node = item.node\n",
        "            if cluster_id not in community_info:\n",
        "                community_info[cluster_id] = []\n",
        "\n",
        "            for neighbor in nx_graph.neighbors(node):\n",
        "                if community_mapping[neighbor] == cluster_id:\n",
        "                    edge_data = nx_graph.get_edge_data(node, neighbor)\n",
        "                    if edge_data:\n",
        "                        detail = f\"{node} -> {neighbor} -> {edge_data['relationship']} -> {edge_data['description']}\"\n",
        "                        community_info[cluster_id].append(detail)\n",
        "        return community_info\n",
        "\n",
        "    def _summarize_communities(self, community_info):\n",
        "        \"\"\"Generate and store summaries for each community.\"\"\"\n",
        "        for community_id, details in community_info.items():\n",
        "            details_text = (\n",
        "                \"\\n\".join(details) + \".\"\n",
        "            )  # Ensure it ends with a period\n",
        "            self.community_summary[\n",
        "                community_id\n",
        "            ] = self.generate_community_summary(details_text)\n",
        "\n",
        "    def get_community_summaries(self):\n",
        "        \"\"\"Returns the community summaries, building them if not already done.\"\"\"\n",
        "        if not self.community_summary:\n",
        "            self.build_communities()\n",
        "        return self.community_summary"
      ]
    },
    {
      "cell_type": "markdown",
      "metadata": {
        "id": "lD9GMsLahej4"
      },
      "source": [
        "## GraphRAGQueryEngine\n",
        "\n",
        "The GraphRAGQueryEngine class is a custom query engine designed to process queries using the GraphRAG approach. It leverages the community summaries generated by the GraphRAGStore to answer user queries. Here's a breakdown of its functionality:\n",
        "\n",
        "**Main Components:**\n",
        "\n",
        "`graph_store:` An instance of GraphRAGStore, which contains the community summaries.\n",
        "`llm:` A Language Model (LLM) used for generating and aggregating answers.\n",
        "\n",
        "\n",
        "**Key Methods:**\n",
        "\n",
        "`custom_query(query_str: str)`\n",
        "\n",
        "1. This is the main entry point for processing a query. It retrieves community summaries, generates answers from each summary, and then aggregates these answers into a final response.\n",
        "\n",
        "`generate_answer_from_summary(community_summary, query):`\n",
        "\n",
        "1. Generates an answer for the query based on a single community summary.\n",
        "Uses the LLM to interpret the community summary in the context of the query.\n",
        "\n",
        "`aggregate_answers(community_answers):`\n",
        "\n",
        "1. Combines individual answers from different communities into a coherent final response.\n",
        "2. Uses the LLM to synthesize multiple perspectives into a single, concise answer.\n",
        "\n",
        "\n",
        "**Query Processing Flow:**\n",
        "\n",
        "1. Retrieve community summaries from the graph store.\n",
        "2. For each community summary, generate a specific answer to the query.\n",
        "3. Aggregate all community-specific answers into a final, coherent response.\n",
        "\n",
        "\n",
        "**Example usage:**\n",
        "\n",
        "```\n",
        "query_engine = GraphRAGQueryEngine(graph_store=graph_store, llm=llm)\n",
        "\n",
        "response = query_engine.query(\"query\")\n",
        "```"
      ]
    },
    {
      "cell_type": "code",
      "execution_count": 8,
      "metadata": {
        "id": "EIEU6lc9hej4"
      },
      "outputs": [],
      "source": [
        "from llama_index.core.query_engine import CustomQueryEngine\n",
        "from llama_index.core.llms import LLM\n",
        "\n",
        "\n",
        "class GraphRAGQueryEngine(CustomQueryEngine):\n",
        "    graph_store: GraphRAGStore\n",
        "    llm: LLM\n",
        "\n",
        "    def custom_query(self, query_str: str) -> str:\n",
        "        \"\"\"Process all community summaries to generate answers to a specific query.\"\"\"\n",
        "        community_summaries = self.graph_store.get_community_summaries()\n",
        "        community_answers = [\n",
        "            self.generate_answer_from_summary(community_summary, query_str)\n",
        "            for _, community_summary in community_summaries.items()\n",
        "        ]\n",
        "\n",
        "        final_answer = self.aggregate_answers(community_answers)\n",
        "        return final_answer\n",
        "\n",
        "    def generate_answer_from_summary(self, community_summary, query):\n",
        "        \"\"\"Generate an answer from a community summary based on a given query using LLM.\"\"\"\n",
        "        prompt = (\n",
        "            f\"Given the community summary: {community_summary}, \"\n",
        "            f\"how would you answer the following query? Query: {query}\"\n",
        "        )\n",
        "        messages = [\n",
        "            ChatMessage(role=\"system\", content=prompt),\n",
        "            ChatMessage(\n",
        "                role=\"user\",\n",
        "                content=\"I need an answer based on the above information.\",\n",
        "            ),\n",
        "        ]\n",
        "        response = self.llm.chat(messages)\n",
        "        cleaned_response = re.sub(r\"^assistant:\\s*\", \"\", str(response)).strip()\n",
        "        return cleaned_response\n",
        "\n",
        "    def aggregate_answers(self, community_answers):\n",
        "        \"\"\"Aggregate individual community answers into a final, coherent response.\"\"\"\n",
        "        # intermediate_text = \" \".join(community_answers)\n",
        "        prompt = \"Combine the following intermediate answers into a final, concise response.\"\n",
        "        messages = [\n",
        "            ChatMessage(role=\"system\", content=prompt),\n",
        "            ChatMessage(\n",
        "                role=\"user\",\n",
        "                content=f\"Intermediate answers: {community_answers}\",\n",
        "            ),\n",
        "        ]\n",
        "        final_response = self.llm.chat(messages)\n",
        "        cleaned_final_response = re.sub(\n",
        "            r\"^assistant:\\s*\", \"\", str(final_response)\n",
        "        ).strip()\n",
        "        return cleaned_final_response"
      ]
    },
    {
      "cell_type": "markdown",
      "metadata": {
        "id": "Jcupc4Q6hej4"
      },
      "source": [
        "##  Build End to End GraphRAG Pipeline\n",
        "\n",
        "Now that we have defined all the necessary components, let’s construct the GraphRAG pipeline:\n",
        "\n",
        "1. Create nodes/chunks from the text.\n",
        "2. Build a PropertyGraphIndex using `GraphRAGExtractor` and `GraphRAGStore`.\n",
        "3. Construct communities and generate a summary for each community using the graph built above.\n",
        "4. Create a `GraphRAGQueryEngine` and begin querying."
      ]
    },
    {
      "cell_type": "markdown",
      "metadata": {
        "id": "44_PsG6chej4"
      },
      "source": [
        "### Create nodes/ chunks from the text."
      ]
    },
    {
      "cell_type": "code",
      "execution_count": 9,
      "metadata": {
        "id": "9XYV8ZD3hej4"
      },
      "outputs": [],
      "source": [
        "from llama_index.core.schema import TextNode, NodeRelationship, RelatedNodeInfo\n",
        "\n",
        "def split_documents_into_chunks(documents, chunk_size=1024, overlap_size=20):\n",
        "    chunks = []\n",
        "    for document in documents:\n",
        "        for i in range(0, len(document), chunk_size - overlap_size):\n",
        "            chunk = document[i: i+chunk_size]\n",
        "            chunks.append(chunk)\n",
        "    return chunks\n",
        "\n",
        "chunks = split_documents_into_chunks(documents)\n",
        "node1 = TextNode(text=chunks[0], id_=\"1\")\n",
        "nodes = [node1]"
      ]
    },
    {
      "cell_type": "code",
      "execution_count": 10,
      "metadata": {
        "id": "ttNm47r4hej5",
        "outputId": "cd4f9906-78e8-4945-dcf6-bbc18fe70df3",
        "colab": {
          "base_uri": "https://localhost:8080/"
        }
      },
      "outputs": [
        {
          "output_type": "execute_result",
          "data": {
            "text/plain": [
              "(1,\n",
              " [TextNode(id_='1', embedding=None, metadata={}, excluded_embed_metadata_keys=[], excluded_llm_metadata_keys=[], relationships={}, text='\\nMarie Curie, born in 1867, was a Polish and naturalised-French physicist and chemist who conducted pioneering research on radioactivity.\\nShe was the first woman to win a Nobel Prize, the first person to win a Nobel Prize twice, and the only person to win a Nobel Prize in two scientific fields.\\nHer husband, Pierre Curie, was a co-winner of her first Nobel Prize, making them the first-ever married couple to win the Nobel Prize and launching the Curie family legacy of five Nobel Prizes.\\nShe was, in 1906, the first woman to become a professor at the University of Paris.\\n', mimetype='text/plain', start_char_idx=None, end_char_idx=None, text_template='{metadata_str}\\n\\n{content}', metadata_template='{key}: {value}', metadata_seperator='\\n')])"
            ]
          },
          "metadata": {},
          "execution_count": 10
        }
      ],
      "source": [
        "len(nodes), nodes"
      ]
    },
    {
      "cell_type": "markdown",
      "metadata": {
        "id": "Z4vM78DChej5"
      },
      "source": [
        "### Build ProperGraphIndex using `GraphRAGExtractor` and `GraphRAGStore`"
      ]
    },
    {
      "cell_type": "code",
      "execution_count": 11,
      "metadata": {
        "id": "tBh-vjcrhej5"
      },
      "outputs": [],
      "source": [
        "KG_TRIPLET_EXTRACT_TMPL = \"\"\"\n",
        "-Goal-\n",
        "Given a text document, identify all entities and their entity types from the text and all relationships among the identified entities.\n",
        "Given the text, extract up to {max_knowledge_triplets} entity-relation triplets.\n",
        "\n",
        "-Steps-\n",
        "1. Identify all entities. For each identified entity, extract the following information:\n",
        "- entity_name: Name of the entity, capitalized\n",
        "- entity_type: Type of the entity\n",
        "- entity_description: Comprehensive description of the entity's attributes and activities\n",
        "Format each entity as (\"entity\"$$$$<entity_name>$$$$<entity_type>$$$$<entity_description>)\n",
        "\n",
        "2. From the entities identified in step 1, identify all pairs of (source_entity, target_entity) that are *clearly related* to each other.\n",
        "For each pair of related entities, extract the following information:\n",
        "- source_entity: name of the source entity, as identified in step 1\n",
        "- target_entity: name of the target entity, as identified in step 1\n",
        "- relation: relationship between source_entity and target_entity\n",
        "- relationship_description: explanation as to why you think the source entity and the target entity are related to each other\n",
        "\n",
        "Format each relationship as (\"relationship\"$$$$<source_entity>$$$$<target_entity>$$$$<relation>$$$$<relationship_description>)\n",
        "\n",
        "3. When finished, output.\n",
        "\n",
        "-Real Data-\n",
        "######################\n",
        "text: {text}\n",
        "######################\n",
        "output:\"\"\""
      ]
    },
    {
      "cell_type": "code",
      "execution_count": 12,
      "metadata": {
        "id": "EdRiHobUhej5"
      },
      "outputs": [],
      "source": [
        "entity_pattern = r'\\(\"entity\"\\$\\$\\$\\$\"(.+?)\"\\$\\$\\$\\$\"(.+?)\"\\$\\$\\$\\$\"(.+?)\"\\)'\n",
        "relationship_pattern = r'\\(\"relationship\"\\$\\$\\$\\$\"(.+?)\"\\$\\$\\$\\$\"(.+?)\"\\$\\$\\$\\$\"(.+?)\"\\$\\$\\$\\$\"(.+?)\"\\)'\n",
        "\n",
        "\n",
        "def parse_fn(response_str: str) -> Any:\n",
        "    entities = re.findall(entity_pattern, response_str)\n",
        "    relationships = re.findall(relationship_pattern, response_str)\n",
        "    return entities, relationships\n",
        "\n",
        "\n",
        "kg_extractor = GraphRAGExtractor(\n",
        "    llm=llm,\n",
        "    extract_prompt=KG_TRIPLET_EXTRACT_TMPL,\n",
        "    max_paths_per_chunk=2,\n",
        "    parse_fn=parse_fn,\n",
        ")"
      ]
    },
    {
      "cell_type": "code",
      "execution_count": 13,
      "metadata": {
        "id": "Bu1Xtltlhej5",
        "outputId": "c14ed7ff-8c55-4ce0-d039-ca15357a923e",
        "colab": {
          "base_uri": "https://localhost:8080/"
        }
      },
      "outputs": [
        {
          "output_type": "stream",
          "name": "stderr",
          "text": [
            "Extracting paths from text: 100%|██████████| 1/1 [00:11<00:00, 11.36s/it]\n",
            "Generating embeddings: 100%|██████████| 1/1 [00:00<00:00,  1.49it/s]\n",
            "Generating embeddings: 0it [00:00, ?it/s]\n"
          ]
        }
      ],
      "source": [
        "from llama_index.core import PropertyGraphIndex\n",
        "\n",
        "index = PropertyGraphIndex(\n",
        "    nodes=nodes,\n",
        "    property_graph_store=GraphRAGStore(),\n",
        "    kg_extractors=[kg_extractor],\n",
        "    show_progress=True,\n",
        ")"
      ]
    },
    {
      "cell_type": "code",
      "execution_count": 14,
      "metadata": {
        "id": "YpUSY3HRhej5",
        "outputId": "a66559f9-053e-4727-afc5-f7bd798ba1ec",
        "colab": {
          "base_uri": "https://localhost:8080/"
        }
      },
      "outputs": [
        {
          "output_type": "execute_result",
          "data": {
            "text/plain": [
              "ChunkNode(label='text_chunk', embedding=[-0.018974244594573975, 0.006107413675636053, 0.0004858527972828597, -0.02102789841592312, -0.009241439402103424, 0.015207113698124886, 0.0002332802105229348, -0.0003600586496759206, -0.020309748128056526, -0.038250867277383804, 0.017109576612710953, 0.02471943385899067, 0.0031277264934033155, -0.011805356480181217, -0.017563145607709885, 0.00503963977098465, 0.02847396582365036, 0.009115449152886868, -0.0021575959399342537, -0.024404456838965416, -0.037898093461990356, 0.010488750413060188, -0.0032915149349719286, 0.006822412367910147, -0.0066019282676279545, -0.0008638257859274745, 0.03721773996949196, -0.02269097790122032, 0.022577587515115738, -0.04109826311469078, -0.015522090718150139, 0.0134306401014328, -0.005291622132062912, -0.025702163577079773, -0.03678937256336212, 0.008340603671967983, 0.0017843474633991718, 0.003817527322098613, -0.00503963977098465, 0.006450739223510027, -0.005474308971315622, 0.028297578915953636, 0.002359181409701705, -0.005949924699962139, -0.02545018121600151, 0.010936019010841846, -0.0019449860556051135, -0.01524491049349308, 0.010671437717974186, 0.017033983021974564, 0.03306003659963608, 0.00581133458763361, -0.00653263321146369, 0.0014701574109494686, -0.04356768727302551, -0.06022369861602783, -0.0012882580049335957, 0.027163658291101456, -0.012750289402902126, -0.007779944222420454, -0.0009677683701738715, -0.010671437717974186, -0.022010628134012222, 0.021267279982566833, -0.004252196289598942, -0.023484721779823303, 0.002219016430899501, 0.01510632038116455, -0.05246265232563019, 0.022779172286391258, 0.029330704361200333, -0.00027639276231639087, -0.008718577213585377, 0.01865926757454872, 0.020322347059845924, 0.0055310046300292015, -0.030464623123407364, 0.03149775043129921, 0.0067153200507164, 0.0023906792048364878, 0.009077651426196098, -0.01571107655763626, 0.03457193076610565, -0.0011669916566461325, 0.015446496196091175, -0.0009268212597817183, 0.00011644323967630044, 0.013896807096898556, -0.004809706471860409, -0.022653181105852127, 0.03394197300076485, 0.028423568233847618, -0.002143421908840537, -0.009052453562617302, -0.0030804798007011414, 0.01111240591853857, -0.005011292174458504, 0.026029739528894424, -0.01766393706202507, -0.034017570316791534, -0.006447589490562677, 0.0023072101175785065, -0.01693318970501423, -0.019175829365849495, -0.026206128299236298, 0.020574329420924187, 0.00471836281940341, -0.019314419478178024, 0.0008197289425879717, -0.01825609616935253, -0.018634067848324776, 0.010432054288685322, 0.03205211088061333, -0.025878550484776497, -0.002045778790488839, -0.02289256453514099, 0.001543389749713242, -0.010413155891001225, -0.0008937486563809216, 0.0016678058309480548, 0.014854338951408863, 0.027289649471640587, -0.005332569126039743, -0.012586500495672226, 0.03164893761277199, -0.0025828154757618904, -0.02653370425105095, -0.0034584528766572475, 0.016013456508517265, 0.009902892634272575, 0.0015213412698358297, -0.017235567793250084, 0.016504820436239243, 0.0009016231051646173, 0.018167901784181595, 0.0167945995926857, -0.04991763457655907, -0.014564559794962406, -0.004538825713098049, -0.0245052482932806, -0.015837067738175392, 0.028423568233847618, -0.019566401839256287, -0.003700985573232174, 0.0034773515071719885, 0.028322776779532433, 0.00738937221467495, 8.017161599127576e-05, 0.013632225804030895, 0.030641010031104088, 0.013644824735820293, 0.0026804585941135883, 0.02425326779484749, 0.004107306711375713, 0.020511334761977196, 0.00013760579167865217, -0.002762352582067251, 0.023459523916244507, 0.012643196620047092, -0.01306526642292738, 0.008945360779762268, 0.009600513614714146, 0.0029812620487064123, -0.005093186162412167, -0.012680994346737862, 0.026105334982275963, 0.029330704361200333, 0.030389029532670975, -0.008964259177446365, 0.0204861368983984, 0.0013173933839425445, 0.018356887623667717, -0.03366479650139809, 0.02613053284585476, -0.006501135416328907, 0.007194085977971554, 0.0029009426943957806, 0.01954120397567749, -0.012132933363318443, 0.012479408644139767, -0.019969573244452477, -0.019704991951584816, 0.005707392003387213, 0.018495477735996246, -0.010419455356895924, 0.008302806876599789, 0.00634364690631628, 0.00037305147270672023, 0.003871073480695486, 0.006419241428375244, -0.0026851831935346127, 0.02693687565624714, 0.011238397099077702, -0.0008346903487108648, -0.653943657875061, -0.019465608522295952, -0.03447113558650017, -0.012447910383343697, 0.0011646292405202985, 0.030842596665024757, 0.017563145607709885, -0.010444654151797295, -0.006507434882223606, 0.02693687565624714, -0.029784271493554115, 0.009676109068095684, -0.0018473430536687374, -0.004431733395904303, -0.024492649361491203, -0.028221983462572098, 0.0017024533590301871, -0.003584443824365735, 0.030515018850564957, 0.009663509204983711, -0.004964045248925686, 0.022187015041708946, -0.025210797786712646, 0.012888879515230656, -0.0078870365396142, -0.006526333745568991, 0.018495477735996246, -0.013884208165109158, -0.010520248673856258, 0.0006110563408583403, -0.014766144566237926, 0.03205211088061333, -0.0032127704471349716, -0.0015315780183300376, 0.038931217044591904, -0.005600299686193466, 0.007590957451611757, 0.04392046108841896, 0.01699618622660637, 0.020599527284502983, -0.02214921824634075, -0.01034386083483696, 0.0024473750963807106, -0.0026662845630198717, -0.0017323761712759733, 0.007597257383167744, -0.002663134830072522, 0.032732460647821426, -0.009984786622226238, 0.006608227733522654, 0.003981315530836582, -0.0015733125619590282, -0.006277501583099365, -0.001185102853924036, 0.0067594172433018684, 0.010009984485805035, 0.016542617231607437, -0.0034836512058973312, -0.017701735720038414, 0.005074287299066782, -0.0018473430536687374, 0.00575778866186738, 0.0017056030919775367, -0.004727812018245459, 0.006740518379956484, 0.011912449263036251, -0.026206128299236298, -0.012643196620047092, -0.002530844183638692, 0.00602551968768239, 0.014892135746777058, 0.0429629310965538, 0.011868352070450783, -0.004000214394181967, 0.014010199345648289, 0.022779172286391258, 0.024013884365558624, 0.006003471091389656, 0.011824254877865314, -0.0025702163111418486, 0.0031781229190528393, -0.04056910052895546, -0.038250867277383804, 0.011030511930584908, 0.03477351367473602, -0.03774690255522728, -0.02061212807893753, 0.023182343691587448, 0.04182901233434677, -0.0157866720110178, 0.014753545634448528, 0.013052667491137981, -0.006671223323792219, -0.017915919423103333, -0.014413369819521904, 0.022552387788891792, -9.24262058106251e-05, -0.017008785158395767, 0.0015670129796490073, -0.01940261386334896, -0.01292667631059885, -0.025752559304237366, 0.0006842886214144528, -0.028977928683161736, 0.00025237572845071554, -0.040065135806798935, 0.005779837258160114, -0.00217491970397532, 0.038780029863119125, -0.01994437538087368, -0.017159974202513695, 0.002658409997820854, -0.0062019070610404015, -0.00970130693167448, -0.015585086308419704, -0.020599527284502983, 0.012088836170732975, 0.01921362802386284, 0.019037239253520966, 0.017638739198446274, 0.02766762301325798, -0.010772230103611946, 0.01071553397923708, -0.011087208054959774, 0.01419918518513441, -0.003012759843841195, 0.015219712629914284, -0.0039561172015964985, -0.009317033924162388, -0.0034458537120372057, 0.009739103727042675, 0.0009724930278025568, 0.011326590552926064, -0.021859437227249146, 0.027239253744482994, 0.004170301835983992, -0.010646238923072815, -0.033538803458213806, 0.017815127968788147, -0.009279237128794193, -0.02996065840125084, 0.004151403438299894, -0.0014229108346626163, 0.015761474147439003, -0.004123055376112461, -0.026962073519825935, -0.027970001101493835, 0.008611484430730343, -0.03726813569664955, -0.004636468831449747, 0.011036811396479607, 0.009039853699505329, -0.026987271383404732, 0.03351360559463501, 0.023585515096783638, 0.00648223701864481, -0.014539361000061035, -0.003521448466926813, -0.020448338240385056, 0.015232311561703682, -0.0034395542461425066, 0.003915170207619667, -0.006721619516611099, 0.015811869874596596, 0.0029781123157590628, -0.0171347763389349, 0.00023190218780655414, 0.0035812940914183855, 0.007981529459357262, -0.03689016401767731, -0.014677951112389565, -0.0010945467511191964, -0.029582686722278595, -0.00829020794481039, 0.004680565558373928, 0.0014449593145400286, -0.00421439902856946, -0.0038931218441575766, -0.0005610536900348961, -0.009260338731110096, -0.026584099978208542, -0.023207541555166245, -0.009751703590154648, -0.0157740730792284, 0.016290636733174324, 0.006803513970226049, -0.0016630811151117086, 0.0016945789102464914, -0.016970986500382423, 0.023988686501979828, -0.004828604869544506, 0.013997599482536316, 0.021809041500091553, 0.00258596520870924, 0.006286950781941414, -0.00994068942964077, 0.017172573134303093, -0.004797107074409723, 0.018760059028863907, 0.02309414930641651, -0.013922004960477352, 0.025223398581147194, 0.05326899513602257, 0.014929933473467827, 0.01598825678229332, -0.026231326162815094, 0.016945788636803627, -0.013997599482536316, 0.040468309074640274, -0.001568587962538004, 0.006835011765360832, -0.010381658561527729, -0.022350803017616272, -0.032127704471349716, 0.008384700864553452, 0.02940629981458187, -0.01151557732373476, 4.006120070698671e-05, -0.004302592482417822, 0.01369522139430046, 0.003363959724083543, 0.012416413053870201, 0.011736061424016953, -0.0010205270955339074, -0.005609749350696802, 0.021506663411855698, 0.000977217685431242, -0.011937647126615047, 0.012315619736909866, -0.006545232143253088, -0.014929933473467827, 0.0012614848092198372, 0.003056856570765376, -0.001115020364522934, 0.007194085977971554, 0.026281721889972687, 0.002989136381074786, -0.004793957341462374, 0.014955131337046623, 0.019062437117099762, 0.001685129594989121, -0.016819797456264496, 0.006879108492285013, 0.008907563984394073, -0.015421298332512379, -0.028221983462572098, 0.03243008255958557, 0.0036915361415594816, -0.01994437538087368, 0.03243008255958557, -0.005105785094201565, -0.00711849145591259, -0.020801113918423653, 0.021771244704723358, 0.003842725418508053, -0.015874866396188736, 0.02329573594033718, -0.003603342454880476, 0.017021384090185165, 0.03406796604394913, 0.031875722110271454, -0.002910392126068473, 0.010671437717974186, -0.0015693753957748413, -0.007805142551660538, 0.013745618052780628, 0.022527189925312996, -0.010324962437152863, -0.001388263306580484, -0.012164430692791939, -0.042332977056503296, -0.028448767960071564, 0.006441289559006691, -0.009209942072629929, 0.004595521837472916, 0.008403599262237549, -0.016555218026041985, 0.006047567818313837, 0.008372101932764053, 0.01887345127761364, -0.04061949625611305, 0.0088949641212821, 0.011994343250989914, 0.03883042559027672, -0.0068098134361207485, -0.020057767629623413, -0.028448767960071564, 0.015433897264301777, 0.020397942513227463, -0.0061483606696128845, 0.027970001101493835, -0.025702163577079773, -0.01733636111021042, 0.01625283807516098, -0.001163841807283461, -0.02230040729045868, 0.025223398581147194, -0.01268729381263256, 0.008989457972347736, -0.01645442470908165, 0.007238182704895735, -0.0178025271743536, -0.014173987321555614, 0.004428583662956953, 0.005814484786242247, 0.0011748661054298282, 0.0058522820472717285, -0.02867555059492588, 0.0029922861140221357, -0.019931776449084282, -0.0015528390649706125, -0.011937647126615047, 0.007332676090300083, -0.010696635581552982, 0.01433777529746294, 5.68928116990719e-05, 0.007773644756525755, -0.01591266319155693, 0.0006594841252081096, -0.02155705913901329, 0.0006059379666112363, -0.0022757123224437237, -0.038175273686647415, 0.004091557580977678, 0.10250627249479294, 0.010816327296197414, -0.0037828797940164804, 0.012592799961566925, 0.006545232143253088, -0.025349387899041176, -0.00970760639756918, 0.0019071886781603098, 0.01666860841214657, 0.00666492385789752, 0.025437582284212112, -2.9455317417159677e-05, 0.012813284061849117, 0.012510905973613262, 0.023535117506980896, -0.016630811616778374, -0.0076728519052267075, -0.030338631942868233, 0.004031711723655462, -0.0002880075480788946, 0.021128689870238304, -0.016945788636803627, 0.03285845369100571, 0.004954596050083637, -0.0014740946935489774, -0.009109148755669594, 0.015068523585796356, 0.0038836724124848843, 0.00562549801543355, -0.009644610807299614, 0.002408002968877554, 0.006195607129484415, 0.0010709235211834311, -0.004557724576443434, 0.004179751500487328, 0.04092187434434891, 0.020637325942516327, 0.010551746003329754, -0.0003622241201810539, -0.025084808468818665, 0.025021811947226524, 0.006160959601402283, -0.00535461725667119, -0.004699464421719313, 0.01699618622660637, -0.004356138873845339, 0.01074073277413845, 0.025878550484776497, -0.01061474159359932, -0.003026933642104268, 0.045633938163518906, 0.010891921818256378, -0.01967979408800602, -0.016416627913713455, 0.019289221614599228, 0.007962631061673164, 0.01369522139430046, -0.009046154096722603, -0.011219498701393604, 0.023673707619309425, 0.021116090938448906, -0.027012469246983528, 0.0017355260206386447, -0.003033233340829611, -0.013103064149618149, -0.012725090608000755, -0.0124290119856596, 0.004170301835983992, -0.023812297731637955, 0.004998692777007818, 0.000879574625287205, -0.02236340194940567, -0.015093721449375153, 0.021065695211291313, 0.019037239253520966, 0.0181301049888134, 0.025072207674384117, -0.006412941962480545, -0.009562716819345951, 0.01540869940072298, 0.005310520529747009, -0.023535117506980896, -0.022048424929380417, -0.027844009920954704, 0.014766144566237926, 0.010961216874420643, 0.007282279897481203, -0.013229054398834705, -0.0456591360270977, 0.017550546675920486, 0.006189307663589716, -0.0008126419270411134, 0.0248580239713192, -0.007200385443866253, -0.022716177627444267, 0.02665969543159008, -0.0012394364457577467, 0.011062009260058403, 0.004056910052895546, -0.002009556395933032, -0.0005504231667146087, 0.0009701306698843837, -0.03192611783742905, -0.013758216984570026, -0.025752559304237366, -0.006135761737823486, 0.0224893931299448, 0.014035397209227085, -0.012517205439507961, -0.0010827351361513138, 0.013985000550746918, -0.0063499463722109795, 0.0477001927793026, -0.00562549801543355, 0.006469637621194124, 0.023144546896219254, 0.003622241085395217, 0.017563145607709885, -0.004453781992197037, -0.012095135636627674, 0.010425754822790623, -0.01051394920796156, 0.01474094670265913, 0.011691964231431484, -0.013090464286506176, -0.0019103385275229812, 0.0023560316767543554, -0.016807198524475098, 0.001555988797917962, -0.0039120204746723175, 0.00028662951081059873, 0.02396348863840103, -0.02859995700418949, -0.032606471329927444, 0.01051394920796156, -0.023887893185019493, -0.012737689539790154, -0.01283218339085579, -0.021254681050777435, 0.006142061203718185, 0.000667752290610224, 0.005149881821125746, -0.0035686949267983437, -0.011899849399924278, 0.002242639660835266, -0.03255607560276985, -0.019629398360848427, -0.008548488840460777, -0.023194942623376846, 0.01699618622660637, -0.019490808248519897, 0.003934069070965052, -0.028373172506690025, -0.006053867284208536, 0.0036001927219331264, -0.008724876679480076, -0.0009409952908754349, -0.0008953235228545964, 0.03847765177488327, 0.011679365299642086, 0.017878122627735138, -0.009216241538524628, 0.0035277479328215122, 0.012895178981125355, 0.041526634246110916, 0.016756802797317505, 0.002198542933911085, 0.0077673448249697685, -0.013846410438418388, 0.029179515317082405, 0.02391309104859829, 0.021393271163105965, -0.018445082008838654, -0.017689136788249016, -0.01500552799552679, 0.01859627105295658, -0.009997385554015636, 0.0017607242334634066, 0.0029765372164547443, -0.024089477956295013, -0.004888450726866722, 0.0031639488879591227, -0.011313991621136665, 0.016618212684988976, 0.015534689649939537, 0.0074712662026286125, 0.0002791488077491522, 0.009096549823880196, -0.0013520409120246768, 0.01189354993402958, 0.013770815916359425, -0.02270357869565487, 0.009562716819345951, -0.0031151273287832737, -0.0070617953315377235, -0.0403171181678772, -0.010287164710462093, -0.014123590663075447, 0.006145210936665535, -0.017096977680921555, 0.0007744508911855519, 0.009077651426196098, 0.008957959711551666, -0.01057694386690855, -0.015333104878664017, 0.019024640321731567, -0.014110991731286049, -0.009991086088120937, 0.01232821960002184, -0.026987271383404732, -0.009008356370031834, 0.005924726836383343, -0.010595843195915222, -0.03820047155022621, -0.003606492420658469, 0.024366658180952072, -0.006608227733522654, 0.015660680830478668, 0.0012677843915298581, -0.04021632671356201, 0.017474951222538948, -0.012536103837192059, 0.007660252507776022, -0.010639939457178116, 0.017689136788249016, 0.01266209501773119, -0.0063499463722109795, -0.0028080244082957506, 0.020712919533252716, -0.011458881199359894, 0.004141954239457846, 0.028650352731347084, 0.025160402059555054, -0.008328004740178585, -0.002872594865038991, 0.0009992660488933325, 0.02524859644472599, -0.030993785709142685, -0.028625154867768288, 0.009178443811833858, -0.017222968861460686, -0.003442703979089856, -0.009695007465779781, -0.012951874174177647, -0.0074271694757044315, 0.02001996897161007, 0.0048790015280246735, -0.0067594172433018684, -0.003234818810597062, -0.0074712662026286125, -0.021443668752908707, 0.024555645883083344, -0.015093721449375153, 0.027289649471640587, 0.012321919202804565, -0.007830340415239334, 0.011206898838281631, -0.019919177517294884, 0.01955380290746689, 0.03459712862968445, -0.02572736144065857, 0.013342446647584438, -0.00031930842669680715, -0.010419455356895924, -0.03061581216752529, -0.004671116359531879, -0.017109576612710953, -0.00158591172657907, -0.0032143453136086464, 0.02774321846663952, 0.011736061424016953, 0.005184529349207878, -0.006860209628939629, -0.008101221174001694, -0.006683822255581617, -0.016152046620845795, -0.024543046951293945, -0.0036978358402848244, 0.008611484430730343, -0.018419884145259857, 0.003902571275830269, 0.014715748839080334, 0.00997848715633154, -0.019427811726927757, 0.0010646239388734102, -0.006450739223510027, 0.007742146961390972, 0.006022369489073753, 0.0014347224496304989, -0.007609856314957142, -0.010797428898513317, -0.019251424819231033, 0.009732804261147976, -0.007521662395447493, 0.0015929986257106066, -0.013355045579373837, 0.0033167130313813686, 0.01356923021376133, -0.02034754678606987, -0.019175829365849495, -0.014690550044178963, -0.006683822255581617, -0.00016683964349795133, -0.009991086088120937, 0.018041910603642464, -0.020838910713791847, -0.009814699180424213, -0.005124683957546949, -0.03658778592944145, -0.03076700121164322, -0.0016221341211348772, 0.004611270502209663, 0.00199695723131299, -0.022199613973498344, 0.030464623123407364, 0.01229042187333107, -0.00016802080790512264, -0.023119349032640457, 0.002592264674603939, 0.003149774856865406, -0.004107306711375713, 0.02203582599759102, 0.02451784908771515, -0.020914506167173386, 0.008239811286330223, -0.002842671936377883, 9.749538003234193e-05, -0.007773644756525755, -0.03041422739624977, -0.008227212354540825, -0.0073137772269546986, -0.004548274911940098, -0.0016961537767201662, 0.019730189815163612, -0.023724105209112167, -0.013040068559348583, -0.02216181717813015, 0.01644182577729225, -0.0048254551365971565, -0.011773859150707722, 0.010671437717974186, -0.0005519980331882834, -0.00842249859124422, -0.010009984485805035, -0.0037608311977237463, -0.004151403438299894, -0.02068772166967392, 0.002359181409701705, -0.030716605484485626, -0.0030237839091569185, 0.002121373312547803, 0.03343801200389862, -0.0006976751610636711, -0.002634786767885089, -0.013884208165109158, 0.0006098751910030842, -0.024618640542030334, -0.018281294032931328, -0.032127704471349716, 0.011805356480181217, 0.007225583773106337, 0.020977500826120377, 0.009052453562617302, 0.004066359251737595, -0.010501349344849586, 0.005364066921174526, -0.03016224503517151, -0.010696635581552982, 0.01988137885928154, -0.013745618052780628, 0.020775916054844856, 0.00038446940016001463, -0.026710091158747673, -0.024933617562055588, 0.024467451497912407, -0.005184529349207878, 0.007080694194883108, 0.027440838515758514, -0.04447482153773308, 0.0011795907048508525, -0.0005862518446519971, 0.005064838100224733, 0.00920364260673523, 0.012063638307154179, 0.03061581216752529, -0.01269359327852726, 0.021544460207223892, 0.010135975666344166, 0.0020331796258687973, -0.01699618622660637, -0.012781786732375622, 0.012567602097988129, 0.024769829586148262, 0.04916168749332428, 0.011339189484715462, 0.0022757123224437237, 0.0167945995926857, -0.020133361220359802, 0.02282956801354885, 0.001062261639162898, -0.001115020364522934, 0.025576172396540642, 0.009380029514431953, -0.011578572914004326, -0.01960419863462448, 0.0035088493023067713, -0.01178645808249712, -0.0007571271271444857, -0.007030297536402941, -0.0026269122026860714, 0.007609856314957142, 0.0035875935573130846, 0.0033104135654866695, 0.012743989005684853, -0.008516991510987282, -0.013392843306064606, -0.00802562665194273, -0.008479193784296513, 0.019490808248519897, 0.010602142661809921, -0.020738117396831512, 0.0021103492472320795, -0.007042896933853626, -0.01926402375102043, -0.020977500826120377, -0.027239253744482994, 0.007962631061673164, -0.002664709696546197, -0.025828154757618904, 0.003130876226350665, -0.03069140762090683, 0.0015441771829500794, 0.03192611783742905, 0.028121190145611763, 0.0031167021952569485, 0.015811869874596596, 0.20702840387821198, -0.006034968886524439, -0.004938846919685602, 0.027617227286100388, -0.025613969191908836, 0.018218297511339188, 0.015572487376630306, -0.016693808138370514, -0.007502763997763395, 0.023144546896219254, 0.001246523461304605, 0.003959266934543848, -0.003499399870634079, 0.005795585922896862, 0.009562716819345951, -0.009676109068095684, -0.028700748458504677, -0.036033425480127335, 0.0015638632467016578, -0.006488536484539509, 0.024001285433769226, 0.015068523585796356, 0.002568641444668174, -0.01373301912099123, 0.007502763997763395, 0.01433777529746294, 0.009518619626760483, -0.009342232719063759, 0.017109576612710953, -0.0010441504418849945, -0.026004541665315628, -0.017021384090185165, -0.012743989005684853, -0.003729333635419607, -0.01746235229074955, 0.007698049768805504, 0.006271202117204666, -0.017701735720038414, 0.004145103972405195, 0.011704564094543457, -0.02613053284585476, -0.012750289402902126, -0.006727919448167086, -0.019893977791070938, -0.014136189594864845, 0.03741932660341263, -0.005414463113993406, -0.010753331705927849, 0.008642982691526413, 0.019919177517294884, -0.02834797464311123, -0.004343539476394653, 0.03096858784556389, -0.0019386864732950926, 0.0038395756855607033, 0.008101221174001694, 0.02645810879766941, 0.011351789347827435, 0.0027481785509735346, 0.01794111728668213, -0.024152474477887154, 0.0077232480980455875, -0.02532419003546238, 0.022993357852101326, -0.016240239143371582, 0.01673160493373871, -0.02256498858332634, -0.015169315971434116, 0.0020914506167173386, -0.017714334651827812, -0.02425326779484749, 0.008353203535079956, -0.016089050099253654, 0.01356923021376133, 0.011597471311688423, -0.01853327639400959, 0.04132504761219025, 0.008781572803854942, 0.02390049211680889, 0.004759309813380241, 0.0004720725119113922, 0.012246324680745602, 0.004705763887614012, -0.00930443499237299, -0.02633211947977543, 0.0019103385275229812, -0.013418041169643402, 0.02027195133268833, 0.00012736902863252908, 0.022854767739772797, -0.012397514656186104, -0.018835654482245445, -0.016013456508517265, 0.01766393706202507, 0.006639725528657436, 0.005704242270439863, 0.007068094797432423, 0.001176440971903503, -0.019704991951584816, 0.0048790015280246735, -0.03875483199954033, 0.0090713519603014, 0.036915361881256104, 0.0010252516949549317, -0.029053524136543274, 0.006340497173368931, -0.0020930254831910133, 0.00866818055510521, 0.027314849197864532, -0.0201459601521492, -0.0005429424345493317, -0.0008205163758248091, -0.008731176145374775, 0.005030190572142601, -0.007395671680569649, 0.03638619929552078, -0.018886050209403038, -0.03326162323355675, 0.029456695541739464, 0.007773644756525755, -0.00816421676427126, -0.04150143638253212, -0.010413155891001225, 0.019704991951584816, -0.009096549823880196, -0.022250009700655937, -0.019641997292637825, 0.023283137008547783, -0.011068308725953102, -0.02129247784614563, 0.013770815916359425, -0.0018678165506571531, -0.0038458751514554024, -0.007609856314957142, 0.0013173933839425445, 0.008586286567151546, -0.009764302521944046, 0.005537304561585188, -0.000689013279043138, -0.001685129594989121, -0.006734218914061785, -0.0375957153737545, 0.003918319940567017, 0.03250567615032196, -0.004063209518790245, -0.011225798167288303, 0.015837067738175392, 0.01419918518513441, 0.00041222680010832846, 0.0024174521677196026, -0.006595628801733255, -0.003499399870634079, -0.000674051814712584, -0.017537947744131088, -0.004192350432276726, -0.010765930637717247, -0.020057767629623413, -0.017651338130235672, -0.0027182558551430702, 0.01785292476415634, -0.013153459876775742, 0.018848253414034843, 0.022061023861169815, -0.001727651571854949, -0.008718577213585377, -0.01087932288646698, -0.15683358907699585, 0.03245528042316437, 0.026155730709433556, -0.02008296549320221, -0.0027718020137399435, 0.023484721779823303, -0.0012811709893867373, -0.027844009920954704, -0.011477779597043991, -0.012441610917448997, 0.018016712740063667, 0.0062460037879645824, -0.01941521279513836, -0.011641568504273891, -0.009323333390057087, -0.0033797086216509342, -0.009783200919628143, 0.019780587404966354, 0.040468309074640274, 0.008195714093744755, 0.005433361977338791, -0.012680994346737862, 0.009443025104701519, -0.03452153503894806, -0.005449110642075539, 0.010469852015376091, 0.0062963999807834625, -0.010356459766626358, 0.0018977393629029393, -0.026206128299236298, -0.00485065346583724, -0.0022820120211690664, 0.02243899740278721, -0.01356923021376133, 0.009254038333892822, 0.015131519176065922, -0.008031926117837429, -0.014249581843614578, -0.002505646087229252, 0.007433468941599131, 0.017966317012906075, 0.03096858784556389, -0.012347117997705936, -0.0069673024117946625, -0.015610285103321075, 0.00258596520870924, 0.010432054288685322, -0.0008425647974945605, 0.022867366671562195, -0.002283586887642741, 0.018898649141192436, -0.014841740019619465, 0.009159545414149761, 0.010828926227986813, 0.01591266319155693, -0.014816541224718094, 0.007666552439332008, 0.021393271163105965, 0.004998692777007818, 0.010274565778672695, -0.036839768290519714, -0.01279438566416502, 0.0281967855989933, -0.03174973279237747, -0.005924726836383343, 0.011295093223452568, -0.01988137885928154, -0.003474201774224639, -0.04051870480179787, 0.017701735720038414, -0.009285536594688892, 0.004601821303367615, 0.0029922861140221357, -0.03283325582742691, -0.008403599262237549, -0.008624083362519741, -0.015043324790894985, -0.003461602609604597, -0.03729333356022835, 0.007049196399748325, -0.005968823563307524, 0.016504820436239243, 0.007880737073719501, -0.0017985214944928885, -0.02458084374666214, -0.03890601918101311, 0.002995436079800129, 0.012221126817166805, -0.03701615333557129, -0.011862052604556084, 0.004343539476394653, -0.04135024547576904, -0.0483553446829319, -0.018684465438127518, 0.006746817845851183, -0.00141818611882627, 0.004601821303367615, 0.003192296950146556, -0.0020363295916467905, -0.028851939365267754, -0.025084808468818665, -0.014325176365673542, -0.021405870094895363, 0.011087208054959774, 0.05871180444955826, -0.0004614420176949352, 0.00866188108921051, -0.0034143561497330666, 0.026004541665315628, 0.009846196509897709, -0.024681637063622475, 0.010186372324824333, 0.014551959931850433, 0.05195868760347366, -0.04822935536503792, 0.01825609616935253, 0.024795029312372208, -0.004724662285298109, 0.010665138252079487, 0.0016008730744943023, 0.05614158883690834, -0.0021780694369226694, -0.005096335895359516, -0.009852495975792408, 0.004274244420230389, 0.010696635581552982, -0.09157025814056396, -0.005345168057829142, 0.007345275022089481, 0.028221983462572098, 0.010161173529922962, 0.01111870538443327, -0.0030978035647422075, -0.013821212574839592, -0.0022520890925079584, 0.04376927390694618, 0.008611484430730343, -0.025802956894040108, 0.0014630705118179321, 0.01966719515621662, 0.010778529569506645, -0.0007890186388976872, 0.021582258865237236, -0.021103492006659508, -0.036033425480127335, 0.012366016395390034, -0.008624083362519741, -0.021771244704723358, -0.00408210838213563, -0.0013284175656735897, 0.0001452833676012233, 0.002389104338362813, -0.016504820436239243, 0.002168620005249977, 0.007817741483449936, -0.012743989005684853, -0.030741803348064423, -0.015736276283860207, -0.0003632084117271006, -0.03177493065595627, -0.0033356116618961096, 0.016555218026041985, -0.011836853809654713, -0.013266852125525475, 0.020725518465042114, 0.0007776006823405623, 0.015345703810453415, 0.024492649361491203, 0.01966719515621662, 0.015837067738175392, 0.03769650682806969, -0.006740518379956484, -0.046364687383174896, 0.02208622172474861, -0.005379815585911274, -0.044500019401311874, -0.03537827357649803, 0.00471521308645606, -0.001844193204306066, -0.009487122297286987, 0.027491236105561256, -0.016807198524475098, 0.01625283807516098, -0.002689907792955637, 0.0011882525868713856, -0.018054509535431862, 0.020032567903399467, -0.0004389998794067651, -0.031396955251693726, 0.014854338951408863, 0.011427383869886398, -0.016404027119278908, -0.006589329335838556, -0.02027195133268833, 0.014325176365673542, -0.004041161388158798, -0.013607027940452099, -0.008674480020999908, -0.013518834486603737, 0.028499163687229156, -0.0026253373362123966, 0.011339189484715462, -0.044021256268024445, -0.030389029532670975, 0.018432483077049255, -0.04283693805336952, 0.004110456444323063, -0.010728133842349052, 0.0052947718650102615, -0.00826500914990902, 0.028725948184728622, 0.011836853809654713, 0.005124683957546949, 0.02056173048913479, 0.024417055770754814, -0.008592586033046246, -0.028448767960071564, 0.0201459601521492, 0.005266423802822828, -0.023547718301415443, 0.013077865354716778, 0.017563145607709885, 0.010148574598133564, -0.011956545524299145, 0.0008000428206287324, 0.018092308193445206, -0.02121688425540924, -0.0191506315022707, -0.06430580466985703, 0.045507948845624924, 0.028423568233847618, 0.00242532673291862, 0.014992929063737392, -0.006954703014343977, 0.02653370425105095, 0.02417767234146595, 0.012668394483625889, 0.012977072969079018, -0.009562716819345951, 0.022615384310483932, 0.0012386490125209093, -0.010148574598133564, -0.020939704030752182, -0.0211538877338171, 0.016227640211582184, 0.02759202942252159, 0.005244375206530094, 0.008844568394124508, -0.006403492297977209, 0.00022284657461568713, 0.027440838515758514, 0.028247181326150894, 0.0078933360055089, -0.007212984841316938, 0.0010205270955339074, 0.0056947930715978146, -0.00703659700229764, 0.016605613753199577, -0.01011077780276537, -0.024404456838965416, -0.0038868223782628775, 0.020574329420924187, 0.016366230323910713, -0.024744631722569466, -0.02230040729045868, 0.010167473927140236, -0.00856108870357275, 0.03245528042316437, -0.014854338951408863, -0.039183199405670166, 0.0021560208406299353, 0.002719830721616745, -0.008951660245656967, 0.030867794528603554, 0.00022205912682693452, -0.009398928843438625, 0.012624298222362995, 0.016744203865528107, 0.0051152342930436134, 0.022804370149970055, -0.003896271577104926, -0.02323273941874504, -0.020372744649648666, 0.00842879805713892, -0.0038805226795375347, -0.009915491566061974, -0.022804370149970055, -0.015295307151973248, 0.04104786738753319, 0.010721834376454353, -0.01631583459675312, -0.009039853699505329, 0.02169564925134182, -0.027768416330218315, -0.0012024266179651022, -0.007320077158510685, 0.0038080778904259205, -0.03217810019850731, -0.014766144566237926, 0.010192671790719032, 0.014539361000061035, 0.022136617451906204, 0.013808613643050194, 0.002548167947679758, -0.015496892854571342, 0.0068098134361207485, -0.0009315459174104035, 0.012359716929495335, -0.027894407510757446, 0.00543966144323349, -0.030137047171592712, 0.027088064700365067, 0.016605613753199577, 0.026962073519825935, -0.03275765851140022, 0.0029922861140221357, -0.006242854055017233, 0.015446496196091175, 0.03227889537811279, 0.0075594596564769745, 0.02202322706580162, -0.005225476808845997, 0.01603865437209606, 0.0032631668727844954, 9.897183190332726e-05, -0.026206128299236298, 0.02424066886305809, 0.01188725046813488, 0.018508076667785645, -0.013014869764447212, 0.015673279762268066, -0.031800128519535065, -0.013229054398834705, -0.008951660245656967, -0.034420739859342575, -0.01699618622660637, -0.02565176784992218, -0.011685664765536785, 0.01658041588962078, 0.026584099978208542, 0.000516169355250895, 0.015181914903223515, -0.0002193030813941732, -0.019516006112098694, 0.005723141133785248, -0.006923205219209194, -0.01921362802386284, 0.013859009370207787, 0.01847027987241745, -0.007149989251047373, 0.012485708110034466, -0.008353203535079956, 0.0060444180853664875, -0.005471159238368273, 0.03028823621571064, -0.04754900187253952, 0.014010199345648289, -0.028121190145611763, 0.00869967881590128, 0.010117077268660069, -0.015207113698124886, -0.011427383869886398, 0.005124683957546949, -0.01927662268280983, 0.019238825887441635, 0.009820998646318913, -0.03190091997385025, 0.06254193186759949, 0.002047353656962514, -0.009783200919628143, 0.02597934380173683, -0.016227640211582184, 0.006469637621194124, 0.029028326272964478, -0.010696635581552982, -0.02202322706580162, -0.017159974202513695, -0.014829140156507492, -0.013846410438418388, 0.011206898838281631, -0.0003433254605624825, -0.01591266319155693, -0.0026946323923766613, 0.006312149111181498, 0.024127276614308357, -0.028977928683161736, -0.02000737003982067, 0.014022798277437687, 0.010595843195915222, -0.0016867044614627957, 0.021796442568302155, -0.010828926227986813, 0.010873023420572281, 0.017437154427170753, 0.0013725144090130925, 0.001509529654867947, -0.03477351367473602, 0.014854338951408863, 2.9061595341772772e-05, -0.025550974532961845, -0.017575744539499283, 0.005417612846940756, -0.021443668752908707, -0.0014985054731369019, 0.003019059309735894, 0.006302699446678162, 0.015081122517585754, -0.0033230124972760677, 0.017890721559524536, -0.009883994236588478, -0.017361558973789215, 0.00816421676427126, 0.022061023861169815, -0.002756053116172552, -0.022313006222248077, -0.0035308976657688618], properties={'_node_content': '{\"id_\": \"1\", \"embedding\": null, \"metadata\": {}, \"excluded_embed_metadata_keys\": [], \"excluded_llm_metadata_keys\": [], \"relationships\": {}, \"text\": \"\", \"mimetype\": \"text/plain\", \"start_char_idx\": null, \"end_char_idx\": null, \"text_template\": \"{metadata_str}\\\\n\\\\n{content}\", \"metadata_template\": \"{key}: {value}\", \"metadata_seperator\": \"\\\\n\", \"class_name\": \"TextNode\"}', '_node_type': 'TextNode', 'document_id': 'None', 'doc_id': 'None', 'ref_doc_id': 'None'}, text='\\nMarie Curie, born in 1867, was a Polish and naturalised-French physicist and chemist who conducted pioneering research on radioactivity.\\nShe was the first woman to win a Nobel Prize, the first person to win a Nobel Prize twice, and the only person to win a Nobel Prize in two scientific fields.\\nHer husband, Pierre Curie, was a co-winner of her first Nobel Prize, making them the first-ever married couple to win the Nobel Prize and launching the Curie family legacy of five Nobel Prizes.\\nShe was, in 1906, the first woman to become a professor at the University of Paris.\\n', id_='1')"
            ]
          },
          "metadata": {},
          "execution_count": 14
        }
      ],
      "source": [
        "list(index.property_graph_store.graph.nodes.values())[-1]"
      ]
    },
    {
      "cell_type": "code",
      "execution_count": 15,
      "metadata": {
        "id": "EJ9fD6R7hej6",
        "outputId": "4e6b9288-ed09-4288-86ae-44a4027187db",
        "colab": {
          "base_uri": "https://localhost:8080/"
        }
      },
      "outputs": [
        {
          "output_type": "execute_result",
          "data": {
            "text/plain": [
              "[]"
            ]
          },
          "metadata": {},
          "execution_count": 15
        }
      ],
      "source": [
        "list(index.property_graph_store.graph.relations.values())"
      ]
    },
    {
      "cell_type": "code",
      "execution_count": 16,
      "metadata": {
        "id": "nEsuTZBghej6",
        "outputId": "c74f2ee1-d370-4642-9bbd-c1188c2df499",
        "colab": {
          "base_uri": "https://localhost:8080/"
        }
      },
      "outputs": [
        {
          "output_type": "execute_result",
          "data": {
            "text/plain": [
              "[]"
            ]
          },
          "metadata": {},
          "execution_count": 16
        }
      ],
      "source": [
        "list(index.property_graph_store.graph.relations.values())"
      ]
    },
    {
      "cell_type": "markdown",
      "metadata": {
        "id": "56bqBgzRhej6"
      },
      "source": [
        "### Build communities\n",
        "\n",
        "This will create communities and summary for each community."
      ]
    },
    {
      "cell_type": "code",
      "source": [
        "index.property_graph_store.graph.nodes"
      ],
      "metadata": {
        "colab": {
          "base_uri": "https://localhost:8080/"
        },
        "id": "MLY4TcbwEcqW",
        "outputId": "c28347a6-4e8a-4e36-b287-11e352b77a1c"
      },
      "execution_count": 17,
      "outputs": [
        {
          "output_type": "execute_result",
          "data": {
            "text/plain": [
              "{'1': ChunkNode(label='text_chunk', embedding=[-0.018974244594573975, 0.006107413675636053, 0.0004858527972828597, -0.02102789841592312, -0.009241439402103424, 0.015207113698124886, 0.0002332802105229348, -0.0003600586496759206, -0.020309748128056526, -0.038250867277383804, 0.017109576612710953, 0.02471943385899067, 0.0031277264934033155, -0.011805356480181217, -0.017563145607709885, 0.00503963977098465, 0.02847396582365036, 0.009115449152886868, -0.0021575959399342537, -0.024404456838965416, -0.037898093461990356, 0.010488750413060188, -0.0032915149349719286, 0.006822412367910147, -0.0066019282676279545, -0.0008638257859274745, 0.03721773996949196, -0.02269097790122032, 0.022577587515115738, -0.04109826311469078, -0.015522090718150139, 0.0134306401014328, -0.005291622132062912, -0.025702163577079773, -0.03678937256336212, 0.008340603671967983, 0.0017843474633991718, 0.003817527322098613, -0.00503963977098465, 0.006450739223510027, -0.005474308971315622, 0.028297578915953636, 0.002359181409701705, -0.005949924699962139, -0.02545018121600151, 0.010936019010841846, -0.0019449860556051135, -0.01524491049349308, 0.010671437717974186, 0.017033983021974564, 0.03306003659963608, 0.00581133458763361, -0.00653263321146369, 0.0014701574109494686, -0.04356768727302551, -0.06022369861602783, -0.0012882580049335957, 0.027163658291101456, -0.012750289402902126, -0.007779944222420454, -0.0009677683701738715, -0.010671437717974186, -0.022010628134012222, 0.021267279982566833, -0.004252196289598942, -0.023484721779823303, 0.002219016430899501, 0.01510632038116455, -0.05246265232563019, 0.022779172286391258, 0.029330704361200333, -0.00027639276231639087, -0.008718577213585377, 0.01865926757454872, 0.020322347059845924, 0.0055310046300292015, -0.030464623123407364, 0.03149775043129921, 0.0067153200507164, 0.0023906792048364878, 0.009077651426196098, -0.01571107655763626, 0.03457193076610565, -0.0011669916566461325, 0.015446496196091175, -0.0009268212597817183, 0.00011644323967630044, 0.013896807096898556, -0.004809706471860409, -0.022653181105852127, 0.03394197300076485, 0.028423568233847618, -0.002143421908840537, -0.009052453562617302, -0.0030804798007011414, 0.01111240591853857, -0.005011292174458504, 0.026029739528894424, -0.01766393706202507, -0.034017570316791534, -0.006447589490562677, 0.0023072101175785065, -0.01693318970501423, -0.019175829365849495, -0.026206128299236298, 0.020574329420924187, 0.00471836281940341, -0.019314419478178024, 0.0008197289425879717, -0.01825609616935253, -0.018634067848324776, 0.010432054288685322, 0.03205211088061333, -0.025878550484776497, -0.002045778790488839, -0.02289256453514099, 0.001543389749713242, -0.010413155891001225, -0.0008937486563809216, 0.0016678058309480548, 0.014854338951408863, 0.027289649471640587, -0.005332569126039743, -0.012586500495672226, 0.03164893761277199, -0.0025828154757618904, -0.02653370425105095, -0.0034584528766572475, 0.016013456508517265, 0.009902892634272575, 0.0015213412698358297, -0.017235567793250084, 0.016504820436239243, 0.0009016231051646173, 0.018167901784181595, 0.0167945995926857, -0.04991763457655907, -0.014564559794962406, -0.004538825713098049, -0.0245052482932806, -0.015837067738175392, 0.028423568233847618, -0.019566401839256287, -0.003700985573232174, 0.0034773515071719885, 0.028322776779532433, 0.00738937221467495, 8.017161599127576e-05, 0.013632225804030895, 0.030641010031104088, 0.013644824735820293, 0.0026804585941135883, 0.02425326779484749, 0.004107306711375713, 0.020511334761977196, 0.00013760579167865217, -0.002762352582067251, 0.023459523916244507, 0.012643196620047092, -0.01306526642292738, 0.008945360779762268, 0.009600513614714146, 0.0029812620487064123, -0.005093186162412167, -0.012680994346737862, 0.026105334982275963, 0.029330704361200333, 0.030389029532670975, -0.008964259177446365, 0.0204861368983984, 0.0013173933839425445, 0.018356887623667717, -0.03366479650139809, 0.02613053284585476, -0.006501135416328907, 0.007194085977971554, 0.0029009426943957806, 0.01954120397567749, -0.012132933363318443, 0.012479408644139767, -0.019969573244452477, -0.019704991951584816, 0.005707392003387213, 0.018495477735996246, -0.010419455356895924, 0.008302806876599789, 0.00634364690631628, 0.00037305147270672023, 0.003871073480695486, 0.006419241428375244, -0.0026851831935346127, 0.02693687565624714, 0.011238397099077702, -0.0008346903487108648, -0.653943657875061, -0.019465608522295952, -0.03447113558650017, -0.012447910383343697, 0.0011646292405202985, 0.030842596665024757, 0.017563145607709885, -0.010444654151797295, -0.006507434882223606, 0.02693687565624714, -0.029784271493554115, 0.009676109068095684, -0.0018473430536687374, -0.004431733395904303, -0.024492649361491203, -0.028221983462572098, 0.0017024533590301871, -0.003584443824365735, 0.030515018850564957, 0.009663509204983711, -0.004964045248925686, 0.022187015041708946, -0.025210797786712646, 0.012888879515230656, -0.0078870365396142, -0.006526333745568991, 0.018495477735996246, -0.013884208165109158, -0.010520248673856258, 0.0006110563408583403, -0.014766144566237926, 0.03205211088061333, -0.0032127704471349716, -0.0015315780183300376, 0.038931217044591904, -0.005600299686193466, 0.007590957451611757, 0.04392046108841896, 0.01699618622660637, 0.020599527284502983, -0.02214921824634075, -0.01034386083483696, 0.0024473750963807106, -0.0026662845630198717, -0.0017323761712759733, 0.007597257383167744, -0.002663134830072522, 0.032732460647821426, -0.009984786622226238, 0.006608227733522654, 0.003981315530836582, -0.0015733125619590282, -0.006277501583099365, -0.001185102853924036, 0.0067594172433018684, 0.010009984485805035, 0.016542617231607437, -0.0034836512058973312, -0.017701735720038414, 0.005074287299066782, -0.0018473430536687374, 0.00575778866186738, 0.0017056030919775367, -0.004727812018245459, 0.006740518379956484, 0.011912449263036251, -0.026206128299236298, -0.012643196620047092, -0.002530844183638692, 0.00602551968768239, 0.014892135746777058, 0.0429629310965538, 0.011868352070450783, -0.004000214394181967, 0.014010199345648289, 0.022779172286391258, 0.024013884365558624, 0.006003471091389656, 0.011824254877865314, -0.0025702163111418486, 0.0031781229190528393, -0.04056910052895546, -0.038250867277383804, 0.011030511930584908, 0.03477351367473602, -0.03774690255522728, -0.02061212807893753, 0.023182343691587448, 0.04182901233434677, -0.0157866720110178, 0.014753545634448528, 0.013052667491137981, -0.006671223323792219, -0.017915919423103333, -0.014413369819521904, 0.022552387788891792, -9.24262058106251e-05, -0.017008785158395767, 0.0015670129796490073, -0.01940261386334896, -0.01292667631059885, -0.025752559304237366, 0.0006842886214144528, -0.028977928683161736, 0.00025237572845071554, -0.040065135806798935, 0.005779837258160114, -0.00217491970397532, 0.038780029863119125, -0.01994437538087368, -0.017159974202513695, 0.002658409997820854, -0.0062019070610404015, -0.00970130693167448, -0.015585086308419704, -0.020599527284502983, 0.012088836170732975, 0.01921362802386284, 0.019037239253520966, 0.017638739198446274, 0.02766762301325798, -0.010772230103611946, 0.01071553397923708, -0.011087208054959774, 0.01419918518513441, -0.003012759843841195, 0.015219712629914284, -0.0039561172015964985, -0.009317033924162388, -0.0034458537120372057, 0.009739103727042675, 0.0009724930278025568, 0.011326590552926064, -0.021859437227249146, 0.027239253744482994, 0.004170301835983992, -0.010646238923072815, -0.033538803458213806, 0.017815127968788147, -0.009279237128794193, -0.02996065840125084, 0.004151403438299894, -0.0014229108346626163, 0.015761474147439003, -0.004123055376112461, -0.026962073519825935, -0.027970001101493835, 0.008611484430730343, -0.03726813569664955, -0.004636468831449747, 0.011036811396479607, 0.009039853699505329, -0.026987271383404732, 0.03351360559463501, 0.023585515096783638, 0.00648223701864481, -0.014539361000061035, -0.003521448466926813, -0.020448338240385056, 0.015232311561703682, -0.0034395542461425066, 0.003915170207619667, -0.006721619516611099, 0.015811869874596596, 0.0029781123157590628, -0.0171347763389349, 0.00023190218780655414, 0.0035812940914183855, 0.007981529459357262, -0.03689016401767731, -0.014677951112389565, -0.0010945467511191964, -0.029582686722278595, -0.00829020794481039, 0.004680565558373928, 0.0014449593145400286, -0.00421439902856946, -0.0038931218441575766, -0.0005610536900348961, -0.009260338731110096, -0.026584099978208542, -0.023207541555166245, -0.009751703590154648, -0.0157740730792284, 0.016290636733174324, 0.006803513970226049, -0.0016630811151117086, 0.0016945789102464914, -0.016970986500382423, 0.023988686501979828, -0.004828604869544506, 0.013997599482536316, 0.021809041500091553, 0.00258596520870924, 0.006286950781941414, -0.00994068942964077, 0.017172573134303093, -0.004797107074409723, 0.018760059028863907, 0.02309414930641651, -0.013922004960477352, 0.025223398581147194, 0.05326899513602257, 0.014929933473467827, 0.01598825678229332, -0.026231326162815094, 0.016945788636803627, -0.013997599482536316, 0.040468309074640274, -0.001568587962538004, 0.006835011765360832, -0.010381658561527729, -0.022350803017616272, -0.032127704471349716, 0.008384700864553452, 0.02940629981458187, -0.01151557732373476, 4.006120070698671e-05, -0.004302592482417822, 0.01369522139430046, 0.003363959724083543, 0.012416413053870201, 0.011736061424016953, -0.0010205270955339074, -0.005609749350696802, 0.021506663411855698, 0.000977217685431242, -0.011937647126615047, 0.012315619736909866, -0.006545232143253088, -0.014929933473467827, 0.0012614848092198372, 0.003056856570765376, -0.001115020364522934, 0.007194085977971554, 0.026281721889972687, 0.002989136381074786, -0.004793957341462374, 0.014955131337046623, 0.019062437117099762, 0.001685129594989121, -0.016819797456264496, 0.006879108492285013, 0.008907563984394073, -0.015421298332512379, -0.028221983462572098, 0.03243008255958557, 0.0036915361415594816, -0.01994437538087368, 0.03243008255958557, -0.005105785094201565, -0.00711849145591259, -0.020801113918423653, 0.021771244704723358, 0.003842725418508053, -0.015874866396188736, 0.02329573594033718, -0.003603342454880476, 0.017021384090185165, 0.03406796604394913, 0.031875722110271454, -0.002910392126068473, 0.010671437717974186, -0.0015693753957748413, -0.007805142551660538, 0.013745618052780628, 0.022527189925312996, -0.010324962437152863, -0.001388263306580484, -0.012164430692791939, -0.042332977056503296, -0.028448767960071564, 0.006441289559006691, -0.009209942072629929, 0.004595521837472916, 0.008403599262237549, -0.016555218026041985, 0.006047567818313837, 0.008372101932764053, 0.01887345127761364, -0.04061949625611305, 0.0088949641212821, 0.011994343250989914, 0.03883042559027672, -0.0068098134361207485, -0.020057767629623413, -0.028448767960071564, 0.015433897264301777, 0.020397942513227463, -0.0061483606696128845, 0.027970001101493835, -0.025702163577079773, -0.01733636111021042, 0.01625283807516098, -0.001163841807283461, -0.02230040729045868, 0.025223398581147194, -0.01268729381263256, 0.008989457972347736, -0.01645442470908165, 0.007238182704895735, -0.0178025271743536, -0.014173987321555614, 0.004428583662956953, 0.005814484786242247, 0.0011748661054298282, 0.0058522820472717285, -0.02867555059492588, 0.0029922861140221357, -0.019931776449084282, -0.0015528390649706125, -0.011937647126615047, 0.007332676090300083, -0.010696635581552982, 0.01433777529746294, 5.68928116990719e-05, 0.007773644756525755, -0.01591266319155693, 0.0006594841252081096, -0.02155705913901329, 0.0006059379666112363, -0.0022757123224437237, -0.038175273686647415, 0.004091557580977678, 0.10250627249479294, 0.010816327296197414, -0.0037828797940164804, 0.012592799961566925, 0.006545232143253088, -0.025349387899041176, -0.00970760639756918, 0.0019071886781603098, 0.01666860841214657, 0.00666492385789752, 0.025437582284212112, -2.9455317417159677e-05, 0.012813284061849117, 0.012510905973613262, 0.023535117506980896, -0.016630811616778374, -0.0076728519052267075, -0.030338631942868233, 0.004031711723655462, -0.0002880075480788946, 0.021128689870238304, -0.016945788636803627, 0.03285845369100571, 0.004954596050083637, -0.0014740946935489774, -0.009109148755669594, 0.015068523585796356, 0.0038836724124848843, 0.00562549801543355, -0.009644610807299614, 0.002408002968877554, 0.006195607129484415, 0.0010709235211834311, -0.004557724576443434, 0.004179751500487328, 0.04092187434434891, 0.020637325942516327, 0.010551746003329754, -0.0003622241201810539, -0.025084808468818665, 0.025021811947226524, 0.006160959601402283, -0.00535461725667119, -0.004699464421719313, 0.01699618622660637, -0.004356138873845339, 0.01074073277413845, 0.025878550484776497, -0.01061474159359932, -0.003026933642104268, 0.045633938163518906, 0.010891921818256378, -0.01967979408800602, -0.016416627913713455, 0.019289221614599228, 0.007962631061673164, 0.01369522139430046, -0.009046154096722603, -0.011219498701393604, 0.023673707619309425, 0.021116090938448906, -0.027012469246983528, 0.0017355260206386447, -0.003033233340829611, -0.013103064149618149, -0.012725090608000755, -0.0124290119856596, 0.004170301835983992, -0.023812297731637955, 0.004998692777007818, 0.000879574625287205, -0.02236340194940567, -0.015093721449375153, 0.021065695211291313, 0.019037239253520966, 0.0181301049888134, 0.025072207674384117, -0.006412941962480545, -0.009562716819345951, 0.01540869940072298, 0.005310520529747009, -0.023535117506980896, -0.022048424929380417, -0.027844009920954704, 0.014766144566237926, 0.010961216874420643, 0.007282279897481203, -0.013229054398834705, -0.0456591360270977, 0.017550546675920486, 0.006189307663589716, -0.0008126419270411134, 0.0248580239713192, -0.007200385443866253, -0.022716177627444267, 0.02665969543159008, -0.0012394364457577467, 0.011062009260058403, 0.004056910052895546, -0.002009556395933032, -0.0005504231667146087, 0.0009701306698843837, -0.03192611783742905, -0.013758216984570026, -0.025752559304237366, -0.006135761737823486, 0.0224893931299448, 0.014035397209227085, -0.012517205439507961, -0.0010827351361513138, 0.013985000550746918, -0.0063499463722109795, 0.0477001927793026, -0.00562549801543355, 0.006469637621194124, 0.023144546896219254, 0.003622241085395217, 0.017563145607709885, -0.004453781992197037, -0.012095135636627674, 0.010425754822790623, -0.01051394920796156, 0.01474094670265913, 0.011691964231431484, -0.013090464286506176, -0.0019103385275229812, 0.0023560316767543554, -0.016807198524475098, 0.001555988797917962, -0.0039120204746723175, 0.00028662951081059873, 0.02396348863840103, -0.02859995700418949, -0.032606471329927444, 0.01051394920796156, -0.023887893185019493, -0.012737689539790154, -0.01283218339085579, -0.021254681050777435, 0.006142061203718185, 0.000667752290610224, 0.005149881821125746, -0.0035686949267983437, -0.011899849399924278, 0.002242639660835266, -0.03255607560276985, -0.019629398360848427, -0.008548488840460777, -0.023194942623376846, 0.01699618622660637, -0.019490808248519897, 0.003934069070965052, -0.028373172506690025, -0.006053867284208536, 0.0036001927219331264, -0.008724876679480076, -0.0009409952908754349, -0.0008953235228545964, 0.03847765177488327, 0.011679365299642086, 0.017878122627735138, -0.009216241538524628, 0.0035277479328215122, 0.012895178981125355, 0.041526634246110916, 0.016756802797317505, 0.002198542933911085, 0.0077673448249697685, -0.013846410438418388, 0.029179515317082405, 0.02391309104859829, 0.021393271163105965, -0.018445082008838654, -0.017689136788249016, -0.01500552799552679, 0.01859627105295658, -0.009997385554015636, 0.0017607242334634066, 0.0029765372164547443, -0.024089477956295013, -0.004888450726866722, 0.0031639488879591227, -0.011313991621136665, 0.016618212684988976, 0.015534689649939537, 0.0074712662026286125, 0.0002791488077491522, 0.009096549823880196, -0.0013520409120246768, 0.01189354993402958, 0.013770815916359425, -0.02270357869565487, 0.009562716819345951, -0.0031151273287832737, -0.0070617953315377235, -0.0403171181678772, -0.010287164710462093, -0.014123590663075447, 0.006145210936665535, -0.017096977680921555, 0.0007744508911855519, 0.009077651426196098, 0.008957959711551666, -0.01057694386690855, -0.015333104878664017, 0.019024640321731567, -0.014110991731286049, -0.009991086088120937, 0.01232821960002184, -0.026987271383404732, -0.009008356370031834, 0.005924726836383343, -0.010595843195915222, -0.03820047155022621, -0.003606492420658469, 0.024366658180952072, -0.006608227733522654, 0.015660680830478668, 0.0012677843915298581, -0.04021632671356201, 0.017474951222538948, -0.012536103837192059, 0.007660252507776022, -0.010639939457178116, 0.017689136788249016, 0.01266209501773119, -0.0063499463722109795, -0.0028080244082957506, 0.020712919533252716, -0.011458881199359894, 0.004141954239457846, 0.028650352731347084, 0.025160402059555054, -0.008328004740178585, -0.002872594865038991, 0.0009992660488933325, 0.02524859644472599, -0.030993785709142685, -0.028625154867768288, 0.009178443811833858, -0.017222968861460686, -0.003442703979089856, -0.009695007465779781, -0.012951874174177647, -0.0074271694757044315, 0.02001996897161007, 0.0048790015280246735, -0.0067594172433018684, -0.003234818810597062, -0.0074712662026286125, -0.021443668752908707, 0.024555645883083344, -0.015093721449375153, 0.027289649471640587, 0.012321919202804565, -0.007830340415239334, 0.011206898838281631, -0.019919177517294884, 0.01955380290746689, 0.03459712862968445, -0.02572736144065857, 0.013342446647584438, -0.00031930842669680715, -0.010419455356895924, -0.03061581216752529, -0.004671116359531879, -0.017109576612710953, -0.00158591172657907, -0.0032143453136086464, 0.02774321846663952, 0.011736061424016953, 0.005184529349207878, -0.006860209628939629, -0.008101221174001694, -0.006683822255581617, -0.016152046620845795, -0.024543046951293945, -0.0036978358402848244, 0.008611484430730343, -0.018419884145259857, 0.003902571275830269, 0.014715748839080334, 0.00997848715633154, -0.019427811726927757, 0.0010646239388734102, -0.006450739223510027, 0.007742146961390972, 0.006022369489073753, 0.0014347224496304989, -0.007609856314957142, -0.010797428898513317, -0.019251424819231033, 0.009732804261147976, -0.007521662395447493, 0.0015929986257106066, -0.013355045579373837, 0.0033167130313813686, 0.01356923021376133, -0.02034754678606987, -0.019175829365849495, -0.014690550044178963, -0.006683822255581617, -0.00016683964349795133, -0.009991086088120937, 0.018041910603642464, -0.020838910713791847, -0.009814699180424213, -0.005124683957546949, -0.03658778592944145, -0.03076700121164322, -0.0016221341211348772, 0.004611270502209663, 0.00199695723131299, -0.022199613973498344, 0.030464623123407364, 0.01229042187333107, -0.00016802080790512264, -0.023119349032640457, 0.002592264674603939, 0.003149774856865406, -0.004107306711375713, 0.02203582599759102, 0.02451784908771515, -0.020914506167173386, 0.008239811286330223, -0.002842671936377883, 9.749538003234193e-05, -0.007773644756525755, -0.03041422739624977, -0.008227212354540825, -0.0073137772269546986, -0.004548274911940098, -0.0016961537767201662, 0.019730189815163612, -0.023724105209112167, -0.013040068559348583, -0.02216181717813015, 0.01644182577729225, -0.0048254551365971565, -0.011773859150707722, 0.010671437717974186, -0.0005519980331882834, -0.00842249859124422, -0.010009984485805035, -0.0037608311977237463, -0.004151403438299894, -0.02068772166967392, 0.002359181409701705, -0.030716605484485626, -0.0030237839091569185, 0.002121373312547803, 0.03343801200389862, -0.0006976751610636711, -0.002634786767885089, -0.013884208165109158, 0.0006098751910030842, -0.024618640542030334, -0.018281294032931328, -0.032127704471349716, 0.011805356480181217, 0.007225583773106337, 0.020977500826120377, 0.009052453562617302, 0.004066359251737595, -0.010501349344849586, 0.005364066921174526, -0.03016224503517151, -0.010696635581552982, 0.01988137885928154, -0.013745618052780628, 0.020775916054844856, 0.00038446940016001463, -0.026710091158747673, -0.024933617562055588, 0.024467451497912407, -0.005184529349207878, 0.007080694194883108, 0.027440838515758514, -0.04447482153773308, 0.0011795907048508525, -0.0005862518446519971, 0.005064838100224733, 0.00920364260673523, 0.012063638307154179, 0.03061581216752529, -0.01269359327852726, 0.021544460207223892, 0.010135975666344166, 0.0020331796258687973, -0.01699618622660637, -0.012781786732375622, 0.012567602097988129, 0.024769829586148262, 0.04916168749332428, 0.011339189484715462, 0.0022757123224437237, 0.0167945995926857, -0.020133361220359802, 0.02282956801354885, 0.001062261639162898, -0.001115020364522934, 0.025576172396540642, 0.009380029514431953, -0.011578572914004326, -0.01960419863462448, 0.0035088493023067713, -0.01178645808249712, -0.0007571271271444857, -0.007030297536402941, -0.0026269122026860714, 0.007609856314957142, 0.0035875935573130846, 0.0033104135654866695, 0.012743989005684853, -0.008516991510987282, -0.013392843306064606, -0.00802562665194273, -0.008479193784296513, 0.019490808248519897, 0.010602142661809921, -0.020738117396831512, 0.0021103492472320795, -0.007042896933853626, -0.01926402375102043, -0.020977500826120377, -0.027239253744482994, 0.007962631061673164, -0.002664709696546197, -0.025828154757618904, 0.003130876226350665, -0.03069140762090683, 0.0015441771829500794, 0.03192611783742905, 0.028121190145611763, 0.0031167021952569485, 0.015811869874596596, 0.20702840387821198, -0.006034968886524439, -0.004938846919685602, 0.027617227286100388, -0.025613969191908836, 0.018218297511339188, 0.015572487376630306, -0.016693808138370514, -0.007502763997763395, 0.023144546896219254, 0.001246523461304605, 0.003959266934543848, -0.003499399870634079, 0.005795585922896862, 0.009562716819345951, -0.009676109068095684, -0.028700748458504677, -0.036033425480127335, 0.0015638632467016578, -0.006488536484539509, 0.024001285433769226, 0.015068523585796356, 0.002568641444668174, -0.01373301912099123, 0.007502763997763395, 0.01433777529746294, 0.009518619626760483, -0.009342232719063759, 0.017109576612710953, -0.0010441504418849945, -0.026004541665315628, -0.017021384090185165, -0.012743989005684853, -0.003729333635419607, -0.01746235229074955, 0.007698049768805504, 0.006271202117204666, -0.017701735720038414, 0.004145103972405195, 0.011704564094543457, -0.02613053284585476, -0.012750289402902126, -0.006727919448167086, -0.019893977791070938, -0.014136189594864845, 0.03741932660341263, -0.005414463113993406, -0.010753331705927849, 0.008642982691526413, 0.019919177517294884, -0.02834797464311123, -0.004343539476394653, 0.03096858784556389, -0.0019386864732950926, 0.0038395756855607033, 0.008101221174001694, 0.02645810879766941, 0.011351789347827435, 0.0027481785509735346, 0.01794111728668213, -0.024152474477887154, 0.0077232480980455875, -0.02532419003546238, 0.022993357852101326, -0.016240239143371582, 0.01673160493373871, -0.02256498858332634, -0.015169315971434116, 0.0020914506167173386, -0.017714334651827812, -0.02425326779484749, 0.008353203535079956, -0.016089050099253654, 0.01356923021376133, 0.011597471311688423, -0.01853327639400959, 0.04132504761219025, 0.008781572803854942, 0.02390049211680889, 0.004759309813380241, 0.0004720725119113922, 0.012246324680745602, 0.004705763887614012, -0.00930443499237299, -0.02633211947977543, 0.0019103385275229812, -0.013418041169643402, 0.02027195133268833, 0.00012736902863252908, 0.022854767739772797, -0.012397514656186104, -0.018835654482245445, -0.016013456508517265, 0.01766393706202507, 0.006639725528657436, 0.005704242270439863, 0.007068094797432423, 0.001176440971903503, -0.019704991951584816, 0.0048790015280246735, -0.03875483199954033, 0.0090713519603014, 0.036915361881256104, 0.0010252516949549317, -0.029053524136543274, 0.006340497173368931, -0.0020930254831910133, 0.00866818055510521, 0.027314849197864532, -0.0201459601521492, -0.0005429424345493317, -0.0008205163758248091, -0.008731176145374775, 0.005030190572142601, -0.007395671680569649, 0.03638619929552078, -0.018886050209403038, -0.03326162323355675, 0.029456695541739464, 0.007773644756525755, -0.00816421676427126, -0.04150143638253212, -0.010413155891001225, 0.019704991951584816, -0.009096549823880196, -0.022250009700655937, -0.019641997292637825, 0.023283137008547783, -0.011068308725953102, -0.02129247784614563, 0.013770815916359425, -0.0018678165506571531, -0.0038458751514554024, -0.007609856314957142, 0.0013173933839425445, 0.008586286567151546, -0.009764302521944046, 0.005537304561585188, -0.000689013279043138, -0.001685129594989121, -0.006734218914061785, -0.0375957153737545, 0.003918319940567017, 0.03250567615032196, -0.004063209518790245, -0.011225798167288303, 0.015837067738175392, 0.01419918518513441, 0.00041222680010832846, 0.0024174521677196026, -0.006595628801733255, -0.003499399870634079, -0.000674051814712584, -0.017537947744131088, -0.004192350432276726, -0.010765930637717247, -0.020057767629623413, -0.017651338130235672, -0.0027182558551430702, 0.01785292476415634, -0.013153459876775742, 0.018848253414034843, 0.022061023861169815, -0.001727651571854949, -0.008718577213585377, -0.01087932288646698, -0.15683358907699585, 0.03245528042316437, 0.026155730709433556, -0.02008296549320221, -0.0027718020137399435, 0.023484721779823303, -0.0012811709893867373, -0.027844009920954704, -0.011477779597043991, -0.012441610917448997, 0.018016712740063667, 0.0062460037879645824, -0.01941521279513836, -0.011641568504273891, -0.009323333390057087, -0.0033797086216509342, -0.009783200919628143, 0.019780587404966354, 0.040468309074640274, 0.008195714093744755, 0.005433361977338791, -0.012680994346737862, 0.009443025104701519, -0.03452153503894806, -0.005449110642075539, 0.010469852015376091, 0.0062963999807834625, -0.010356459766626358, 0.0018977393629029393, -0.026206128299236298, -0.00485065346583724, -0.0022820120211690664, 0.02243899740278721, -0.01356923021376133, 0.009254038333892822, 0.015131519176065922, -0.008031926117837429, -0.014249581843614578, -0.002505646087229252, 0.007433468941599131, 0.017966317012906075, 0.03096858784556389, -0.012347117997705936, -0.0069673024117946625, -0.015610285103321075, 0.00258596520870924, 0.010432054288685322, -0.0008425647974945605, 0.022867366671562195, -0.002283586887642741, 0.018898649141192436, -0.014841740019619465, 0.009159545414149761, 0.010828926227986813, 0.01591266319155693, -0.014816541224718094, 0.007666552439332008, 0.021393271163105965, 0.004998692777007818, 0.010274565778672695, -0.036839768290519714, -0.01279438566416502, 0.0281967855989933, -0.03174973279237747, -0.005924726836383343, 0.011295093223452568, -0.01988137885928154, -0.003474201774224639, -0.04051870480179787, 0.017701735720038414, -0.009285536594688892, 0.004601821303367615, 0.0029922861140221357, -0.03283325582742691, -0.008403599262237549, -0.008624083362519741, -0.015043324790894985, -0.003461602609604597, -0.03729333356022835, 0.007049196399748325, -0.005968823563307524, 0.016504820436239243, 0.007880737073719501, -0.0017985214944928885, -0.02458084374666214, -0.03890601918101311, 0.002995436079800129, 0.012221126817166805, -0.03701615333557129, -0.011862052604556084, 0.004343539476394653, -0.04135024547576904, -0.0483553446829319, -0.018684465438127518, 0.006746817845851183, -0.00141818611882627, 0.004601821303367615, 0.003192296950146556, -0.0020363295916467905, -0.028851939365267754, -0.025084808468818665, -0.014325176365673542, -0.021405870094895363, 0.011087208054959774, 0.05871180444955826, -0.0004614420176949352, 0.00866188108921051, -0.0034143561497330666, 0.026004541665315628, 0.009846196509897709, -0.024681637063622475, 0.010186372324824333, 0.014551959931850433, 0.05195868760347366, -0.04822935536503792, 0.01825609616935253, 0.024795029312372208, -0.004724662285298109, 0.010665138252079487, 0.0016008730744943023, 0.05614158883690834, -0.0021780694369226694, -0.005096335895359516, -0.009852495975792408, 0.004274244420230389, 0.010696635581552982, -0.09157025814056396, -0.005345168057829142, 0.007345275022089481, 0.028221983462572098, 0.010161173529922962, 0.01111870538443327, -0.0030978035647422075, -0.013821212574839592, -0.0022520890925079584, 0.04376927390694618, 0.008611484430730343, -0.025802956894040108, 0.0014630705118179321, 0.01966719515621662, 0.010778529569506645, -0.0007890186388976872, 0.021582258865237236, -0.021103492006659508, -0.036033425480127335, 0.012366016395390034, -0.008624083362519741, -0.021771244704723358, -0.00408210838213563, -0.0013284175656735897, 0.0001452833676012233, 0.002389104338362813, -0.016504820436239243, 0.002168620005249977, 0.007817741483449936, -0.012743989005684853, -0.030741803348064423, -0.015736276283860207, -0.0003632084117271006, -0.03177493065595627, -0.0033356116618961096, 0.016555218026041985, -0.011836853809654713, -0.013266852125525475, 0.020725518465042114, 0.0007776006823405623, 0.015345703810453415, 0.024492649361491203, 0.01966719515621662, 0.015837067738175392, 0.03769650682806969, -0.006740518379956484, -0.046364687383174896, 0.02208622172474861, -0.005379815585911274, -0.044500019401311874, -0.03537827357649803, 0.00471521308645606, -0.001844193204306066, -0.009487122297286987, 0.027491236105561256, -0.016807198524475098, 0.01625283807516098, -0.002689907792955637, 0.0011882525868713856, -0.018054509535431862, 0.020032567903399467, -0.0004389998794067651, -0.031396955251693726, 0.014854338951408863, 0.011427383869886398, -0.016404027119278908, -0.006589329335838556, -0.02027195133268833, 0.014325176365673542, -0.004041161388158798, -0.013607027940452099, -0.008674480020999908, -0.013518834486603737, 0.028499163687229156, -0.0026253373362123966, 0.011339189484715462, -0.044021256268024445, -0.030389029532670975, 0.018432483077049255, -0.04283693805336952, 0.004110456444323063, -0.010728133842349052, 0.0052947718650102615, -0.00826500914990902, 0.028725948184728622, 0.011836853809654713, 0.005124683957546949, 0.02056173048913479, 0.024417055770754814, -0.008592586033046246, -0.028448767960071564, 0.0201459601521492, 0.005266423802822828, -0.023547718301415443, 0.013077865354716778, 0.017563145607709885, 0.010148574598133564, -0.011956545524299145, 0.0008000428206287324, 0.018092308193445206, -0.02121688425540924, -0.0191506315022707, -0.06430580466985703, 0.045507948845624924, 0.028423568233847618, 0.00242532673291862, 0.014992929063737392, -0.006954703014343977, 0.02653370425105095, 0.02417767234146595, 0.012668394483625889, 0.012977072969079018, -0.009562716819345951, 0.022615384310483932, 0.0012386490125209093, -0.010148574598133564, -0.020939704030752182, -0.0211538877338171, 0.016227640211582184, 0.02759202942252159, 0.005244375206530094, 0.008844568394124508, -0.006403492297977209, 0.00022284657461568713, 0.027440838515758514, 0.028247181326150894, 0.0078933360055089, -0.007212984841316938, 0.0010205270955339074, 0.0056947930715978146, -0.00703659700229764, 0.016605613753199577, -0.01011077780276537, -0.024404456838965416, -0.0038868223782628775, 0.020574329420924187, 0.016366230323910713, -0.024744631722569466, -0.02230040729045868, 0.010167473927140236, -0.00856108870357275, 0.03245528042316437, -0.014854338951408863, -0.039183199405670166, 0.0021560208406299353, 0.002719830721616745, -0.008951660245656967, 0.030867794528603554, 0.00022205912682693452, -0.009398928843438625, 0.012624298222362995, 0.016744203865528107, 0.0051152342930436134, 0.022804370149970055, -0.003896271577104926, -0.02323273941874504, -0.020372744649648666, 0.00842879805713892, -0.0038805226795375347, -0.009915491566061974, -0.022804370149970055, -0.015295307151973248, 0.04104786738753319, 0.010721834376454353, -0.01631583459675312, -0.009039853699505329, 0.02169564925134182, -0.027768416330218315, -0.0012024266179651022, -0.007320077158510685, 0.0038080778904259205, -0.03217810019850731, -0.014766144566237926, 0.010192671790719032, 0.014539361000061035, 0.022136617451906204, 0.013808613643050194, 0.002548167947679758, -0.015496892854571342, 0.0068098134361207485, -0.0009315459174104035, 0.012359716929495335, -0.027894407510757446, 0.00543966144323349, -0.030137047171592712, 0.027088064700365067, 0.016605613753199577, 0.026962073519825935, -0.03275765851140022, 0.0029922861140221357, -0.006242854055017233, 0.015446496196091175, 0.03227889537811279, 0.0075594596564769745, 0.02202322706580162, -0.005225476808845997, 0.01603865437209606, 0.0032631668727844954, 9.897183190332726e-05, -0.026206128299236298, 0.02424066886305809, 0.01188725046813488, 0.018508076667785645, -0.013014869764447212, 0.015673279762268066, -0.031800128519535065, -0.013229054398834705, -0.008951660245656967, -0.034420739859342575, -0.01699618622660637, -0.02565176784992218, -0.011685664765536785, 0.01658041588962078, 0.026584099978208542, 0.000516169355250895, 0.015181914903223515, -0.0002193030813941732, -0.019516006112098694, 0.005723141133785248, -0.006923205219209194, -0.01921362802386284, 0.013859009370207787, 0.01847027987241745, -0.007149989251047373, 0.012485708110034466, -0.008353203535079956, 0.0060444180853664875, -0.005471159238368273, 0.03028823621571064, -0.04754900187253952, 0.014010199345648289, -0.028121190145611763, 0.00869967881590128, 0.010117077268660069, -0.015207113698124886, -0.011427383869886398, 0.005124683957546949, -0.01927662268280983, 0.019238825887441635, 0.009820998646318913, -0.03190091997385025, 0.06254193186759949, 0.002047353656962514, -0.009783200919628143, 0.02597934380173683, -0.016227640211582184, 0.006469637621194124, 0.029028326272964478, -0.010696635581552982, -0.02202322706580162, -0.017159974202513695, -0.014829140156507492, -0.013846410438418388, 0.011206898838281631, -0.0003433254605624825, -0.01591266319155693, -0.0026946323923766613, 0.006312149111181498, 0.024127276614308357, -0.028977928683161736, -0.02000737003982067, 0.014022798277437687, 0.010595843195915222, -0.0016867044614627957, 0.021796442568302155, -0.010828926227986813, 0.010873023420572281, 0.017437154427170753, 0.0013725144090130925, 0.001509529654867947, -0.03477351367473602, 0.014854338951408863, 2.9061595341772772e-05, -0.025550974532961845, -0.017575744539499283, 0.005417612846940756, -0.021443668752908707, -0.0014985054731369019, 0.003019059309735894, 0.006302699446678162, 0.015081122517585754, -0.0033230124972760677, 0.017890721559524536, -0.009883994236588478, -0.017361558973789215, 0.00816421676427126, 0.022061023861169815, -0.002756053116172552, -0.022313006222248077, -0.0035308976657688618], properties={'_node_content': '{\"id_\": \"1\", \"embedding\": null, \"metadata\": {}, \"excluded_embed_metadata_keys\": [], \"excluded_llm_metadata_keys\": [], \"relationships\": {}, \"text\": \"\", \"mimetype\": \"text/plain\", \"start_char_idx\": null, \"end_char_idx\": null, \"text_template\": \"{metadata_str}\\\\n\\\\n{content}\", \"metadata_template\": \"{key}: {value}\", \"metadata_seperator\": \"\\\\n\", \"class_name\": \"TextNode\"}', '_node_type': 'TextNode', 'document_id': 'None', 'doc_id': 'None', 'ref_doc_id': 'None'}, text='\\nMarie Curie, born in 1867, was a Polish and naturalised-French physicist and chemist who conducted pioneering research on radioactivity.\\nShe was the first woman to win a Nobel Prize, the first person to win a Nobel Prize twice, and the only person to win a Nobel Prize in two scientific fields.\\nHer husband, Pierre Curie, was a co-winner of her first Nobel Prize, making them the first-ever married couple to win the Nobel Prize and launching the Curie family legacy of five Nobel Prizes.\\nShe was, in 1906, the first woman to become a professor at the University of Paris.\\n', id_='1')}"
            ]
          },
          "metadata": {},
          "execution_count": 17
        }
      ]
    },
    {
      "cell_type": "code",
      "execution_count": 18,
      "metadata": {
        "id": "m67eY2mrhej7",
        "colab": {
          "base_uri": "https://localhost:8080/",
          "height": 391
        },
        "outputId": "1e50698b-ca08-4953-a793-d537ca8dd653"
      },
      "outputs": [
        {
          "output_type": "error",
          "ename": "EmptyNetworkError",
          "evalue": "EmptyNetworkError",
          "traceback": [
            "\u001b[0;31m---------------------------------------------------------------------------\u001b[0m",
            "\u001b[0;31mEmptyNetworkError\u001b[0m                         Traceback (most recent call last)",
            "\u001b[0;32m<ipython-input-18-da7a6c2d0847>\u001b[0m in \u001b[0;36m<cell line: 1>\u001b[0;34m()\u001b[0m\n\u001b[0;32m----> 1\u001b[0;31m \u001b[0mindex\u001b[0m\u001b[0;34m.\u001b[0m\u001b[0mproperty_graph_store\u001b[0m\u001b[0;34m.\u001b[0m\u001b[0mbuild_communities\u001b[0m\u001b[0;34m(\u001b[0m\u001b[0;34m)\u001b[0m\u001b[0;34m\u001b[0m\u001b[0;34m\u001b[0m\u001b[0m\n\u001b[0m",
            "\u001b[0;32m<ipython-input-7-88455f4bceab>\u001b[0m in \u001b[0;36mbuild_communities\u001b[0;34m(self)\u001b[0m\n\u001b[1;32m     36\u001b[0m         \u001b[0;34m\"\"\"Builds communities from the graph and summarizes them.\"\"\"\u001b[0m\u001b[0;34m\u001b[0m\u001b[0;34m\u001b[0m\u001b[0m\n\u001b[1;32m     37\u001b[0m         \u001b[0mnx_graph\u001b[0m \u001b[0;34m=\u001b[0m \u001b[0mself\u001b[0m\u001b[0;34m.\u001b[0m\u001b[0m_create_nx_graph\u001b[0m\u001b[0;34m(\u001b[0m\u001b[0;34m)\u001b[0m\u001b[0;34m\u001b[0m\u001b[0;34m\u001b[0m\u001b[0m\n\u001b[0;32m---> 38\u001b[0;31m         community_hierarchical_clusters = hierarchical_leiden(\n\u001b[0m\u001b[1;32m     39\u001b[0m             \u001b[0mnx_graph\u001b[0m\u001b[0;34m,\u001b[0m \u001b[0mmax_cluster_size\u001b[0m\u001b[0;34m=\u001b[0m\u001b[0mself\u001b[0m\u001b[0;34m.\u001b[0m\u001b[0mmax_cluster_size\u001b[0m\u001b[0;34m\u001b[0m\u001b[0;34m\u001b[0m\u001b[0m\n\u001b[1;32m     40\u001b[0m         )\n",
            "\u001b[0;32m<@beartype(graspologic.partition.leiden.hierarchical_leiden) at 0x7b5a1b18c5e0>\u001b[0m in \u001b[0;36mhierarchical_leiden\u001b[0;34m(__beartype_object_135627010947328, __beartype_object_135627019318336, __beartype_getrandbits, __beartype_get_violation, __beartype_conf, __beartype_object_99229120277312, __beartype_object_135627014327872, __beartype_object_135627016493312, __beartype_object_99229403571728, __beartype_object_99229398349728, __beartype_check_meta, __beartype_func, *args, **kwargs)\u001b[0m\n",
            "\u001b[0;32m/usr/local/lib/python3.10/dist-packages/graspologic/partition/leiden.py\u001b[0m in \u001b[0;36mhierarchical_leiden\u001b[0;34m(graph, max_cluster_size, starting_communities, extra_forced_iterations, resolution, randomness, use_modularity, random_seed, weight_attribute, is_weighted, weight_default, check_directed)\u001b[0m\n\u001b[1;32m    586\u001b[0m     )\n\u001b[1;32m    587\u001b[0m \u001b[0;34m\u001b[0m\u001b[0m\n\u001b[0;32m--> 588\u001b[0;31m     hierarchical_clusters_native = gn.hierarchical_leiden(\n\u001b[0m\u001b[1;32m    589\u001b[0m         \u001b[0medges\u001b[0m\u001b[0;34m=\u001b[0m\u001b[0medges\u001b[0m\u001b[0;34m,\u001b[0m\u001b[0;34m\u001b[0m\u001b[0;34m\u001b[0m\u001b[0m\n\u001b[1;32m    590\u001b[0m         \u001b[0mstarting_communities\u001b[0m\u001b[0;34m=\u001b[0m\u001b[0mnative_friendly_communities\u001b[0m\u001b[0;34m,\u001b[0m\u001b[0;34m\u001b[0m\u001b[0;34m\u001b[0m\u001b[0m\n",
            "\u001b[0;31mEmptyNetworkError\u001b[0m: EmptyNetworkError"
          ]
        }
      ],
      "source": [
        "index.property_graph_store.build_communities()"
      ]
    },
    {
      "cell_type": "markdown",
      "metadata": {
        "id": "qTR0bcSmhej7"
      },
      "source": [
        "### Create QueryEngine"
      ]
    },
    {
      "cell_type": "code",
      "source": [
        "query_engine = GraphRAGQueryEngine(\n",
        "    graph_store=index.property_graph_store, llm=llm\n",
        ")"
      ],
      "metadata": {
        "id": "FLx_24QieVgQ"
      },
      "execution_count": 19,
      "outputs": []
    },
    {
      "cell_type": "code",
      "source": [
        "response = query_engine.query(\"\"\"Who is Marie Curie?\"\"\")\n",
        "display(Markdown(f\"{response.response}\"))"
      ],
      "metadata": {
        "colab": {
          "base_uri": "https://localhost:8080/",
          "height": 408
        },
        "id": "ogemgM2heXaf",
        "outputId": "3722528e-c8d7-4a0c-d400-fb4140b71af5"
      },
      "execution_count": 20,
      "outputs": [
        {
          "output_type": "error",
          "ename": "EmptyNetworkError",
          "evalue": "EmptyNetworkError",
          "traceback": [
            "\u001b[0;31m---------------------------------------------------------------------------\u001b[0m",
            "\u001b[0;31mEmptyNetworkError\u001b[0m                         Traceback (most recent call last)",
            "\u001b[0;32m<ipython-input-20-b515d9dd8328>\u001b[0m in \u001b[0;36m<cell line: 1>\u001b[0;34m()\u001b[0m\n\u001b[0;32m----> 1\u001b[0;31m \u001b[0mresponse\u001b[0m \u001b[0;34m=\u001b[0m \u001b[0mquery_engine\u001b[0m\u001b[0;34m.\u001b[0m\u001b[0mquery\u001b[0m\u001b[0;34m(\u001b[0m\u001b[0;34m\"\"\"Who is Marie Curie?\"\"\"\u001b[0m\u001b[0;34m)\u001b[0m\u001b[0;34m\u001b[0m\u001b[0;34m\u001b[0m\u001b[0m\n\u001b[0m\u001b[1;32m      2\u001b[0m \u001b[0mdisplay\u001b[0m\u001b[0;34m(\u001b[0m\u001b[0mMarkdown\u001b[0m\u001b[0;34m(\u001b[0m\u001b[0;34mf\"{response.response}\"\u001b[0m\u001b[0;34m)\u001b[0m\u001b[0;34m)\u001b[0m\u001b[0;34m\u001b[0m\u001b[0;34m\u001b[0m\u001b[0m\n",
            "\u001b[0;32m/usr/local/lib/python3.10/dist-packages/llama_index/core/instrumentation/dispatcher.py\u001b[0m in \u001b[0;36mwrapper\u001b[0;34m(func, instance, args, kwargs)\u001b[0m\n\u001b[1;32m    309\u001b[0m \u001b[0;34m\u001b[0m\u001b[0m\n\u001b[1;32m    310\u001b[0m             \u001b[0;32mtry\u001b[0m\u001b[0;34m:\u001b[0m\u001b[0;34m\u001b[0m\u001b[0;34m\u001b[0m\u001b[0m\n\u001b[0;32m--> 311\u001b[0;31m                 \u001b[0mresult\u001b[0m \u001b[0;34m=\u001b[0m \u001b[0mfunc\u001b[0m\u001b[0;34m(\u001b[0m\u001b[0;34m*\u001b[0m\u001b[0margs\u001b[0m\u001b[0;34m,\u001b[0m \u001b[0;34m**\u001b[0m\u001b[0mkwargs\u001b[0m\u001b[0;34m)\u001b[0m\u001b[0;34m\u001b[0m\u001b[0;34m\u001b[0m\u001b[0m\n\u001b[0m\u001b[1;32m    312\u001b[0m                 \u001b[0;32mif\u001b[0m \u001b[0misinstance\u001b[0m\u001b[0;34m(\u001b[0m\u001b[0mresult\u001b[0m\u001b[0;34m,\u001b[0m \u001b[0masyncio\u001b[0m\u001b[0;34m.\u001b[0m\u001b[0mFuture\u001b[0m\u001b[0;34m)\u001b[0m\u001b[0;34m:\u001b[0m\u001b[0;34m\u001b[0m\u001b[0;34m\u001b[0m\u001b[0m\n\u001b[1;32m    313\u001b[0m                     \u001b[0;31m# If the result is a Future, wrap it\u001b[0m\u001b[0;34m\u001b[0m\u001b[0;34m\u001b[0m\u001b[0m\n",
            "\u001b[0;32m/usr/local/lib/python3.10/dist-packages/llama_index/core/query_engine/custom.py\u001b[0m in \u001b[0;36mquery\u001b[0;34m(self, str_or_query_bundle)\u001b[0m\n\u001b[1;32m     41\u001b[0m             \u001b[0;32melse\u001b[0m\u001b[0;34m:\u001b[0m\u001b[0;34m\u001b[0m\u001b[0;34m\u001b[0m\u001b[0m\n\u001b[1;32m     42\u001b[0m                 \u001b[0mquery_str\u001b[0m \u001b[0;34m=\u001b[0m \u001b[0mstr_or_query_bundle\u001b[0m\u001b[0;34m\u001b[0m\u001b[0;34m\u001b[0m\u001b[0m\n\u001b[0;32m---> 43\u001b[0;31m             \u001b[0mraw_response\u001b[0m \u001b[0;34m=\u001b[0m \u001b[0mself\u001b[0m\u001b[0;34m.\u001b[0m\u001b[0mcustom_query\u001b[0m\u001b[0;34m(\u001b[0m\u001b[0mquery_str\u001b[0m\u001b[0;34m)\u001b[0m\u001b[0;34m\u001b[0m\u001b[0;34m\u001b[0m\u001b[0m\n\u001b[0m\u001b[1;32m     44\u001b[0m             return (\n\u001b[1;32m     45\u001b[0m                 \u001b[0mResponse\u001b[0m\u001b[0;34m(\u001b[0m\u001b[0mraw_response\u001b[0m\u001b[0;34m)\u001b[0m\u001b[0;34m\u001b[0m\u001b[0;34m\u001b[0m\u001b[0m\n",
            "\u001b[0;32m/usr/local/lib/python3.10/dist-packages/llama_index/core/instrumentation/dispatcher.py\u001b[0m in \u001b[0;36mwrapper\u001b[0;34m(func, instance, args, kwargs)\u001b[0m\n\u001b[1;32m    309\u001b[0m \u001b[0;34m\u001b[0m\u001b[0m\n\u001b[1;32m    310\u001b[0m             \u001b[0;32mtry\u001b[0m\u001b[0;34m:\u001b[0m\u001b[0;34m\u001b[0m\u001b[0;34m\u001b[0m\u001b[0m\n\u001b[0;32m--> 311\u001b[0;31m                 \u001b[0mresult\u001b[0m \u001b[0;34m=\u001b[0m \u001b[0mfunc\u001b[0m\u001b[0;34m(\u001b[0m\u001b[0;34m*\u001b[0m\u001b[0margs\u001b[0m\u001b[0;34m,\u001b[0m \u001b[0;34m**\u001b[0m\u001b[0mkwargs\u001b[0m\u001b[0;34m)\u001b[0m\u001b[0;34m\u001b[0m\u001b[0;34m\u001b[0m\u001b[0m\n\u001b[0m\u001b[1;32m    312\u001b[0m                 \u001b[0;32mif\u001b[0m \u001b[0misinstance\u001b[0m\u001b[0;34m(\u001b[0m\u001b[0mresult\u001b[0m\u001b[0;34m,\u001b[0m \u001b[0masyncio\u001b[0m\u001b[0;34m.\u001b[0m\u001b[0mFuture\u001b[0m\u001b[0;34m)\u001b[0m\u001b[0;34m:\u001b[0m\u001b[0;34m\u001b[0m\u001b[0;34m\u001b[0m\u001b[0m\n\u001b[1;32m    313\u001b[0m                     \u001b[0;31m# If the result is a Future, wrap it\u001b[0m\u001b[0;34m\u001b[0m\u001b[0;34m\u001b[0m\u001b[0m\n",
            "\u001b[0;32m<ipython-input-8-a16554295454>\u001b[0m in \u001b[0;36mcustom_query\u001b[0;34m(self, query_str)\u001b[0m\n\u001b[1;32m      9\u001b[0m     \u001b[0;32mdef\u001b[0m \u001b[0mcustom_query\u001b[0m\u001b[0;34m(\u001b[0m\u001b[0mself\u001b[0m\u001b[0;34m,\u001b[0m \u001b[0mquery_str\u001b[0m\u001b[0;34m:\u001b[0m \u001b[0mstr\u001b[0m\u001b[0;34m)\u001b[0m \u001b[0;34m->\u001b[0m \u001b[0mstr\u001b[0m\u001b[0;34m:\u001b[0m\u001b[0;34m\u001b[0m\u001b[0;34m\u001b[0m\u001b[0m\n\u001b[1;32m     10\u001b[0m         \u001b[0;34m\"\"\"Process all community summaries to generate answers to a specific query.\"\"\"\u001b[0m\u001b[0;34m\u001b[0m\u001b[0;34m\u001b[0m\u001b[0m\n\u001b[0;32m---> 11\u001b[0;31m         \u001b[0mcommunity_summaries\u001b[0m \u001b[0;34m=\u001b[0m \u001b[0mself\u001b[0m\u001b[0;34m.\u001b[0m\u001b[0mgraph_store\u001b[0m\u001b[0;34m.\u001b[0m\u001b[0mget_community_summaries\u001b[0m\u001b[0;34m(\u001b[0m\u001b[0;34m)\u001b[0m\u001b[0;34m\u001b[0m\u001b[0;34m\u001b[0m\u001b[0m\n\u001b[0m\u001b[1;32m     12\u001b[0m         community_answers = [\n\u001b[1;32m     13\u001b[0m             \u001b[0mself\u001b[0m\u001b[0;34m.\u001b[0m\u001b[0mgenerate_answer_from_summary\u001b[0m\u001b[0;34m(\u001b[0m\u001b[0mcommunity_summary\u001b[0m\u001b[0;34m,\u001b[0m \u001b[0mquery_str\u001b[0m\u001b[0;34m)\u001b[0m\u001b[0;34m\u001b[0m\u001b[0;34m\u001b[0m\u001b[0m\n",
            "\u001b[0;32m<ipython-input-7-88455f4bceab>\u001b[0m in \u001b[0;36mget_community_summaries\u001b[0;34m(self)\u001b[0m\n\u001b[1;32m     89\u001b[0m         \u001b[0;34m\"\"\"Returns the community summaries, building them if not already done.\"\"\"\u001b[0m\u001b[0;34m\u001b[0m\u001b[0;34m\u001b[0m\u001b[0m\n\u001b[1;32m     90\u001b[0m         \u001b[0;32mif\u001b[0m \u001b[0;32mnot\u001b[0m \u001b[0mself\u001b[0m\u001b[0;34m.\u001b[0m\u001b[0mcommunity_summary\u001b[0m\u001b[0;34m:\u001b[0m\u001b[0;34m\u001b[0m\u001b[0;34m\u001b[0m\u001b[0m\n\u001b[0;32m---> 91\u001b[0;31m             \u001b[0mself\u001b[0m\u001b[0;34m.\u001b[0m\u001b[0mbuild_communities\u001b[0m\u001b[0;34m(\u001b[0m\u001b[0;34m)\u001b[0m\u001b[0;34m\u001b[0m\u001b[0;34m\u001b[0m\u001b[0m\n\u001b[0m\u001b[1;32m     92\u001b[0m         \u001b[0;32mreturn\u001b[0m \u001b[0mself\u001b[0m\u001b[0;34m.\u001b[0m\u001b[0mcommunity_summary\u001b[0m\u001b[0;34m\u001b[0m\u001b[0;34m\u001b[0m\u001b[0m\n",
            "\u001b[0;32m<ipython-input-7-88455f4bceab>\u001b[0m in \u001b[0;36mbuild_communities\u001b[0;34m(self)\u001b[0m\n\u001b[1;32m     36\u001b[0m         \u001b[0;34m\"\"\"Builds communities from the graph and summarizes them.\"\"\"\u001b[0m\u001b[0;34m\u001b[0m\u001b[0;34m\u001b[0m\u001b[0m\n\u001b[1;32m     37\u001b[0m         \u001b[0mnx_graph\u001b[0m \u001b[0;34m=\u001b[0m \u001b[0mself\u001b[0m\u001b[0;34m.\u001b[0m\u001b[0m_create_nx_graph\u001b[0m\u001b[0;34m(\u001b[0m\u001b[0;34m)\u001b[0m\u001b[0;34m\u001b[0m\u001b[0;34m\u001b[0m\u001b[0m\n\u001b[0;32m---> 38\u001b[0;31m         community_hierarchical_clusters = hierarchical_leiden(\n\u001b[0m\u001b[1;32m     39\u001b[0m             \u001b[0mnx_graph\u001b[0m\u001b[0;34m,\u001b[0m \u001b[0mmax_cluster_size\u001b[0m\u001b[0;34m=\u001b[0m\u001b[0mself\u001b[0m\u001b[0;34m.\u001b[0m\u001b[0mmax_cluster_size\u001b[0m\u001b[0;34m\u001b[0m\u001b[0;34m\u001b[0m\u001b[0m\n\u001b[1;32m     40\u001b[0m         )\n",
            "\u001b[0;32m<@beartype(graspologic.partition.leiden.hierarchical_leiden) at 0x7b5a1b18c5e0>\u001b[0m in \u001b[0;36mhierarchical_leiden\u001b[0;34m(__beartype_object_135627010947328, __beartype_object_135627019318336, __beartype_getrandbits, __beartype_get_violation, __beartype_conf, __beartype_object_99229120277312, __beartype_object_135627014327872, __beartype_object_135627016493312, __beartype_object_99229403571728, __beartype_object_99229398349728, __beartype_check_meta, __beartype_func, *args, **kwargs)\u001b[0m\n",
            "\u001b[0;32m/usr/local/lib/python3.10/dist-packages/graspologic/partition/leiden.py\u001b[0m in \u001b[0;36mhierarchical_leiden\u001b[0;34m(graph, max_cluster_size, starting_communities, extra_forced_iterations, resolution, randomness, use_modularity, random_seed, weight_attribute, is_weighted, weight_default, check_directed)\u001b[0m\n\u001b[1;32m    586\u001b[0m     )\n\u001b[1;32m    587\u001b[0m \u001b[0;34m\u001b[0m\u001b[0m\n\u001b[0;32m--> 588\u001b[0;31m     hierarchical_clusters_native = gn.hierarchical_leiden(\n\u001b[0m\u001b[1;32m    589\u001b[0m         \u001b[0medges\u001b[0m\u001b[0;34m=\u001b[0m\u001b[0medges\u001b[0m\u001b[0;34m,\u001b[0m\u001b[0;34m\u001b[0m\u001b[0;34m\u001b[0m\u001b[0m\n\u001b[1;32m    590\u001b[0m         \u001b[0mstarting_communities\u001b[0m\u001b[0;34m=\u001b[0m\u001b[0mnative_friendly_communities\u001b[0m\u001b[0;34m,\u001b[0m\u001b[0;34m\u001b[0m\u001b[0;34m\u001b[0m\u001b[0m\n",
            "\u001b[0;31mEmptyNetworkError\u001b[0m: EmptyNetworkError"
          ]
        }
      ]
    },
    {
      "cell_type": "code",
      "execution_count": null,
      "metadata": {
        "id": "8jmIo77mhej7"
      },
      "outputs": [],
      "source": [
        "query_engine = GraphRAGQueryEngine(\n",
        "    graph_store=index.property_graph_store, llm=llm\n",
        ")"
      ]
    },
    {
      "cell_type": "markdown",
      "metadata": {
        "id": "BGmroqPxhej7"
      },
      "source": [
        "### Querying"
      ]
    },
    {
      "cell_type": "code",
      "execution_count": null,
      "metadata": {
        "id": "blkFU-pvhej7",
        "outputId": "d05f0423-6060-4bca-9f96-0288b7d826eb"
      },
      "outputs": [
        {
          "data": {
            "text/markdown": [
              "The document discusses various news topics across different sectors. In the business sector, it mentions FirstEnergy being a publicly traded company on the New York Stock Exchange and State Street Corporation being listed on the NYSE. It also discusses Coinbase Global Inc.'s repurchase of $64.5 million worth of 0.50% convertible senior notes and the closure of the startup Protonn. In the political sphere, it highlights a theatrical act performed by Sinn Féin TD John Brady during a debate on retained firefighters. In the tech industry, it discusses the European Commission's actions against ZTE Corp. and TikTok Inc. due to security concerns. In the sports sector, it mentions Manchester United's interest in Harry Kane, the transfer of Jude Bellingham from Borussia Dortmund to Real Madrid, and the negotiation process for Maliek Collins' contract extension with the Houston Texans. In the music industry, it discusses the acquisition of The Hollies' recording catalog by BMG and the distribution pact between ADA Worldwide and Rostrum Records. In the hospitality sector, it mentions the partnership between Supplier.io and Hyatt Hotels. In the energy sector, it discusses the partnership between GE Vernova and Amplus Solar. In the gaming industry, it discusses the creation of the unannounced game \"Star Ocean: The Second Story R\" by Square Enix. In the automotive industry, it mentions the upcoming launch of the Hyundai Exter in India and Stellantis' plans to shut down the Belvidere Assembly Plant. In the airline industry, it discusses Deutsche Bank's decision to upgrade Allegiant Travel's status from Hold to Buy. In the football sector, it discusses the rejected bids made by Arsenal for Rice and the rejected bid received by Chelsea for Mason Mount. In the space industry, it mentions MDA Ltd.'s participation in the Jefferies Virtual Space Summit. In the transportation industry, it discusses Uber's strategic decision to exit the Israeli market and the emergence of Yango as a key player in the Israeli taxi market."
            ],
            "text/plain": [
              "<IPython.core.display.Markdown object>"
            ]
          },
          "metadata": {},
          "output_type": "display_data"
        }
      ],
      "source": [
        "response = query_engine.query(\"\"\"Who is Marie Curie?\"\"\")\n",
        "display(Markdown(f\"{response.response}\"))"
      ]
    },
    {
      "cell_type": "code",
      "execution_count": null,
      "metadata": {
        "id": "E1YEa9Puhej7",
        "outputId": "0d7beff9-4449-4d07-e970-42b7346f26dc"
      },
      "outputs": [
        {
          "data": {
            "text/markdown": [
              "The recent news related to the financial sector includes Morgan Stanley hiring Thomas Christl to co-head its coverage of consumer and retail clients in Europe. KeyBank has expanded its presence in the Western U.S. by opening a new branch in American Fork and donated $10,000 to the Five.12 Foundation. BMG has acquired the recording catalog of The Hollies, and Matt Pincus led a $15 million pre-growth round of investment for Soundtrack Your Brand. Hyatt Hotels and Supplier.io have been honored with the Supply & Demand Chain Executive 2023 Top Supply Chain Projects award. Bank of America Corp. reported a decline in uninsured deposits, while JPMorgan Chase & Co. reported a 1.9% increase in uninsured deposits. Coinbase Global Inc. repurchased $64.5 million worth of 0.50% convertible senior notes and also decided to repurchase its 0.50% Convertible Senior Notes due 2026 for approximately $45.5 million. Deutsche Bank upgraded Allegiant Travel's status from Hold to Buy and increased the price target to $145. Lastly, Tesla Inc.'s stock performance was analyzed by Ihor Dusaniwsky, a managing director at S3 Partners, and the company formed a significant partnership with General Motors Co. in the electric vehicle industry."
            ],
            "text/plain": [
              "<IPython.core.display.Markdown object>"
            ]
          },
          "metadata": {},
          "output_type": "display_data"
        }
      ],
      "source": [
        "response = query_engine.query(\"What are news related to financial sector?\")\n",
        "display(Markdown(f\"{response.response}\"))"
      ]
    },
    {
      "cell_type": "markdown",
      "metadata": {
        "id": "jPppUxdThej7"
      },
      "source": [
        "## Future Work:\n",
        "\n",
        "This cookbook is an approximate implementation of GraphRAG. In future cookbooks, we plan to extend it as follows:\n",
        "\n",
        "1. Implement retrieval using entity description embeddings.\n",
        "2. Integrate with Neo4JPropertyGraphStore.\n",
        "3. Calculate a helpfulness score for each answer generated from the community summaries and filter out answers where the helpfulness score is zero.\n",
        "4. Perform entity disambiguation to remove duplicate entities.\n",
        "5. Implement claims or covariate information extraction, Local Search and Global Search techniques."
      ]
    }
  ],
  "metadata": {
    "colab": {
      "provenance": []
    },
    "kernelspec": {
      "display_name": "Python 3",
      "name": "python3"
    },
    "language_info": {
      "codemirror_mode": {
        "name": "ipython",
        "version": 3
      },
      "file_extension": ".py",
      "mimetype": "text/x-python",
      "name": "python",
      "nbconvert_exporter": "python",
      "pygments_lexer": "ipython3"
    }
  },
  "nbformat": 4,
  "nbformat_minor": 0
}